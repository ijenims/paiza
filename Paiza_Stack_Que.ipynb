{
  "nbformat": 4,
  "nbformat_minor": 0,
  "metadata": {
    "colab": {
      "name": "Paiza_Stack_Que.ipynb",
      "provenance": [],
      "toc_visible": true,
      "authorship_tag": "ABX9TyO7nP2FHtsqu517JbdZBto0",
      "include_colab_link": true
    },
    "kernelspec": {
      "name": "python3",
      "display_name": "Python 3"
    },
    "language_info": {
      "name": "python"
    },
    "widgets": {
      "application/vnd.jupyter.widget-state+json": {
        "97ff48ddeff64010bfa5062a640747b9": {
          "model_module": "@jupyter-widgets/controls",
          "model_name": "TextareaModel",
          "model_module_version": "1.5.0",
          "state": {
            "_dom_classes": [],
            "_model_module": "@jupyter-widgets/controls",
            "_model_module_version": "1.5.0",
            "_model_name": "TextareaModel",
            "_view_count": null,
            "_view_module": "@jupyter-widgets/controls",
            "_view_module_version": "1.5.0",
            "_view_name": "TextareaView",
            "continuous_update": true,
            "description": "",
            "description_tooltip": null,
            "disabled": false,
            "layout": "IPY_MODEL_e310a72c7fde41c09eb78fdaa6f95f07",
            "placeholder": "​",
            "rows": null,
            "style": "IPY_MODEL_efea689fd4da402284f435862b61de3d",
            "value": "16\n)(((())(()()))))"
          }
        },
        "e310a72c7fde41c09eb78fdaa6f95f07": {
          "model_module": "@jupyter-widgets/base",
          "model_name": "LayoutModel",
          "model_module_version": "1.2.0",
          "state": {
            "_model_module": "@jupyter-widgets/base",
            "_model_module_version": "1.2.0",
            "_model_name": "LayoutModel",
            "_view_count": null,
            "_view_module": "@jupyter-widgets/base",
            "_view_module_version": "1.2.0",
            "_view_name": "LayoutView",
            "align_content": null,
            "align_items": null,
            "align_self": null,
            "border": null,
            "bottom": null,
            "display": null,
            "flex": null,
            "flex_flow": null,
            "grid_area": null,
            "grid_auto_columns": null,
            "grid_auto_flow": null,
            "grid_auto_rows": null,
            "grid_column": null,
            "grid_gap": null,
            "grid_row": null,
            "grid_template_areas": null,
            "grid_template_columns": null,
            "grid_template_rows": null,
            "height": null,
            "justify_content": null,
            "justify_items": null,
            "left": null,
            "margin": null,
            "max_height": null,
            "max_width": null,
            "min_height": null,
            "min_width": null,
            "object_fit": null,
            "object_position": null,
            "order": null,
            "overflow": null,
            "overflow_x": null,
            "overflow_y": null,
            "padding": null,
            "right": null,
            "top": null,
            "visibility": null,
            "width": null
          }
        },
        "efea689fd4da402284f435862b61de3d": {
          "model_module": "@jupyter-widgets/controls",
          "model_name": "DescriptionStyleModel",
          "model_module_version": "1.5.0",
          "state": {
            "_model_module": "@jupyter-widgets/controls",
            "_model_module_version": "1.5.0",
            "_model_name": "DescriptionStyleModel",
            "_view_count": null,
            "_view_module": "@jupyter-widgets/base",
            "_view_module_version": "1.2.0",
            "_view_name": "StyleView",
            "description_width": ""
          }
        }
      }
    }
  },
  "cells": [
    {
      "cell_type": "markdown",
      "metadata": {
        "id": "view-in-github",
        "colab_type": "text"
      },
      "source": [
        "<a href=\"https://colab.research.google.com/github/ijenims/paiza/blob/main/Paiza_Stack_Que.ipynb\" target=\"_parent\"><img src=\"https://colab.research.google.com/assets/colab-badge.svg\" alt=\"Open In Colab\"/></a>"
      ]
    },
    {
      "cell_type": "markdown",
      "source": [
        "# スタック・キューメニュー"
      ],
      "metadata": {
        "id": "b6W9CUsejDwh"
      }
    },
    {
      "cell_type": "markdown",
      "source": [
        "### [Template] ローカルでコードテスト環境を作る(Python,jupyter)"
      ],
      "metadata": {
        "id": "QJE3ZccJv7oG"
      }
    },
    {
      "cell_type": "markdown",
      "source": [
        "https://qiita.com/ryamamon/items/15ca78a0234d9d24452d"
      ],
      "metadata": {
        "id": "0p9DaDvK0FHF"
      }
    },
    {
      "cell_type": "code",
      "source": [
        "from ipywidgets import Textarea\n",
        "\n",
        "def input():\n",
        "    global input_count\n",
        "    input_text = Input.split('\\n')[input_count]\n",
        "    input_count += 1\n",
        "\n",
        "    return input_text\n",
        "\n",
        "\n",
        "def get_input(change):\n",
        "    global Input\n",
        "    Input = change['new']\n",
        "\n",
        "\n",
        "textarea = Textarea()\n",
        "textarea.observe(get_input, names='value')\n"
      ],
      "metadata": {
        "id": "6GlDZr76v4m8"
      },
      "execution_count": 1,
      "outputs": []
    },
    {
      "cell_type": "markdown",
      "source": [
        "### 入力テキストボックス（要実行）"
      ],
      "metadata": {
        "id": "AeE7pYBF3H49"
      }
    },
    {
      "cell_type": "code",
      "source": [
        "display(textarea)"
      ],
      "metadata": {
        "colab": {
          "base_uri": "https://localhost:8080/",
          "height": 57,
          "referenced_widgets": [
            "97ff48ddeff64010bfa5062a640747b9",
            "e310a72c7fde41c09eb78fdaa6f95f07",
            "efea689fd4da402284f435862b61de3d"
          ]
        },
        "id": "wU7Z_IQz3-kj",
        "outputId": "5bc64028-3a1a-455b-c203-d721fca12ff5"
      },
      "execution_count": 2,
      "outputs": [
        {
          "output_type": "display_data",
          "data": {
            "text/plain": [
              "Textarea(value='')"
            ],
            "application/vnd.jupyter.widget-view+json": {
              "version_major": 2,
              "version_minor": 0,
              "model_id": "97ff48ddeff64010bfa5062a640747b9"
            }
          },
          "metadata": {}
        }
      ]
    },
    {
      "cell_type": "markdown",
      "source": [
        "<font color=\"Red\">カウンタをゼロにしておく！！！</font>\n",
        "（各ソースコードにコピペ）"
      ],
      "metadata": {
        "id": "4dTHm4-P21n0"
      }
    },
    {
      "cell_type": "code",
      "source": [
        "input_count = 0    # Reset counter"
      ],
      "metadata": {
        "id": "7kQEaa4z1agU"
      },
      "execution_count": null,
      "outputs": []
    },
    {
      "cell_type": "markdown",
      "source": [
        "### ここからソースコード（実行不要）"
      ],
      "metadata": {
        "id": "SdDlNLAc1o19"
      }
    },
    {
      "cell_type": "code",
      "source": [
        "input_count = 0\n",
        "\n",
        "n = input()\n",
        "print(n)\n",
        "lst = input().split()\n",
        "print(lst)\n",
        "w = input()\n",
        "print(w)"
      ],
      "metadata": {
        "colab": {
          "base_uri": "https://localhost:8080/"
        },
        "id": "MHwhN88u1ybp",
        "outputId": "6fee0895-c40b-435f-9f24-932abc923c48"
      },
      "execution_count": null,
      "outputs": [
        {
          "output_type": "stream",
          "name": "stdout",
          "text": [
            "5\n",
            "['1', '-2', '3', '-4', '5', '-6']\n",
            "text\n"
          ]
        }
      ]
    },
    {
      "cell_type": "code",
      "source": [
        "# これは旧コード\n",
        "\n",
        "n, *a = Input.split()\n",
        "print(n, a)\n",
        "print(Input)\n",
        "Input"
      ],
      "metadata": {
        "colab": {
          "base_uri": "https://localhost:8080/",
          "height": 108
        },
        "id": "OkYAyWUjv50Y",
        "outputId": "e9272aa7-23bb-422d-b595-b7f5b3961a5d"
      },
      "execution_count": null,
      "outputs": [
        {
          "output_type": "stream",
          "name": "stdout",
          "text": [
            "5 ['1', '-2', '3', '-4', '5', '-6', 'text']\n",
            "5\n",
            "1 -2 3 -4 5 -6\n",
            "text\n"
          ]
        },
        {
          "output_type": "execute_result",
          "data": {
            "application/vnd.google.colaboratory.intrinsic+json": {
              "type": "string"
            },
            "text/plain": [
              "'5\\n1 -2 3 -4 5 -6\\ntext'"
            ]
          },
          "metadata": {},
          "execution_count": 35
        }
      ]
    },
    {
      "cell_type": "code",
      "source": [
        "n = Input\n",
        "print(n)"
      ],
      "metadata": {
        "colab": {
          "base_uri": "https://localhost:8080/"
        },
        "id": "vh9I1gg-v594",
        "outputId": "4c37c3db-4e15-4968-8af0-dbc9ac220936"
      },
      "execution_count": null,
      "outputs": [
        {
          "output_type": "stream",
          "name": "stdout",
          "text": [
            "5\n",
            "1 -2 3 -4 5 -6\n",
            "text\n"
          ]
        }
      ]
    },
    {
      "cell_type": "markdown",
      "source": [
        "### ========================================================================="
      ],
      "metadata": {
        "id": "_D-TbNbhh1lo"
      }
    },
    {
      "cell_type": "markdown",
      "source": [
        "## 箱とボール"
      ],
      "metadata": {
        "id": "h91-FK2flLeY"
      }
    },
    {
      "cell_type": "markdown",
      "source": [
        "### STEP: 5 エスカレーター (paizaランク B 相当)"
      ],
      "metadata": {
        "id": "Jj4jdjsZvkid"
      }
    },
    {
      "cell_type": "markdown",
      "source": [
        "#### Task"
      ],
      "metadata": {
        "id": "0X2Ep2PJv4FN"
      }
    },
    {
      "cell_type": "markdown",
      "source": [
        "paiza ビルにあるエスカレーターは全長 K メートルあり、 1 秒で 1 メートル進みます。また paiza ビルに勤める社員が N 人おり、 i 番目の社員は時刻 A_i にエスカレーターに乗ります。各社員がエスカレーターに乗った直後に、エスカレーター上にいる人数をそれぞれ答えてください。ただしある時刻にエスカレーターに乗る社員と降りる社員がいた場合、これは同時におこなわれます。\n",
        "\n",
        "この問題は少し難しいですが、キューを用いて実装してみましょう。なお、サンプル 1 のケースでは以下のように社員がエスカレーターに乗ります。"
      ],
      "metadata": {
        "id": "fAcOiJZLv69m"
      }
    },
    {
      "cell_type": "markdown",
      "source": [
        "input\n",
        "```\n",
        "N K\n",
        "A_1 ... A_N\n",
        "```"
      ],
      "metadata": {
        "id": "qeSN7PzpwCmE"
      }
    },
    {
      "cell_type": "markdown",
      "source": [
        "output\n",
        "\n",
        "社員 i がエスカレーターに乗った直後に、エスカレーター上にいる人数 E_i を改行区切りで出力してください。末尾には改行を入れ、余計な文字、空行を含んではいけません。\n",
        "```\n",
        "E_1\n",
        "...\n",
        "E_N\n",
        "```\n"
      ],
      "metadata": {
        "id": "Ax0QH9bmwJl4"
      }
    },
    {
      "cell_type": "markdown",
      "source": [
        "conditions\n",
        "\n",
        "・ N, A_i は 1 以上 50,000 未満<br>\n",
        "・ 1 ≦ A_1 < ... < A_N < 50,000<br>\n",
        "・ K は 1 以上 100 未満"
      ],
      "metadata": {
        "id": "4ENClVaQw9nk"
      }
    },
    {
      "cell_type": "markdown",
      "source": [
        "#### Code"
      ],
      "metadata": {
        "id": "rZu2wQgPxoas"
      }
    },
    {
      "cell_type": "code",
      "source": [
        "# 2022.3.28\n",
        "\n",
        "# Status : New\n",
        "\n",
        "input_count = 0    # Reset counter"
      ],
      "metadata": {
        "id": "z97oaQfYxjH7"
      },
      "execution_count": null,
      "outputs": []
    },
    {
      "cell_type": "markdown",
      "source": [
        "### STEP: 4 括弧列 (paizaランク C 相当)"
      ],
      "metadata": {
        "id": "oHIR9G8vHTJ9"
      }
    },
    {
      "cell_type": "markdown",
      "source": [
        "#### Task"
      ],
      "metadata": {
        "id": "0WT2Gz79KzOE"
      }
    },
    {
      "cell_type": "markdown",
      "source": [
        "N 文字の 括弧列 S が与えられます。与えられた 括弧列 が 正しい括弧列 かどうか判定してください。\n",
        "\n",
        "ここで、 括弧列 とは以下のように定義します。\n",
        "\n",
        "* `(` または `)` または空文字のみで構成される文字列\n",
        "\n",
        "また、 正しい括弧列 とは以下のように定義します。\n",
        "\n",
        "1. 空文字列は正しい括弧列である。\n",
        "2. 文字列 `s` が正しい括弧列であるとき、 `(` + s + `)` は正しい括弧列である。\n",
        "3. 文字列 `s` , `t` が正しい括弧列であるとき、 `s` + `t` は正しい括弧列である。\n",
        "\n",
        "たとえば、以下の文字列はすべて 正しい 括弧列です。\n",
        "\n",
        "```\n",
        "()\n",
        "(())\n",
        "()()\n",
        "(()())\n",
        "((((())())()))\n",
        "```\n",
        "\n",
        "また、以下の文字列はすべて 正しくない 括弧列です。\n",
        "```\n",
        ")(\n",
        "(\n",
        "())\n",
        "((())\n",
        "(()()))((()())()\n",
        "```"
      ],
      "metadata": {
        "id": "kOXWSeVKITL9"
      }
    },
    {
      "cell_type": "markdown",
      "source": [
        "input\n",
        "```\n",
        "N\n",
        "S\n",
        "```"
      ],
      "metadata": {
        "id": "jWwBUS6yJTzE"
      }
    },
    {
      "cell_type": "markdown",
      "source": [
        "output\n",
        "\n",
        "S が正しい括弧列の場合は `Yes` を、正しくない括弧列の場合は `No` を出力してください。末尾には改行を入れ、余計な文字、空行を含んではいけません。\n",
        "\n",
        "```\n",
        "Yes\n",
        "```\n",
        "または\n",
        "```\n",
        "No\n",
        "```"
      ],
      "metadata": {
        "id": "ha4RVpCVJbsi"
      }
    },
    {
      "cell_type": "markdown",
      "source": [
        "conditions\n",
        "\n",
        "・ N は 1 以上 50,000 未満<br>\n",
        "・ S の各文字は `(` または `)`"
      ],
      "metadata": {
        "id": "1lt_tBnNJoor"
      }
    },
    {
      "cell_type": "markdown",
      "source": [
        "#### Code"
      ],
      "metadata": {
        "id": "oAnKKEAvKwHQ"
      }
    },
    {
      "cell_type": "markdown",
      "source": [
        "疑似コード\n",
        "\n",
        "- 文字数、文字列の入力<br>\n",
        "- 文字列を最初から確認<br>\n",
        "- `(`であれば +1, `)`であれば -1<br>\n",
        "- 1回でもマイナスになれば `No`<br>\n",
        "- 最終的に `0` であれば `Yes` , そうでなければ `No` \n"
      ],
      "metadata": {
        "id": "J5YYXX2NLIuD"
      }
    },
    {
      "cell_type": "code",
      "source": [
        "# 2022.3.28\n",
        "\n",
        "# Status : Completed 3.28\n",
        "\n",
        "input_count = 0    # Reset counter\n",
        "\n",
        "def main():\n",
        "    n = int(input())\n",
        "    s_org = input()\n",
        "    s = list(s_org)\n",
        "    flag = 0\n",
        "\n",
        "    for c in s:\n",
        "        if c == '(':\n",
        "            flag += 1\n",
        "        if c == ')':\n",
        "            flag -= 1\n",
        "        \n",
        "        if flag < 0:\n",
        "            break\n",
        "\n",
        "    if flag == 0:\n",
        "        print('Yes')\n",
        "    else:\n",
        "        print('No')\n",
        "\n",
        "\n",
        "main()"
      ],
      "metadata": {
        "colab": {
          "base_uri": "https://localhost:8080/"
        },
        "id": "6gqw0rtkIL1_",
        "outputId": "ebdd837e-4b3f-4260-c0a4-6612f49eedb0"
      },
      "execution_count": 6,
      "outputs": [
        {
          "output_type": "stream",
          "name": "stdout",
          "text": [
            "No\n"
          ]
        }
      ]
    },
    {
      "cell_type": "markdown",
      "source": [
        "### STEP: 3 逆ポーランド記法 (paizaランク B 相当)"
      ],
      "metadata": {
        "id": "9c7PnVBZ3jn5"
      }
    },
    {
      "cell_type": "markdown",
      "source": [
        "#### Task"
      ],
      "metadata": {
        "id": "kRswuiMDHJdV"
      }
    },
    {
      "cell_type": "markdown",
      "source": [
        "逆ポーランド記法 で書かれた数式が与えられます。この数式を計算した結果を出力してください。この問題は少し難しいですが、スタックを用いて解いてみましょう。\n",
        "```\n",
        "(1 + 2) - (3 + 4)\n",
        "```\n",
        "\n",
        "これを逆ポーランド記法に変換すると以下のようになります。\n",
        "```\n",
        "1 2 + 3 4 + -\n",
        "```"
      ],
      "metadata": {
        "id": "Blz1ccYZ30Z4"
      }
    },
    {
      "cell_type": "markdown",
      "source": [
        "input\n",
        "\n",
        "1 行目に<font color=\"Red\">逆ポーランド記法</font>で書かれた数式の文字数 N が与えられます。 2 行目には逆ポーランド記法の数式 A の各文字が半角スペース区切りで与えられます。\n",
        "```\n",
        "N\n",
        "A_1 A_2 ... A_N\n",
        "```"
      ],
      "metadata": {
        "id": "_4EtssHj4AZY"
      }
    },
    {
      "cell_type": "markdown",
      "source": [
        "output\n",
        "\n",
        "逆ポーランド記法で計算した結果 R を出力してください。末尾には改行を入れ、余計な文字、空行を含んではいけません。\n",
        "```\n",
        "R\n",
        "```\n"
      ],
      "metadata": {
        "id": "xAtayhE_4T7N"
      }
    },
    {
      "cell_type": "markdown",
      "source": [
        "conditions\n",
        "\n",
        "・ N は 1 以上 10,000 未満<br>\n",
        "・ A_i は数値または演算子<br>\n",
        "・ A_i が数値の場合は 0 以上 10 未満<br>\n",
        "・ A_i が演算子の場合は + または -<br>\n",
        "・ 逆ポーランド記法で計算できない形式の入力は与えられない<br>"
      ],
      "metadata": {
        "id": "EKef7BrPPBAx"
      }
    },
    {
      "cell_type": "markdown",
      "source": [
        "input_2\n",
        "```\n",
        "7\n",
        "1 2 + 3 4 + -\n",
        "```\n",
        "output_2\n",
        "```\n",
        "-4\n",
        "```"
      ],
      "metadata": {
        "id": "FiqGfTW-wOhK"
      }
    },
    {
      "cell_type": "markdown",
      "source": [
        "#### Code"
      ],
      "metadata": {
        "id": "GTddrOmMHE52"
      }
    },
    {
      "cell_type": "code",
      "source": [
        "# 2022.1.20 \n",
        "\n",
        "# States : under construction 2022.1.20\n",
        "# status : Completed 2022.3.28 \n",
        "\n",
        "input_count = 0    # Reset counter\n",
        "'''\n",
        "def push_stack(a, x):\n",
        "    return a.append(x)\n",
        "\n",
        "def pop_stack(a):\n",
        "    return a.pop()\n",
        "\n",
        "def plus_stack(a):\n",
        "    acc = pop_stack(a)\n",
        "    return pop_stack(a) + acc\n",
        "\n",
        "def minus_stack(a):\n",
        "    acc = pop_stack(a)\n",
        "    return pop_stack(a) - acc\n",
        "'''\n",
        "def main():\n",
        "    n = int(input())\n",
        "    script = [s for s in input().split()]\n",
        "    print(script)\n",
        "\n",
        "    stack = []\n",
        "\n",
        "    for i in range(n):\n",
        "        acc = script[i]      # accumulator\n",
        "        print(i, script[i], stack)\n",
        "\n",
        "        if acc.isdecimal():\n",
        "            stack.append(int(acc))    # 数字の場合スタックに追加\n",
        "\n",
        "        elif acc == '+':\n",
        "            b = stack.pop()\n",
        "            a = stack.pop()\n",
        "            stack.append(a + b)\n",
        "\n",
        "        elif acc == '-':\n",
        "            b = stack.pop()\n",
        "            a = stack.pop()\n",
        "            stack.append(a - b)\n",
        "\n",
        "    print(stack[-1])\n",
        "\n",
        "\n",
        "main()"
      ],
      "metadata": {
        "id": "PakUvTOM4ikl",
        "colab": {
          "base_uri": "https://localhost:8080/"
        },
        "outputId": "eefd933c-8da3-4c94-c4d2-b35cbc29b004"
      },
      "execution_count": 20,
      "outputs": [
        {
          "output_type": "stream",
          "name": "stdout",
          "text": [
            "['1', '2', '+', '3', '4', '+', '-']\n",
            "0 1 []\n",
            "1 2 [1]\n",
            "2 + [1, 2]\n",
            "3 3 [3]\n",
            "4 4 [3, 3]\n",
            "5 + [3, 3, 4]\n",
            "6 - [3, 7]\n",
            "-4\n"
          ]
        }
      ]
    },
    {
      "cell_type": "markdown",
      "source": [
        "### STEP: 2 最大の区間和 (paizaランク B 相当)"
      ],
      "metadata": {
        "id": "ZnXOeAUrzc2n"
      }
    },
    {
      "cell_type": "markdown",
      "source": [
        "N 個の要素からなる数列 A があります。 A に含まれる連続した X 個の要素の和の最大値とその区間の左端の値を出力してください。ただし、要素の和の最大となる区間が複数ある場合はそのうちもっとも先頭の値を出力してください。\n",
        "たとえば、 `N = 4` , `A = [2, 3, 4, 1]` , `X = 2` とします。連続した 2 個の要素の和が最大となる区間は A の 2 番目から 3 番目まで( `3 + 4 = 7` が最大値 )なので、最大値 7 とその区間の左端の値 3 を出力します。\n",
        "\n",
        "また、実行時間に注意しましょう。たとえば以下の Python3 のプログラムのような、数列の要素数 N と和を求める連続する要素数 X を用いて、約 N * X 回足し算をおこなうプログラムはタイムオーバーになってしまうことがあります。キューまたはスタックを用いて効率のよいプログラムを意識しましょう。"
      ],
      "metadata": {
        "id": "3-H1ou_Xzpa-"
      }
    },
    {
      "cell_type": "markdown",
      "source": [
        "input\n",
        "```\n",
        "N X\n",
        "A_1 A_2 ... A_N\n",
        "```\n",
        "```\n",
        "4 2\n",
        "2 3 4 1\n",
        "```\n"
      ],
      "metadata": {
        "id": "9AeL0dxU9KXm"
      }
    },
    {
      "cell_type": "markdown",
      "source": [
        "output<br>\n",
        "X 個の要素の和の最大値 M とその区間の左端の値 L を半角スペース区切りで出力してください。要素の和の最大となる区間が複数ある場合はそのうちもっとも先頭の値を出力してください。\n",
        "```\n",
        "M L\n",
        "```"
      ],
      "metadata": {
        "id": "S6y7VOTk99cm"
      }
    },
    {
      "cell_type": "code",
      "source": [
        "%%time\n",
        "\n",
        "# 2022.2.20\n",
        "\n",
        "input_count = 0    # Reset counter\n",
        "\n",
        "def main():\n",
        "    n, x = map(int, input().split())\n",
        "    a = list(map(int, input().split()))\n",
        "\n",
        "    que_front = 0           # Queueの先頭初期値\n",
        "    left_value = a[0]       # 最大値の時の左端の初期値\n",
        "    max_sum = sum(a[:x])    # 最大値の初期値\n",
        "    temp = max_sum\n",
        "\n",
        "    for i in range(x, n):\n",
        "        \n",
        "        temp = temp + a[i] - a[que_front]\n",
        "\n",
        "        if temp > max_sum:\n",
        "            max_sum = temp\n",
        "            left_value = a[que_front + 1]\n",
        "\n",
        "        que_front += 1\n",
        "\n",
        "        print(i, f'temp = {temp} :', f'sum = {max_sum} :', f'a_i = {a[i]} :',\n",
        "              f'a_f = {a[que_front]} :', f'left = {left_value}')  # 消す\n",
        "\n",
        "    print(max_sum, left_value)\n",
        "\n",
        "    \n",
        "main()"
      ],
      "metadata": {
        "colab": {
          "base_uri": "https://localhost:8080/"
        },
        "id": "DYPnaODv88it",
        "outputId": "b1aa900b-c7f9-4f23-87c1-91baa3f6d55d"
      },
      "execution_count": null,
      "outputs": [
        {
          "output_type": "stream",
          "name": "stdout",
          "text": [
            "2 temp = 5 : sum = 5 : a_i = 3 : a_f = 2 : left = 2\n",
            "3 temp = 7 : sum = 7 : a_i = 4 : a_f = 3 : left = 3\n",
            "4 temp = 5 : sum = 7 : a_i = 1 : a_f = 4 : left = 3\n",
            "5 temp = 3 : sum = 7 : a_i = 2 : a_f = 1 : left = 3\n",
            "6 temp = 5 : sum = 7 : a_i = 3 : a_f = 2 : left = 3\n",
            "7 temp = 7 : sum = 7 : a_i = 4 : a_f = 3 : left = 3\n",
            "8 temp = 5 : sum = 7 : a_i = 1 : a_f = 4 : left = 3\n",
            "9 temp = 3 : sum = 7 : a_i = 2 : a_f = 1 : left = 3\n",
            "7 3\n",
            "CPU times: user 3.53 ms, sys: 2.33 ms, total: 5.87 ms\n",
            "Wall time: 4.44 ms\n"
          ]
        }
      ]
    },
    {
      "cell_type": "code",
      "source": [
        "aaa = [i for i in range(10)]\n",
        "print(sum(aaa[:4]))"
      ],
      "metadata": {
        "colab": {
          "base_uri": "https://localhost:8080/"
        },
        "id": "OvMcLDlVHrJZ",
        "outputId": "5c6e86cb-359f-4a43-c116-746461625cfb"
      },
      "execution_count": null,
      "outputs": [
        {
          "output_type": "stream",
          "name": "stdout",
          "text": [
            "6\n"
          ]
        }
      ]
    },
    {
      "cell_type": "markdown",
      "source": [
        "### STEP: 1 2つのキュー (paizaランク C 相当)"
      ],
      "metadata": {
        "id": "Rg8jUbgSlhnJ"
      }
    },
    {
      "cell_type": "markdown",
      "source": [
        "Q 個のクエリが与えられます。 2 つのキューを用意したあと、 Q 個のクエリを順に処理してください。各クエリは、以下の 5 つのいずれかです。\n",
        "\n",
        "・ PUSH 1 X: 1 つ目のキューに数値 X を追加<br>\n",
        "・ PUSH 2 X: 2 つ目のキューに数値 X を追加<br>\n",
        "・ POP 1: 1 つ目のキューの先頭の要素を削除し、その値を出力<br>\n",
        "・ POP 2: 2 つ目のキューの先頭の要素を削除し、その値を出力<br>\n",
        "・ SIZE: 1 つ目のキュー、 2 つ目のキューに含まれる要素数をそれぞれ出力<br>"
      ],
      "metadata": {
        "id": "1ZiZtgg0RC-H"
      }
    },
    {
      "cell_type": "markdown",
      "source": [
        "input\n",
        "```\n",
        "6\n",
        "1 1 2\n",
        "1 2 3\n",
        "1 1 4\n",
        "3\n",
        "2 1\n",
        "3\n",
        "```"
      ],
      "metadata": {
        "id": "vzljDHnbKUZf"
      }
    },
    {
      "cell_type": "markdown",
      "source": [
        "1 行目に Q が与えられます。続く Q 行にクエリが与えられます。 各クエリは<br>\n",
        "`1 K X`\n",
        "\n",
        "または<br>\n",
        "`2 K`\n",
        "\n",
        "または<br>\n",
        "`3`\n",
        "\n",
        "の形式で与えられ、最初の数値が 1 のとき PUSH 、 2 のとき POP 、 3 のとき SIZE を表します。 PUSH または POP のときは続いて数値 K が与えられます。 K が 1 のとき 1 つ目のキューに対して、 2 のとき 2 つ目のキューに対して操作が行われます。 PUSH のときはさらに数値 X が与えられます。\n"
      ],
      "metadata": {
        "id": "5WXWv4N3NrRT"
      }
    },
    {
      "cell_type": "code",
      "source": [
        "input_count = 0\n",
        "\n",
        "class Que:\n",
        "    def __init__(self):\n",
        "        self.a = []\n",
        "        self.queue_front = 0\n",
        "\n",
        "\n",
        "    def push_que(self, x):\n",
        "        ''' PUSHの場合、何も表示しない '''\n",
        "        return self.a.append(x)\n",
        "\n",
        "\n",
        "    def pop_que(self):\n",
        "        ''' POPの場合、削除する値を表示 '''\n",
        "        print(self.a[self.queue_front])\n",
        "        self.queue_front += 1\n",
        "\n",
        "\n",
        "    def size_que(self):\n",
        "        ''' SIZEの場合、キューの要素数を表示 '''\n",
        "        return len(self.a) - self.queue_front\n",
        "\n",
        "\n",
        "def main():\n",
        "    q = int(input())\n",
        "    a_1 = Que()\n",
        "    a_2 = Que()\n",
        "\n",
        "    for _ in range(q):\n",
        "        query = input().split()\n",
        "\n",
        "        if query[0] == '1':\n",
        "            if query[1] == '1':\n",
        "                a_1.push_que(query[2])\n",
        "            else:\n",
        "                a_2.push_que(query[2])\n",
        "\n",
        "        elif query[0] == '2':\n",
        "            if query[1] == '1':\n",
        "                a_1.pop_que()\n",
        "            else:\n",
        "                a_2.pop_que()\n",
        "\n",
        "        elif query[0] == '3':\n",
        "            print(a_1.size_que(), a_2.size_que())\n",
        "\n",
        "\n",
        "main()\n",
        "\n",
        "\n",
        "\n",
        "\n"
      ],
      "metadata": {
        "id": "PGL2rH18v6J4",
        "colab": {
          "base_uri": "https://localhost:8080/"
        },
        "outputId": "aa283b13-e789-47de-8620-c28fb2425683"
      },
      "execution_count": null,
      "outputs": [
        {
          "output_type": "stream",
          "name": "stdout",
          "text": [
            "2 1\n",
            "2\n",
            "1 1\n"
          ]
        }
      ]
    },
    {
      "cell_type": "markdown",
      "source": [
        "## キュー実装編"
      ],
      "metadata": {
        "id": "dVzeMMsvladM"
      }
    },
    {
      "cell_type": "markdown",
      "source": [
        "### step 2 (paizaランク C 相当)"
      ],
      "metadata": {
        "id": "BpMWhHVJAhXz"
      }
    },
    {
      "cell_type": "markdown",
      "source": [
        "Q 個のクエリが与えられます。空の配列 A を用意したあと、 Q 個のクエリに応じて以下の 2 種類の処理をしてください。\n",
        "\n",
        "・ PUSH X: 配列 A の末尾に 文字 X を追加<br>\n",
        "・ POP: 配列 A の先頭にある要素を出力し、削除\n",
        "\n",
        "各クエリの処理が終わったあと、配列 A の各要素の値を半角スペース区切りで出力してください。"
      ],
      "metadata": {
        "id": "QMcWwAEJA6VO"
      }
    },
    {
      "cell_type": "code",
      "source": [
        "input_count = 0\n",
        "\n",
        "def push_que(a, x):\n",
        "    return a.append(x)\n",
        "\n",
        "\n",
        "def show_que(a, q):\n",
        "    print(' '.join(a[q:]))\n",
        "\n",
        "\n",
        "def main():\n",
        "    n = int(input())\n",
        "    a = []\n",
        "    queue_front = 0    # queue の先頭を指示（リストから削除するわけではない）\n",
        "\n",
        "    for _ in range(n):\n",
        "        query = input().split()\n",
        "\n",
        "        if query[0] == '1':\n",
        "            push_que(a, query[1])\n",
        "\n",
        "        if query[0] == '2':\n",
        "            print(a[queue_front])    # pop 前の先頭要素を出力\n",
        "            queue_front += 1\n",
        "\n",
        "        show_que(a, queue_front)\n",
        "\n",
        "\n",
        "main()"
      ],
      "metadata": {
        "colab": {
          "base_uri": "https://localhost:8080/"
        },
        "id": "3VnKQHSwBZA_",
        "outputId": "82825ae8-ae4c-4618-f92d-f8b3eab01000"
      },
      "execution_count": null,
      "outputs": [
        {
          "output_type": "stream",
          "name": "stdout",
          "text": [
            "e\n",
            "e a\n",
            "e a c\n",
            "e\n",
            "a c\n"
          ]
        }
      ]
    },
    {
      "cell_type": "markdown",
      "source": [
        "### step 1 (paizaランク C 相当)"
      ],
      "metadata": {
        "id": "sneJpnlKFAjS"
      }
    },
    {
      "cell_type": "markdown",
      "source": [
        "キューとは、「先入れ先出し構造( First In, First Out )」などと呼ばれるデータ構造で、データの追加と、最初に追加したデータを取り出すことができます。\n",
        "\n",
        "Q 個のクエリが与えられます。空の配列 A を用意したあと、 Q 個のクエリに応じて以下の 2 種類の処理をしてください。\n",
        "\n",
        "・ PUSH X: 配列 A の末尾に X を追加<br>\n",
        "・ POP: 配列 A の先頭にある要素を削除\n",
        "\n",
        "各クエリの処理が終わったあと、配列 A の各要素の値を半角スペース区切りで出力してください。"
      ],
      "metadata": {
        "id": "cvm3EUDYFHWz"
      }
    },
    {
      "cell_type": "code",
      "source": [
        "input_count = 0\n",
        "\n",
        "def push_que(a, x):\n",
        "    return a.append(x)\n",
        "\n",
        "\n",
        "def pop_que(a):\n",
        "    del a[0]    # 計算量の都合で使わないほうが望ましい\n",
        "    return a\n",
        "\n",
        "\n",
        "def show_que(a, q):\n",
        "    print(' '.join(a[q:]))\n",
        "\n",
        "\n",
        "def main():\n",
        "    n = int(input())\n",
        "    a = []\n",
        "    queue_front = 0    # queue の先頭を指示（リストから削除するわけではない）\n",
        "\n",
        "    for _ in range(n):\n",
        "        query = input().split()\n",
        "\n",
        "        if query[0] == '1':\n",
        "            push_que(a, query[1])\n",
        "\n",
        "        if query[0] == '2':\n",
        "            queue_front += 1\n",
        "\n",
        "        show_que(a, queue_front)\n",
        "\n",
        "\n",
        "main()"
      ],
      "metadata": {
        "colab": {
          "base_uri": "https://localhost:8080/"
        },
        "id": "L-FX9mL3FWww",
        "outputId": "6ceca428-5422-4cf9-a2ff-5c090904a8d5"
      },
      "execution_count": null,
      "outputs": [
        {
          "output_type": "stream",
          "name": "stdout",
          "text": [
            "1\n",
            "1 4\n",
            "1 4 2\n",
            "4 2\n"
          ]
        }
      ]
    },
    {
      "cell_type": "markdown",
      "source": [
        "## スタック実装編 (paizaランク C 相当)"
      ],
      "metadata": {
        "id": "Evn9_mBKUMiL"
      }
    },
    {
      "cell_type": "markdown",
      "source": [
        "### step 2"
      ],
      "metadata": {
        "id": "u06IzjJ0loU8"
      }
    },
    {
      "cell_type": "markdown",
      "source": [
        "Q 個のクエリが与えられます。空の配列 A を用意したあと、 Q 個のクエリに応じて以下の 2 種類の処理をしてください。\n",
        "\n",
        "・ PUSH X: 配列 A の末尾に 文字 X を追加<br>\n",
        "・ POP: 配列 A の末尾にある要素を出力し、削除\n",
        "\n",
        "各クエリの処理が終わったあと、配列 A の各要素の値を半角スペース区切りで出力してください。"
      ],
      "metadata": {
        "id": "U1Rio_f0UlaQ"
      }
    },
    {
      "cell_type": "code",
      "source": [
        "input_count = 0\n",
        "\n",
        "def push_stack(a, x):\n",
        "    return a.append(x)\n",
        "\n",
        "\n",
        "def pop_stack(a):\n",
        "    return a.pop()\n",
        "\n",
        "\n",
        "def show_stack(a):\n",
        "    print(' '.join(a))\n",
        "\n",
        "\n",
        "def main():\n",
        "    n = int(input())\n",
        "    a = []\n",
        "\n",
        "    for _ in range(n):\n",
        "        query = input().split()\n",
        "\n",
        "        if query[0] == '1':\n",
        "            push_stack(a, query[1])\n",
        "            show_stack(a)\n",
        "\n",
        "        if query[0] == '2':\n",
        "            print(a[-1])\n",
        "            pop_stack(a)\n",
        "            show_stack(a)\n",
        "            \n",
        "\n",
        "main()\n"
      ],
      "metadata": {
        "colab": {
          "base_uri": "https://localhost:8080/"
        },
        "id": "3tu6Bp7RUnZA",
        "outputId": "e37911e1-cfb6-459b-e386-147f9bb3dbc1"
      },
      "execution_count": null,
      "outputs": [
        {
          "output_type": "stream",
          "name": "stdout",
          "text": [
            "e\n",
            "e\n",
            "\n",
            "c\n",
            "c\n",
            "\n"
          ]
        }
      ]
    },
    {
      "cell_type": "markdown",
      "source": [
        "### step 1 (paizaランク C 相当)"
      ],
      "metadata": {
        "id": "J6N3vqfa5zlZ"
      }
    },
    {
      "cell_type": "markdown",
      "source": [
        "スタックとは、「先入れ後出し構造( Last In, First Out )」などと呼ばれるデータ構造で、データの追加と、最後に追加したデータを取り出すことができます。\n",
        "\n",
        "Q 個のクエリが与えられます。空の配列 A を用意したあと、 Q 個のクエリに応じて以下の 2 種類の処理を行ってください。\n",
        "\n",
        "・ PUSH X: 配列 A の末尾に X を追加<br>\n",
        "・ POP: 配列 A の末尾にある要素を削除\n",
        "\n",
        "各クエリの処理が終わったあと、配列 A の各要素の値を半角スペース区切りで出力してください。"
      ],
      "metadata": {
        "id": "EKoDv8T26C3h"
      }
    },
    {
      "cell_type": "code",
      "source": [
        "def push_stack(a, x):\n",
        "    a.append(x)\n",
        "    return a\n",
        "\n",
        "\n",
        "def pop_stack(a):\n",
        "    a.pop()\n",
        "    return a\n",
        "\n",
        "\n",
        "def main():\n",
        "    n = int(input())\n",
        "    a = []\n",
        "\n",
        "    for i in range(n):\n",
        "        query = input().split()\n",
        "\n",
        "        if query[0] == '1':\n",
        "            push_stack(a, query[1])\n",
        "\n",
        "        if query[0] == '2':\n",
        "            pop_stack(a)\n",
        "        \n",
        "        print(' '.join(a))\n",
        "\n",
        "\n",
        "main()\n"
      ],
      "metadata": {
        "colab": {
          "base_uri": "https://localhost:8080/"
        },
        "id": "PzHRj78t6MDH",
        "outputId": "3b575d9d-766f-4790-c0cd-aeb10fa8b7e4"
      },
      "execution_count": null,
      "outputs": [
        {
          "output_type": "stream",
          "name": "stdout",
          "text": [
            "3\n",
            "1 10\n",
            "10\n",
            "1 20\n",
            "10 20\n",
            "2\n",
            "10\n"
          ]
        }
      ]
    },
    {
      "cell_type": "markdown",
      "source": [
        "## スタック・キュー実装編( 共通問題 )"
      ],
      "metadata": {
        "id": "-rzaDzzzl48U"
      }
    },
    {
      "cell_type": "markdown",
      "metadata": {
        "id": "SlzeJSBNOdvF"
      },
      "source": [
        "### step 2 (paizaランク D 相当)"
      ]
    },
    {
      "cell_type": "markdown",
      "metadata": {
        "id": "xM43nXBkOpcS"
      },
      "source": [
        "Q 個のクエリが与えられます。空の配列 A を用意したあと、 Q 個のクエリを順に処理してください。各クエリは、以下の 2 つのいずれかです。\n",
        "\n",
        "・ PUSH X: 配列 A の末尾に X を追加<br>\n",
        "・ STAY: 何もしない\n",
        "\n",
        "すべてのクエリの処理が終わったあと、配列 A の要素数 N と値をそれぞれ改行区切りで出力してください。"
      ]
    },
    {
      "cell_type": "code",
      "metadata": {
        "colab": {
          "base_uri": "https://localhost:8080/"
        },
        "id": "I_6ELBeOOmOU",
        "outputId": "4c4fc034-953d-4c6f-e825-a2cfa1696421"
      },
      "source": [
        "def push(a, x):\n",
        "    a.append(x)\n",
        "    return a\n",
        "\n",
        "\n",
        "def main():\n",
        "    n = int(input())\n",
        "    a = []\n",
        "\n",
        "    for i in range(n):\n",
        "        query = list(map(int, input().split()))\n",
        "        \n",
        "        if query[0] == 1:\n",
        "            push(a, query[1])\n",
        "        \n",
        "    print(len(a))\n",
        "    for j in a:\n",
        "        print(j)\n",
        "        \n",
        "\n",
        "main()"
      ],
      "execution_count": null,
      "outputs": [
        {
          "output_type": "stream",
          "name": "stdout",
          "text": [
            "3\n",
            "2\n",
            "2\n",
            "2\n",
            "0\n"
          ]
        }
      ]
    },
    {
      "cell_type": "markdown",
      "metadata": {
        "id": "XoTh72QZnXa8"
      },
      "source": [
        "### step 1 (paizaランク D 相当)"
      ]
    },
    {
      "cell_type": "markdown",
      "metadata": {
        "id": "4K6YURKNnvEQ"
      },
      "source": [
        "このメニューではスタックとキューというデータ構造をそれぞれ実装します。まずは、これらの実装に共通する部分のコードを用意することから始めましょう。\n",
        "\n",
        "そのため、各問題で書いたコードは消さずに、そのまま残しておくことをお勧めします( paiza 上にも保存はされています )。\n",
        "\n",
        "さて、 N 個の要素からなる数列 A が与えられます。1 行目に N を、 2 行目以降に A の各要素を改行区切りで出力してください。\n",
        "\n",
        "また次の問題のために、与えられた数値は配列に入れ、配列の中に入っている要素数を変数で管理しておくとよいです。"
      ]
    },
    {
      "cell_type": "code",
      "metadata": {
        "id": "WBgGBAGopTno",
        "colab": {
          "base_uri": "https://localhost:8080/"
        },
        "outputId": "c74ed4ed-486c-4c0d-aab2-6ff7cc00fe48"
      },
      "source": [
        "def main():\n",
        "    n = int(input())\n",
        "    a = []\n",
        "\n",
        "    for _ in range(n):\n",
        "        a.append(input())\n",
        "\n",
        "    print(n)\n",
        "    for i in a:\n",
        "        print(i)\n",
        "\n",
        "\n",
        "main()\n"
      ],
      "execution_count": null,
      "outputs": [
        {
          "output_type": "stream",
          "name": "stdout",
          "text": [
            "3\n",
            "2\n",
            "2\n",
            "2\n",
            "3\n",
            "2\n",
            "2\n",
            "2\n"
          ]
        }
      ]
    }
  ]
}