{
  "nbformat": 4,
  "nbformat_minor": 0,
  "metadata": {
    "colab": {
      "name": "Paiza_Stack_Que.ipynb",
      "provenance": [],
      "toc_visible": true,
      "authorship_tag": "ABX9TyNlJvyanUvSWo3VAO+wWnus",
      "include_colab_link": true
    },
    "kernelspec": {
      "name": "python3",
      "display_name": "Python 3"
    },
    "language_info": {
      "name": "python"
    },
    "widgets": {
      "application/vnd.jupyter.widget-state+json": {
        "1fbea77c356b48279c754140bab30d70": {
          "model_module": "@jupyter-widgets/controls",
          "model_name": "TextareaModel",
          "model_module_version": "1.5.0",
          "state": {
            "_dom_classes": [],
            "_model_module": "@jupyter-widgets/controls",
            "_model_module_version": "1.5.0",
            "_model_name": "TextareaModel",
            "_view_count": null,
            "_view_module": "@jupyter-widgets/controls",
            "_view_module_version": "1.5.0",
            "_view_name": "TextareaView",
            "continuous_update": true,
            "description": "",
            "description_tooltip": null,
            "disabled": false,
            "layout": "IPY_MODEL_8f220333663647478c82670e315b7c69",
            "placeholder": "​",
            "rows": null,
            "style": "IPY_MODEL_c7473bcb53674107b2ccc223936294df",
            "value": "11\n1 1 2 4 8 16 6 3 3 6 6"
          }
        },
        "8f220333663647478c82670e315b7c69": {
          "model_module": "@jupyter-widgets/base",
          "model_name": "LayoutModel",
          "model_module_version": "1.2.0",
          "state": {
            "_model_module": "@jupyter-widgets/base",
            "_model_module_version": "1.2.0",
            "_model_name": "LayoutModel",
            "_view_count": null,
            "_view_module": "@jupyter-widgets/base",
            "_view_module_version": "1.2.0",
            "_view_name": "LayoutView",
            "align_content": null,
            "align_items": null,
            "align_self": null,
            "border": null,
            "bottom": null,
            "display": null,
            "flex": null,
            "flex_flow": null,
            "grid_area": null,
            "grid_auto_columns": null,
            "grid_auto_flow": null,
            "grid_auto_rows": null,
            "grid_column": null,
            "grid_gap": null,
            "grid_row": null,
            "grid_template_areas": null,
            "grid_template_columns": null,
            "grid_template_rows": null,
            "height": null,
            "justify_content": null,
            "justify_items": null,
            "left": null,
            "margin": null,
            "max_height": null,
            "max_width": null,
            "min_height": null,
            "min_width": null,
            "object_fit": null,
            "object_position": null,
            "order": null,
            "overflow": null,
            "overflow_x": null,
            "overflow_y": null,
            "padding": null,
            "right": null,
            "top": null,
            "visibility": null,
            "width": null
          }
        },
        "c7473bcb53674107b2ccc223936294df": {
          "model_module": "@jupyter-widgets/controls",
          "model_name": "DescriptionStyleModel",
          "model_module_version": "1.5.0",
          "state": {
            "_model_module": "@jupyter-widgets/controls",
            "_model_module_version": "1.5.0",
            "_model_name": "DescriptionStyleModel",
            "_view_count": null,
            "_view_module": "@jupyter-widgets/base",
            "_view_module_version": "1.2.0",
            "_view_name": "StyleView",
            "description_width": ""
          }
        }
      }
    }
  },
  "cells": [
    {
      "cell_type": "markdown",
      "metadata": {
        "id": "view-in-github",
        "colab_type": "text"
      },
      "source": [
        "<a href=\"https://colab.research.google.com/github/ijenims/paiza/blob/main/Paiza_Stack_Que.ipynb\" target=\"_parent\"><img src=\"https://colab.research.google.com/assets/colab-badge.svg\" alt=\"Open In Colab\"/></a>"
      ]
    },
    {
      "cell_type": "markdown",
      "source": [
        "# スタック・キューメニュー"
      ],
      "metadata": {
        "id": "b6W9CUsejDwh"
      }
    },
    {
      "cell_type": "markdown",
      "source": [
        "### [Template] ローカルでコードテスト環境を作る(Python,jupyter)"
      ],
      "metadata": {
        "id": "QJE3ZccJv7oG"
      }
    },
    {
      "cell_type": "markdown",
      "source": [
        "https://qiita.com/ryamamon/items/15ca78a0234d9d24452d"
      ],
      "metadata": {
        "id": "0p9DaDvK0FHF"
      }
    },
    {
      "cell_type": "code",
      "source": [
        "from ipywidgets import Textarea\n",
        "\n",
        "def input():\n",
        "    global input_count\n",
        "    input_text = Input.split('\\n')[input_count]\n",
        "    input_count += 1\n",
        "\n",
        "    return input_text\n",
        "\n",
        "\n",
        "def get_input(change):\n",
        "    global Input\n",
        "    Input = change['new']\n",
        "\n",
        "\n",
        "textarea = Textarea()\n",
        "textarea.observe(get_input, names='value')\n"
      ],
      "metadata": {
        "id": "6GlDZr76v4m8"
      },
      "execution_count": 16,
      "outputs": []
    },
    {
      "cell_type": "markdown",
      "source": [
        "### 入力テキストボックス（要実行）"
      ],
      "metadata": {
        "id": "AeE7pYBF3H49"
      }
    },
    {
      "cell_type": "code",
      "source": [
        "display(textarea)"
      ],
      "metadata": {
        "colab": {
          "base_uri": "https://localhost:8080/",
          "height": 57,
          "referenced_widgets": [
            "1fbea77c356b48279c754140bab30d70",
            "8f220333663647478c82670e315b7c69",
            "c7473bcb53674107b2ccc223936294df"
          ]
        },
        "id": "wU7Z_IQz3-kj",
        "outputId": "47b61e21-2c3c-4f2d-a8ef-3f9835669a58"
      },
      "execution_count": 17,
      "outputs": [
        {
          "output_type": "display_data",
          "data": {
            "text/plain": [
              "Textarea(value='')"
            ],
            "application/vnd.jupyter.widget-view+json": {
              "version_major": 2,
              "version_minor": 0,
              "model_id": "1fbea77c356b48279c754140bab30d70"
            }
          },
          "metadata": {}
        }
      ]
    },
    {
      "cell_type": "markdown",
      "source": [
        "<font color=\"Red\">カウンタをゼロにしておく！！！</font>\n",
        "（各ソースコードにコピペ）"
      ],
      "metadata": {
        "id": "4dTHm4-P21n0"
      }
    },
    {
      "cell_type": "code",
      "source": [
        "input_count = 0    # Reset counter"
      ],
      "metadata": {
        "id": "7kQEaa4z1agU"
      },
      "execution_count": null,
      "outputs": []
    },
    {
      "cell_type": "markdown",
      "source": [
        "### ここからソースコード（実行不要）"
      ],
      "metadata": {
        "id": "SdDlNLAc1o19"
      }
    },
    {
      "cell_type": "code",
      "source": [
        "input_count = 0\n",
        "\n",
        "n = input()\n",
        "print(n)\n",
        "lst = input().split()\n",
        "print(lst)\n",
        "w = input()\n",
        "print(w)"
      ],
      "metadata": {
        "colab": {
          "base_uri": "https://localhost:8080/"
        },
        "id": "MHwhN88u1ybp",
        "outputId": "6fee0895-c40b-435f-9f24-932abc923c48"
      },
      "execution_count": null,
      "outputs": [
        {
          "output_type": "stream",
          "name": "stdout",
          "text": [
            "5\n",
            "['1', '-2', '3', '-4', '5', '-6']\n",
            "text\n"
          ]
        }
      ]
    },
    {
      "cell_type": "code",
      "source": [
        "# これは旧コード\n",
        "\n",
        "n, *a = Input.split()\n",
        "print(n, a)\n",
        "print(Input)\n",
        "Input"
      ],
      "metadata": {
        "colab": {
          "base_uri": "https://localhost:8080/",
          "height": 108
        },
        "id": "OkYAyWUjv50Y",
        "outputId": "e9272aa7-23bb-422d-b595-b7f5b3961a5d"
      },
      "execution_count": null,
      "outputs": [
        {
          "output_type": "stream",
          "name": "stdout",
          "text": [
            "5 ['1', '-2', '3', '-4', '5', '-6', 'text']\n",
            "5\n",
            "1 -2 3 -4 5 -6\n",
            "text\n"
          ]
        },
        {
          "output_type": "execute_result",
          "data": {
            "application/vnd.google.colaboratory.intrinsic+json": {
              "type": "string"
            },
            "text/plain": [
              "'5\\n1 -2 3 -4 5 -6\\ntext'"
            ]
          },
          "metadata": {},
          "execution_count": 35
        }
      ]
    },
    {
      "cell_type": "code",
      "source": [
        "n = Input\n",
        "print(n)"
      ],
      "metadata": {
        "colab": {
          "base_uri": "https://localhost:8080/"
        },
        "id": "vh9I1gg-v594",
        "outputId": "4c37c3db-4e15-4968-8af0-dbc9ac220936"
      },
      "execution_count": null,
      "outputs": [
        {
          "output_type": "stream",
          "name": "stdout",
          "text": [
            "5\n",
            "1 -2 3 -4 5 -6\n",
            "text\n"
          ]
        }
      ]
    },
    {
      "cell_type": "markdown",
      "source": [
        "### ========================================================================="
      ],
      "metadata": {
        "id": "_D-TbNbhh1lo"
      }
    },
    {
      "cell_type": "markdown",
      "source": [
        "## 箱とボール"
      ],
      "metadata": {
        "id": "h91-FK2flLeY"
      }
    },
    {
      "cell_type": "markdown",
      "source": [
        "### <font color=\"Red\">FINAL問題</font> 箱とボール (paizaランク B 相当)"
      ],
      "metadata": {
        "id": "xyiB9IdGe-IL"
      }
    },
    {
      "cell_type": "markdown",
      "source": [
        "#### Task"
      ],
      "metadata": {
        "id": "Zl6MIypUfdTy"
      }
    },
    {
      "cell_type": "markdown",
      "source": [
        "幅 1 の筒状の箱に数値の書かれた直径 1 のボールを入れます。各ボールは同じ数値のボールが隣合ったときに結合し、数値が 2 倍になります。それぞれ A_i と書かれた N 個のボールがあり、順番に箱の底へ入れていきます。最終的な箱の中のようすを、箱の天井から順に出力してください。\n",
        "\n",
        "![01 (1).png](data:image/png;base64,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)"
      ],
      "metadata": {
        "id": "YIe9UiWofaXg"
      }
    },
    {
      "cell_type": "markdown",
      "source": [
        "input\n",
        "```\n",
        "N\n",
        "A_0 A_1 ... A_N\n",
        "```"
      ],
      "metadata": {
        "id": "dGZtxH7Jf-dN"
      }
    },
    {
      "cell_type": "markdown",
      "source": [
        "output\n",
        "\n",
        "最終的な箱の中のようすを、箱の天井から順に出力してください。末尾には改行を入れ、余計な文字、空行を含んではいけません。"
      ],
      "metadata": {
        "id": "kyCp-nwiggsN"
      }
    },
    {
      "cell_type": "markdown",
      "source": [
        "conditions\n",
        "\n",
        "・ N は 1 以上 50,000 未満<br>\n",
        "・ 0 ≦ A_i < 50,000"
      ],
      "metadata": {
        "id": "7GIENx_BglSr"
      }
    },
    {
      "cell_type": "markdown",
      "source": [
        "input_1\n",
        "```\n",
        "6\n",
        "3 2 5 5 4 3\n",
        "```\n",
        "output_1\n",
        "```\n",
        "3\n",
        "4\n",
        "10\n",
        "2\n",
        "3\n",
        "```\n",
        "input_2\n",
        "```\n",
        "6\n",
        "1 1 2 4 8 16\n",
        "```\n",
        "output_2\n",
        "```\n",
        "32\n",
        "```"
      ],
      "metadata": {
        "id": "udK7lgh_gwbZ"
      }
    },
    {
      "cell_type": "markdown",
      "source": [
        "#### Code"
      ],
      "metadata": {
        "id": "usHKOVyRh-NA"
      }
    },
    {
      "cell_type": "markdown",
      "source": [
        "方針\n",
        "\n",
        "- N: 個数, A: 数列 の入力\n",
        "- stuck の準備\n",
        "- Append する数字と stuck の最後尾を比較\n",
        "  - 違う場合：\n",
        "    - そのまま stuck に追加\n",
        "  - 同じ場合：\n",
        "    - 最後尾を2倍する\n",
        "    - 最後尾の１つ前と最後尾を比較（以下同様）：再帰関数\n",
        "    \n",
        "- stuck の内容を最後尾より１つずつ改行して表示"
      ],
      "metadata": {
        "id": "GdC4inBXstrp"
      }
    },
    {
      "cell_type": "code",
      "source": [
        "# 2022.3.28\n",
        "\n",
        "# Status : Ready\n",
        "\n",
        "input_count = 0    # Reset counter\n",
        "\n",
        "def combine(s, i):\n",
        "    # s: list\n",
        "    # i: int\n",
        "    s[-1] = 2 * i\n",
        "    \n",
        "    if s[-2] != s[-1]:\n",
        "        return s\n",
        "    else:\n",
        "        acc = s.pop()\n",
        "        combine(s, acc)\n",
        "\n",
        "\n",
        "def main():\n",
        "    N = int(input())\n",
        "    A = [int(x) for x in input().split()]\n",
        "\n",
        "    stuck = [0]    # IndexError を避ける\n",
        "\n",
        "    for i in A:\n",
        "        if stuck[-1] != i:\n",
        "            stuck.append(i)\n",
        "        else:\n",
        "            combine(stuck, i)\n",
        "\n",
        "    print(stuck)\n",
        "\n",
        "    while len(stuck) > 1:\n",
        "        print(stuck.pop())\n",
        "\n",
        "main()"
      ],
      "metadata": {
        "colab": {
          "base_uri": "https://localhost:8080/"
        },
        "id": "j70n6BMVe5bj",
        "outputId": "5f9d8bff-abb3-4281-f005-794784d5d8c3"
      },
      "execution_count": 27,
      "outputs": [
        {
          "output_type": "stream",
          "name": "stdout",
          "text": [
            "[0, 32, 24]\n",
            "24\n",
            "32\n"
          ]
        }
      ]
    },
    {
      "cell_type": "markdown",
      "source": [
        "### STEP: 5 エスカレーター (paizaランク B 相当)"
      ],
      "metadata": {
        "id": "Jj4jdjsZvkid"
      }
    },
    {
      "cell_type": "markdown",
      "source": [
        "#### Task"
      ],
      "metadata": {
        "id": "0X2Ep2PJv4FN"
      }
    },
    {
      "cell_type": "markdown",
      "source": [
        "paiza ビルにあるエスカレーターは全長 K メートルあり、 1 秒で 1 メートル進みます。また paiza ビルに勤める社員が N 人おり、 i 番目の社員は時刻 A_i にエスカレーターに乗ります。各社員がエスカレーターに乗った直後に、エスカレーター上にいる人数をそれぞれ答えてください。ただしある時刻にエスカレーターに乗る社員と降りる社員がいた場合、これは同時におこなわれます。\n",
        "\n",
        "この問題は少し難しいですが、キューを用いて実装してみましょう。なお、サンプル 1 のケースでは以下のように社員がエスカレーターに乗ります。\n",
        "\n",
        "![01.png](data:image/png;base64,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)"
      ],
      "metadata": {
        "id": "fAcOiJZLv69m"
      }
    },
    {
      "cell_type": "markdown",
      "source": [
        "input\n",
        "```\n",
        "N K\n",
        "A_1 ... A_N\n",
        "```"
      ],
      "metadata": {
        "id": "qeSN7PzpwCmE"
      }
    },
    {
      "cell_type": "markdown",
      "source": [
        "output\n",
        "\n",
        "社員 i がエスカレーターに乗った直後に、エスカレーター上にいる人数 E_i を改行区切りで出力してください。末尾には改行を入れ、余計な文字、空行を含んではいけません。\n",
        "```\n",
        "E_1\n",
        "...\n",
        "E_N\n",
        "```\n"
      ],
      "metadata": {
        "id": "Ax0QH9bmwJl4"
      }
    },
    {
      "cell_type": "markdown",
      "source": [
        "conditions\n",
        "\n",
        "・ N, A_i は 1 以上 50,000 未満<br>\n",
        "・ 1 ≦ A_1 < ... < A_N < 50,000<br>\n",
        "・ K は 1 以上 100 未満"
      ],
      "metadata": {
        "id": "4ENClVaQw9nk"
      }
    },
    {
      "cell_type": "markdown",
      "source": [
        "input_1\n",
        "```\n",
        "4 3\n",
        "1 3 4 6\n",
        "```\n",
        "output_1\n",
        "```\n",
        "1\n",
        "2\n",
        "2\n",
        "2\n",
        "```"
      ],
      "metadata": {
        "id": "run4oF0fyfk6"
      }
    },
    {
      "cell_type": "markdown",
      "source": [
        "#### Code"
      ],
      "metadata": {
        "id": "rZu2wQgPxoas"
      }
    },
    {
      "cell_type": "markdown",
      "source": [
        "方針\n",
        "\n",
        "- N: 社員数, K: エスカレータ長さを入力\n",
        "- A: 乗り込み時刻リストを入力\n",
        "- a_one_hot: A をワンホットリストにする（< 50,000）\n",
        "- s: 時刻全体の部分和リストを作成\n",
        "- 時刻 0 の時用に先頭に 0 を K 個準備\n",
        "- キューを s の先頭をずらすことにより実現\n",
        "- 部分和の問題として解く"
      ],
      "metadata": {
        "id": "gvIweBdC6max"
      }
    },
    {
      "cell_type": "code",
      "source": [
        "# 2022.3.28\n",
        "\n",
        "# Status : Completed 3.28\n",
        "\n",
        "input_count = 0    # Reset counter\n",
        "\n",
        "def main():\n",
        "    N, K = map(int, input().split())\n",
        "    A = [int(x) for x in input().split()]\n",
        "    s = [0 for _ in range(K)]\n",
        "    print(A)\n",
        "\n",
        "    a_one_hot = [0 for _ in range(max(A) + 1)]\n",
        "    print(a_one_hot)\n",
        "\n",
        "    for i in A:\n",
        "        a_one_hot[i] = 1    # one_hot_list\n",
        "\n",
        "    print(a_one_hot)\n",
        "\n",
        "    for j in range(len(a_one_hot)):\n",
        "        s.append(s[-1] + a_one_hot[j])\n",
        "\n",
        "    print(s)\n",
        "\n",
        "    for m in A:\n",
        "        print(s[m + K] - s[m])\n",
        "\n",
        "\n",
        "main()"
      ],
      "metadata": {
        "id": "z97oaQfYxjH7",
        "colab": {
          "base_uri": "https://localhost:8080/"
        },
        "outputId": "f63364b1-e823-405c-8cde-50f73acfbb69"
      },
      "execution_count": 15,
      "outputs": [
        {
          "output_type": "stream",
          "name": "stdout",
          "text": [
            "[1, 3, 4, 6]\n",
            "[0, 0, 0, 0, 0, 0, 0]\n",
            "[0, 1, 0, 1, 1, 0, 1]\n",
            "[0, 0, 0, 0, 1, 1, 2, 3, 3, 4]\n",
            "1\n",
            "2\n",
            "2\n",
            "2\n"
          ]
        }
      ]
    },
    {
      "cell_type": "markdown",
      "source": [
        "### STEP: 4 括弧列 (paizaランク C 相当)"
      ],
      "metadata": {
        "id": "oHIR9G8vHTJ9"
      }
    },
    {
      "cell_type": "markdown",
      "source": [
        "#### Task"
      ],
      "metadata": {
        "id": "0WT2Gz79KzOE"
      }
    },
    {
      "cell_type": "markdown",
      "source": [
        "N 文字の 括弧列 S が与えられます。与えられた 括弧列 が 正しい括弧列 かどうか判定してください。\n",
        "\n",
        "ここで、 括弧列 とは以下のように定義します。\n",
        "\n",
        "* `(` または `)` または空文字のみで構成される文字列\n",
        "\n",
        "また、 正しい括弧列 とは以下のように定義します。\n",
        "\n",
        "1. 空文字列は正しい括弧列である。\n",
        "2. 文字列 `s` が正しい括弧列であるとき、 `(` + s + `)` は正しい括弧列である。\n",
        "3. 文字列 `s` , `t` が正しい括弧列であるとき、 `s` + `t` は正しい括弧列である。\n",
        "\n",
        "たとえば、以下の文字列はすべて 正しい 括弧列です。\n",
        "\n",
        "```\n",
        "()\n",
        "(())\n",
        "()()\n",
        "(()())\n",
        "((((())())()))\n",
        "```\n",
        "\n",
        "また、以下の文字列はすべて 正しくない 括弧列です。\n",
        "```\n",
        ")(\n",
        "(\n",
        "())\n",
        "((())\n",
        "(()()))((()())()\n",
        "```"
      ],
      "metadata": {
        "id": "kOXWSeVKITL9"
      }
    },
    {
      "cell_type": "markdown",
      "source": [
        "input\n",
        "```\n",
        "N\n",
        "S\n",
        "```"
      ],
      "metadata": {
        "id": "jWwBUS6yJTzE"
      }
    },
    {
      "cell_type": "markdown",
      "source": [
        "output\n",
        "\n",
        "S が正しい括弧列の場合は `Yes` を、正しくない括弧列の場合は `No` を出力してください。末尾には改行を入れ、余計な文字、空行を含んではいけません。\n",
        "\n",
        "```\n",
        "Yes\n",
        "```\n",
        "または\n",
        "```\n",
        "No\n",
        "```"
      ],
      "metadata": {
        "id": "ha4RVpCVJbsi"
      }
    },
    {
      "cell_type": "markdown",
      "source": [
        "conditions\n",
        "\n",
        "・ N は 1 以上 50,000 未満<br>\n",
        "・ S の各文字は `(` または `)`"
      ],
      "metadata": {
        "id": "1lt_tBnNJoor"
      }
    },
    {
      "cell_type": "markdown",
      "source": [
        "#### Code"
      ],
      "metadata": {
        "id": "oAnKKEAvKwHQ"
      }
    },
    {
      "cell_type": "markdown",
      "source": [
        "疑似コード\n",
        "\n",
        "- 文字数、文字列の入力<br>\n",
        "- 文字列を最初から確認<br>\n",
        "- `(`であれば +1, `)`であれば -1<br>\n",
        "- 1回でもマイナスになれば `No`<br>\n",
        "- 最終的に `0` であれば `Yes` , そうでなければ `No` \n"
      ],
      "metadata": {
        "id": "J5YYXX2NLIuD"
      }
    },
    {
      "cell_type": "code",
      "source": [
        "# 2022.3.28\n",
        "\n",
        "# Status : Completed 3.28\n",
        "\n",
        "input_count = 0    # Reset counter\n",
        "\n",
        "def main():\n",
        "    n = int(input())\n",
        "    s_org = input()\n",
        "    s = list(s_org)\n",
        "    flag = 0\n",
        "\n",
        "    for c in s:\n",
        "        if c == '(':\n",
        "            flag += 1\n",
        "        if c == ')':\n",
        "            flag -= 1\n",
        "        \n",
        "        if flag < 0:\n",
        "            break\n",
        "\n",
        "    if flag == 0:\n",
        "        print('Yes')\n",
        "    else:\n",
        "        print('No')\n",
        "\n",
        "\n",
        "main()"
      ],
      "metadata": {
        "colab": {
          "base_uri": "https://localhost:8080/"
        },
        "id": "6gqw0rtkIL1_",
        "outputId": "ebdd837e-4b3f-4260-c0a4-6612f49eedb0"
      },
      "execution_count": null,
      "outputs": [
        {
          "output_type": "stream",
          "name": "stdout",
          "text": [
            "No\n"
          ]
        }
      ]
    },
    {
      "cell_type": "markdown",
      "source": [
        "### STEP: 3 逆ポーランド記法 (paizaランク B 相当)"
      ],
      "metadata": {
        "id": "9c7PnVBZ3jn5"
      }
    },
    {
      "cell_type": "markdown",
      "source": [
        "#### Task"
      ],
      "metadata": {
        "id": "kRswuiMDHJdV"
      }
    },
    {
      "cell_type": "markdown",
      "source": [
        "逆ポーランド記法 で書かれた数式が与えられます。この数式を計算した結果を出力してください。この問題は少し難しいですが、スタックを用いて解いてみましょう。\n",
        "```\n",
        "(1 + 2) - (3 + 4)\n",
        "```\n",
        "\n",
        "これを逆ポーランド記法に変換すると以下のようになります。\n",
        "```\n",
        "1 2 + 3 4 + -\n",
        "```"
      ],
      "metadata": {
        "id": "Blz1ccYZ30Z4"
      }
    },
    {
      "cell_type": "markdown",
      "source": [
        "input\n",
        "\n",
        "1 行目に<font color=\"Red\">逆ポーランド記法</font>で書かれた数式の文字数 N が与えられます。 2 行目には逆ポーランド記法の数式 A の各文字が半角スペース区切りで与えられます。\n",
        "```\n",
        "N\n",
        "A_1 A_2 ... A_N\n",
        "```"
      ],
      "metadata": {
        "id": "_4EtssHj4AZY"
      }
    },
    {
      "cell_type": "markdown",
      "source": [
        "output\n",
        "\n",
        "逆ポーランド記法で計算した結果 R を出力してください。末尾には改行を入れ、余計な文字、空行を含んではいけません。\n",
        "```\n",
        "R\n",
        "```\n"
      ],
      "metadata": {
        "id": "xAtayhE_4T7N"
      }
    },
    {
      "cell_type": "markdown",
      "source": [
        "conditions\n",
        "\n",
        "・ N は 1 以上 10,000 未満<br>\n",
        "・ A_i は数値または演算子<br>\n",
        "・ A_i が数値の場合は 0 以上 10 未満<br>\n",
        "・ A_i が演算子の場合は + または -<br>\n",
        "・ 逆ポーランド記法で計算できない形式の入力は与えられない<br>"
      ],
      "metadata": {
        "id": "EKef7BrPPBAx"
      }
    },
    {
      "cell_type": "markdown",
      "source": [
        "input_2\n",
        "```\n",
        "7\n",
        "1 2 + 3 4 + -\n",
        "```\n",
        "output_2\n",
        "```\n",
        "-4\n",
        "```"
      ],
      "metadata": {
        "id": "FiqGfTW-wOhK"
      }
    },
    {
      "cell_type": "markdown",
      "source": [
        "#### Code"
      ],
      "metadata": {
        "id": "GTddrOmMHE52"
      }
    },
    {
      "cell_type": "code",
      "source": [
        "# 2022.1.20 \n",
        "\n",
        "# States : under construction 2022.1.20\n",
        "# status : Completed 2022.3.28 \n",
        "\n",
        "input_count = 0    # Reset counter\n",
        "'''\n",
        "def push_stack(a, x):\n",
        "    return a.append(x)\n",
        "\n",
        "def pop_stack(a):\n",
        "    return a.pop()\n",
        "\n",
        "def plus_stack(a):\n",
        "    acc = pop_stack(a)\n",
        "    return pop_stack(a) + acc\n",
        "\n",
        "def minus_stack(a):\n",
        "    acc = pop_stack(a)\n",
        "    return pop_stack(a) - acc\n",
        "'''\n",
        "def main():\n",
        "    n = int(input())\n",
        "    script = [s for s in input().split()]\n",
        "    print(script)\n",
        "\n",
        "    stack = []\n",
        "\n",
        "    for i in range(n):\n",
        "        acc = script[i]      # accumulator\n",
        "        print(i, script[i], stack)\n",
        "\n",
        "        if acc.isdecimal():\n",
        "            stack.append(int(acc))    # 数字の場合スタックに追加\n",
        "\n",
        "        elif acc == '+':\n",
        "            b = stack.pop()\n",
        "            a = stack.pop()\n",
        "            stack.append(a + b)\n",
        "\n",
        "        elif acc == '-':\n",
        "            b = stack.pop()\n",
        "            a = stack.pop()\n",
        "            stack.append(a - b)\n",
        "\n",
        "    print(stack[-1])\n",
        "\n",
        "\n",
        "main()"
      ],
      "metadata": {
        "id": "PakUvTOM4ikl",
        "colab": {
          "base_uri": "https://localhost:8080/"
        },
        "outputId": "eefd933c-8da3-4c94-c4d2-b35cbc29b004"
      },
      "execution_count": null,
      "outputs": [
        {
          "output_type": "stream",
          "name": "stdout",
          "text": [
            "['1', '2', '+', '3', '4', '+', '-']\n",
            "0 1 []\n",
            "1 2 [1]\n",
            "2 + [1, 2]\n",
            "3 3 [3]\n",
            "4 4 [3, 3]\n",
            "5 + [3, 3, 4]\n",
            "6 - [3, 7]\n",
            "-4\n"
          ]
        }
      ]
    },
    {
      "cell_type": "markdown",
      "source": [
        "### STEP: 2 最大の区間和 (paizaランク B 相当)"
      ],
      "metadata": {
        "id": "ZnXOeAUrzc2n"
      }
    },
    {
      "cell_type": "markdown",
      "source": [
        "N 個の要素からなる数列 A があります。 A に含まれる連続した X 個の要素の和の最大値とその区間の左端の値を出力してください。ただし、要素の和の最大となる区間が複数ある場合はそのうちもっとも先頭の値を出力してください。\n",
        "たとえば、 `N = 4` , `A = [2, 3, 4, 1]` , `X = 2` とします。連続した 2 個の要素の和が最大となる区間は A の 2 番目から 3 番目まで( `3 + 4 = 7` が最大値 )なので、最大値 7 とその区間の左端の値 3 を出力します。\n",
        "\n",
        "また、実行時間に注意しましょう。たとえば以下の Python3 のプログラムのような、数列の要素数 N と和を求める連続する要素数 X を用いて、約 N * X 回足し算をおこなうプログラムはタイムオーバーになってしまうことがあります。キューまたはスタックを用いて効率のよいプログラムを意識しましょう。"
      ],
      "metadata": {
        "id": "3-H1ou_Xzpa-"
      }
    },
    {
      "cell_type": "markdown",
      "source": [
        "input\n",
        "```\n",
        "N X\n",
        "A_1 A_2 ... A_N\n",
        "```\n",
        "```\n",
        "4 2\n",
        "2 3 4 1\n",
        "```\n"
      ],
      "metadata": {
        "id": "9AeL0dxU9KXm"
      }
    },
    {
      "cell_type": "markdown",
      "source": [
        "output<br>\n",
        "X 個の要素の和の最大値 M とその区間の左端の値 L を半角スペース区切りで出力してください。要素の和の最大となる区間が複数ある場合はそのうちもっとも先頭の値を出力してください。\n",
        "```\n",
        "M L\n",
        "```"
      ],
      "metadata": {
        "id": "S6y7VOTk99cm"
      }
    },
    {
      "cell_type": "code",
      "source": [
        "%%time\n",
        "\n",
        "# 2022.2.20\n",
        "\n",
        "input_count = 0    # Reset counter\n",
        "\n",
        "def main():\n",
        "    n, x = map(int, input().split())\n",
        "    a = list(map(int, input().split()))\n",
        "\n",
        "    que_front = 0           # Queueの先頭初期値\n",
        "    left_value = a[0]       # 最大値の時の左端の初期値\n",
        "    max_sum = sum(a[:x])    # 最大値の初期値\n",
        "    temp = max_sum\n",
        "\n",
        "    for i in range(x, n):\n",
        "        \n",
        "        temp = temp + a[i] - a[que_front]\n",
        "\n",
        "        if temp > max_sum:\n",
        "            max_sum = temp\n",
        "            left_value = a[que_front + 1]\n",
        "\n",
        "        que_front += 1\n",
        "\n",
        "        print(i, f'temp = {temp} :', f'sum = {max_sum} :', f'a_i = {a[i]} :',\n",
        "              f'a_f = {a[que_front]} :', f'left = {left_value}')  # 消す\n",
        "\n",
        "    print(max_sum, left_value)\n",
        "\n",
        "    \n",
        "main()"
      ],
      "metadata": {
        "colab": {
          "base_uri": "https://localhost:8080/"
        },
        "id": "DYPnaODv88it",
        "outputId": "b1aa900b-c7f9-4f23-87c1-91baa3f6d55d"
      },
      "execution_count": null,
      "outputs": [
        {
          "output_type": "stream",
          "name": "stdout",
          "text": [
            "2 temp = 5 : sum = 5 : a_i = 3 : a_f = 2 : left = 2\n",
            "3 temp = 7 : sum = 7 : a_i = 4 : a_f = 3 : left = 3\n",
            "4 temp = 5 : sum = 7 : a_i = 1 : a_f = 4 : left = 3\n",
            "5 temp = 3 : sum = 7 : a_i = 2 : a_f = 1 : left = 3\n",
            "6 temp = 5 : sum = 7 : a_i = 3 : a_f = 2 : left = 3\n",
            "7 temp = 7 : sum = 7 : a_i = 4 : a_f = 3 : left = 3\n",
            "8 temp = 5 : sum = 7 : a_i = 1 : a_f = 4 : left = 3\n",
            "9 temp = 3 : sum = 7 : a_i = 2 : a_f = 1 : left = 3\n",
            "7 3\n",
            "CPU times: user 3.53 ms, sys: 2.33 ms, total: 5.87 ms\n",
            "Wall time: 4.44 ms\n"
          ]
        }
      ]
    },
    {
      "cell_type": "code",
      "source": [
        "aaa = [i for i in range(10)]\n",
        "print(sum(aaa[:4]))"
      ],
      "metadata": {
        "colab": {
          "base_uri": "https://localhost:8080/"
        },
        "id": "OvMcLDlVHrJZ",
        "outputId": "5c6e86cb-359f-4a43-c116-746461625cfb"
      },
      "execution_count": null,
      "outputs": [
        {
          "output_type": "stream",
          "name": "stdout",
          "text": [
            "6\n"
          ]
        }
      ]
    },
    {
      "cell_type": "markdown",
      "source": [
        "### STEP: 1 2つのキュー (paizaランク C 相当)"
      ],
      "metadata": {
        "id": "Rg8jUbgSlhnJ"
      }
    },
    {
      "cell_type": "markdown",
      "source": [
        "Q 個のクエリが与えられます。 2 つのキューを用意したあと、 Q 個のクエリを順に処理してください。各クエリは、以下の 5 つのいずれかです。\n",
        "\n",
        "・ PUSH 1 X: 1 つ目のキューに数値 X を追加<br>\n",
        "・ PUSH 2 X: 2 つ目のキューに数値 X を追加<br>\n",
        "・ POP 1: 1 つ目のキューの先頭の要素を削除し、その値を出力<br>\n",
        "・ POP 2: 2 つ目のキューの先頭の要素を削除し、その値を出力<br>\n",
        "・ SIZE: 1 つ目のキュー、 2 つ目のキューに含まれる要素数をそれぞれ出力<br>"
      ],
      "metadata": {
        "id": "1ZiZtgg0RC-H"
      }
    },
    {
      "cell_type": "markdown",
      "source": [
        "input\n",
        "```\n",
        "6\n",
        "1 1 2\n",
        "1 2 3\n",
        "1 1 4\n",
        "3\n",
        "2 1\n",
        "3\n",
        "```"
      ],
      "metadata": {
        "id": "vzljDHnbKUZf"
      }
    },
    {
      "cell_type": "markdown",
      "source": [
        "1 行目に Q が与えられます。続く Q 行にクエリが与えられます。 各クエリは<br>\n",
        "`1 K X`\n",
        "\n",
        "または<br>\n",
        "`2 K`\n",
        "\n",
        "または<br>\n",
        "`3`\n",
        "\n",
        "の形式で与えられ、最初の数値が 1 のとき PUSH 、 2 のとき POP 、 3 のとき SIZE を表します。 PUSH または POP のときは続いて数値 K が与えられます。 K が 1 のとき 1 つ目のキューに対して、 2 のとき 2 つ目のキューに対して操作が行われます。 PUSH のときはさらに数値 X が与えられます。\n"
      ],
      "metadata": {
        "id": "5WXWv4N3NrRT"
      }
    },
    {
      "cell_type": "code",
      "source": [
        "input_count = 0\n",
        "\n",
        "class Que:\n",
        "    def __init__(self):\n",
        "        self.a = []\n",
        "        self.queue_front = 0\n",
        "\n",
        "\n",
        "    def push_que(self, x):\n",
        "        ''' PUSHの場合、何も表示しない '''\n",
        "        return self.a.append(x)\n",
        "\n",
        "\n",
        "    def pop_que(self):\n",
        "        ''' POPの場合、削除する値を表示 '''\n",
        "        print(self.a[self.queue_front])\n",
        "        self.queue_front += 1\n",
        "\n",
        "\n",
        "    def size_que(self):\n",
        "        ''' SIZEの場合、キューの要素数を表示 '''\n",
        "        return len(self.a) - self.queue_front\n",
        "\n",
        "\n",
        "def main():\n",
        "    q = int(input())\n",
        "    a_1 = Que()\n",
        "    a_2 = Que()\n",
        "\n",
        "    for _ in range(q):\n",
        "        query = input().split()\n",
        "\n",
        "        if query[0] == '1':\n",
        "            if query[1] == '1':\n",
        "                a_1.push_que(query[2])\n",
        "            else:\n",
        "                a_2.push_que(query[2])\n",
        "\n",
        "        elif query[0] == '2':\n",
        "            if query[1] == '1':\n",
        "                a_1.pop_que()\n",
        "            else:\n",
        "                a_2.pop_que()\n",
        "\n",
        "        elif query[0] == '3':\n",
        "            print(a_1.size_que(), a_2.size_que())\n",
        "\n",
        "\n",
        "main()\n",
        "\n",
        "\n",
        "\n",
        "\n"
      ],
      "metadata": {
        "id": "PGL2rH18v6J4",
        "colab": {
          "base_uri": "https://localhost:8080/"
        },
        "outputId": "aa283b13-e789-47de-8620-c28fb2425683"
      },
      "execution_count": null,
      "outputs": [
        {
          "output_type": "stream",
          "name": "stdout",
          "text": [
            "2 1\n",
            "2\n",
            "1 1\n"
          ]
        }
      ]
    },
    {
      "cell_type": "markdown",
      "source": [
        "## キュー実装編"
      ],
      "metadata": {
        "id": "dVzeMMsvladM"
      }
    },
    {
      "cell_type": "markdown",
      "source": [
        "### step 2 (paizaランク C 相当)"
      ],
      "metadata": {
        "id": "BpMWhHVJAhXz"
      }
    },
    {
      "cell_type": "markdown",
      "source": [
        "Q 個のクエリが与えられます。空の配列 A を用意したあと、 Q 個のクエリに応じて以下の 2 種類の処理をしてください。\n",
        "\n",
        "・ PUSH X: 配列 A の末尾に 文字 X を追加<br>\n",
        "・ POP: 配列 A の先頭にある要素を出力し、削除\n",
        "\n",
        "各クエリの処理が終わったあと、配列 A の各要素の値を半角スペース区切りで出力してください。"
      ],
      "metadata": {
        "id": "QMcWwAEJA6VO"
      }
    },
    {
      "cell_type": "code",
      "source": [
        "input_count = 0\n",
        "\n",
        "def push_que(a, x):\n",
        "    return a.append(x)\n",
        "\n",
        "\n",
        "def show_que(a, q):\n",
        "    print(' '.join(a[q:]))\n",
        "\n",
        "\n",
        "def main():\n",
        "    n = int(input())\n",
        "    a = []\n",
        "    queue_front = 0    # queue の先頭を指示（リストから削除するわけではない）\n",
        "\n",
        "    for _ in range(n):\n",
        "        query = input().split()\n",
        "\n",
        "        if query[0] == '1':\n",
        "            push_que(a, query[1])\n",
        "\n",
        "        if query[0] == '2':\n",
        "            print(a[queue_front])    # pop 前の先頭要素を出力\n",
        "            queue_front += 1\n",
        "\n",
        "        show_que(a, queue_front)\n",
        "\n",
        "\n",
        "main()"
      ],
      "metadata": {
        "colab": {
          "base_uri": "https://localhost:8080/"
        },
        "id": "3VnKQHSwBZA_",
        "outputId": "82825ae8-ae4c-4618-f92d-f8b3eab01000"
      },
      "execution_count": null,
      "outputs": [
        {
          "output_type": "stream",
          "name": "stdout",
          "text": [
            "e\n",
            "e a\n",
            "e a c\n",
            "e\n",
            "a c\n"
          ]
        }
      ]
    },
    {
      "cell_type": "markdown",
      "source": [
        "### step 1 (paizaランク C 相当)"
      ],
      "metadata": {
        "id": "sneJpnlKFAjS"
      }
    },
    {
      "cell_type": "markdown",
      "source": [
        "キューとは、「先入れ先出し構造( First In, First Out )」などと呼ばれるデータ構造で、データの追加と、最初に追加したデータを取り出すことができます。\n",
        "\n",
        "Q 個のクエリが与えられます。空の配列 A を用意したあと、 Q 個のクエリに応じて以下の 2 種類の処理をしてください。\n",
        "\n",
        "・ PUSH X: 配列 A の末尾に X を追加<br>\n",
        "・ POP: 配列 A の先頭にある要素を削除\n",
        "\n",
        "各クエリの処理が終わったあと、配列 A の各要素の値を半角スペース区切りで出力してください。"
      ],
      "metadata": {
        "id": "cvm3EUDYFHWz"
      }
    },
    {
      "cell_type": "code",
      "source": [
        "input_count = 0\n",
        "\n",
        "def push_que(a, x):\n",
        "    return a.append(x)\n",
        "\n",
        "\n",
        "def pop_que(a):\n",
        "    del a[0]    # 計算量の都合で使わないほうが望ましい\n",
        "    return a\n",
        "\n",
        "\n",
        "def show_que(a, q):\n",
        "    print(' '.join(a[q:]))\n",
        "\n",
        "\n",
        "def main():\n",
        "    n = int(input())\n",
        "    a = []\n",
        "    queue_front = 0    # queue の先頭を指示（リストから削除するわけではない）\n",
        "\n",
        "    for _ in range(n):\n",
        "        query = input().split()\n",
        "\n",
        "        if query[0] == '1':\n",
        "            push_que(a, query[1])\n",
        "\n",
        "        if query[0] == '2':\n",
        "            queue_front += 1\n",
        "\n",
        "        show_que(a, queue_front)\n",
        "\n",
        "\n",
        "main()"
      ],
      "metadata": {
        "colab": {
          "base_uri": "https://localhost:8080/"
        },
        "id": "L-FX9mL3FWww",
        "outputId": "6ceca428-5422-4cf9-a2ff-5c090904a8d5"
      },
      "execution_count": null,
      "outputs": [
        {
          "output_type": "stream",
          "name": "stdout",
          "text": [
            "1\n",
            "1 4\n",
            "1 4 2\n",
            "4 2\n"
          ]
        }
      ]
    },
    {
      "cell_type": "markdown",
      "source": [
        "## スタック実装編 (paizaランク C 相当)"
      ],
      "metadata": {
        "id": "Evn9_mBKUMiL"
      }
    },
    {
      "cell_type": "markdown",
      "source": [
        "### step 2"
      ],
      "metadata": {
        "id": "u06IzjJ0loU8"
      }
    },
    {
      "cell_type": "markdown",
      "source": [
        "Q 個のクエリが与えられます。空の配列 A を用意したあと、 Q 個のクエリに応じて以下の 2 種類の処理をしてください。\n",
        "\n",
        "・ PUSH X: 配列 A の末尾に 文字 X を追加<br>\n",
        "・ POP: 配列 A の末尾にある要素を出力し、削除\n",
        "\n",
        "各クエリの処理が終わったあと、配列 A の各要素の値を半角スペース区切りで出力してください。"
      ],
      "metadata": {
        "id": "U1Rio_f0UlaQ"
      }
    },
    {
      "cell_type": "code",
      "source": [
        "input_count = 0\n",
        "\n",
        "def push_stack(a, x):\n",
        "    return a.append(x)\n",
        "\n",
        "\n",
        "def pop_stack(a):\n",
        "    return a.pop()\n",
        "\n",
        "\n",
        "def show_stack(a):\n",
        "    print(' '.join(a))\n",
        "\n",
        "\n",
        "def main():\n",
        "    n = int(input())\n",
        "    a = []\n",
        "\n",
        "    for _ in range(n):\n",
        "        query = input().split()\n",
        "\n",
        "        if query[0] == '1':\n",
        "            push_stack(a, query[1])\n",
        "            show_stack(a)\n",
        "\n",
        "        if query[0] == '2':\n",
        "            print(a[-1])\n",
        "            pop_stack(a)\n",
        "            show_stack(a)\n",
        "            \n",
        "\n",
        "main()\n"
      ],
      "metadata": {
        "colab": {
          "base_uri": "https://localhost:8080/"
        },
        "id": "3tu6Bp7RUnZA",
        "outputId": "e37911e1-cfb6-459b-e386-147f9bb3dbc1"
      },
      "execution_count": null,
      "outputs": [
        {
          "output_type": "stream",
          "name": "stdout",
          "text": [
            "e\n",
            "e\n",
            "\n",
            "c\n",
            "c\n",
            "\n"
          ]
        }
      ]
    },
    {
      "cell_type": "markdown",
      "source": [
        "### step 1 (paizaランク C 相当)"
      ],
      "metadata": {
        "id": "J6N3vqfa5zlZ"
      }
    },
    {
      "cell_type": "markdown",
      "source": [
        "スタックとは、「先入れ後出し構造( Last In, First Out )」などと呼ばれるデータ構造で、データの追加と、最後に追加したデータを取り出すことができます。\n",
        "\n",
        "Q 個のクエリが与えられます。空の配列 A を用意したあと、 Q 個のクエリに応じて以下の 2 種類の処理を行ってください。\n",
        "\n",
        "・ PUSH X: 配列 A の末尾に X を追加<br>\n",
        "・ POP: 配列 A の末尾にある要素を削除\n",
        "\n",
        "各クエリの処理が終わったあと、配列 A の各要素の値を半角スペース区切りで出力してください。"
      ],
      "metadata": {
        "id": "EKoDv8T26C3h"
      }
    },
    {
      "cell_type": "code",
      "source": [
        "def push_stack(a, x):\n",
        "    a.append(x)\n",
        "    return a\n",
        "\n",
        "\n",
        "def pop_stack(a):\n",
        "    a.pop()\n",
        "    return a\n",
        "\n",
        "\n",
        "def main():\n",
        "    n = int(input())\n",
        "    a = []\n",
        "\n",
        "    for i in range(n):\n",
        "        query = input().split()\n",
        "\n",
        "        if query[0] == '1':\n",
        "            push_stack(a, query[1])\n",
        "\n",
        "        if query[0] == '2':\n",
        "            pop_stack(a)\n",
        "        \n",
        "        print(' '.join(a))\n",
        "\n",
        "\n",
        "main()\n"
      ],
      "metadata": {
        "colab": {
          "base_uri": "https://localhost:8080/"
        },
        "id": "PzHRj78t6MDH",
        "outputId": "3b575d9d-766f-4790-c0cd-aeb10fa8b7e4"
      },
      "execution_count": null,
      "outputs": [
        {
          "output_type": "stream",
          "name": "stdout",
          "text": [
            "3\n",
            "1 10\n",
            "10\n",
            "1 20\n",
            "10 20\n",
            "2\n",
            "10\n"
          ]
        }
      ]
    },
    {
      "cell_type": "markdown",
      "source": [
        "## スタック・キュー実装編( 共通問題 )"
      ],
      "metadata": {
        "id": "-rzaDzzzl48U"
      }
    },
    {
      "cell_type": "markdown",
      "metadata": {
        "id": "SlzeJSBNOdvF"
      },
      "source": [
        "### step 2 (paizaランク D 相当)"
      ]
    },
    {
      "cell_type": "markdown",
      "metadata": {
        "id": "xM43nXBkOpcS"
      },
      "source": [
        "Q 個のクエリが与えられます。空の配列 A を用意したあと、 Q 個のクエリを順に処理してください。各クエリは、以下の 2 つのいずれかです。\n",
        "\n",
        "・ PUSH X: 配列 A の末尾に X を追加<br>\n",
        "・ STAY: 何もしない\n",
        "\n",
        "すべてのクエリの処理が終わったあと、配列 A の要素数 N と値をそれぞれ改行区切りで出力してください。"
      ]
    },
    {
      "cell_type": "code",
      "metadata": {
        "colab": {
          "base_uri": "https://localhost:8080/"
        },
        "id": "I_6ELBeOOmOU",
        "outputId": "4c4fc034-953d-4c6f-e825-a2cfa1696421"
      },
      "source": [
        "def push(a, x):\n",
        "    a.append(x)\n",
        "    return a\n",
        "\n",
        "\n",
        "def main():\n",
        "    n = int(input())\n",
        "    a = []\n",
        "\n",
        "    for i in range(n):\n",
        "        query = list(map(int, input().split()))\n",
        "        \n",
        "        if query[0] == 1:\n",
        "            push(a, query[1])\n",
        "        \n",
        "    print(len(a))\n",
        "    for j in a:\n",
        "        print(j)\n",
        "        \n",
        "\n",
        "main()"
      ],
      "execution_count": null,
      "outputs": [
        {
          "output_type": "stream",
          "name": "stdout",
          "text": [
            "3\n",
            "2\n",
            "2\n",
            "2\n",
            "0\n"
          ]
        }
      ]
    },
    {
      "cell_type": "markdown",
      "metadata": {
        "id": "XoTh72QZnXa8"
      },
      "source": [
        "### step 1 (paizaランク D 相当)"
      ]
    },
    {
      "cell_type": "markdown",
      "metadata": {
        "id": "4K6YURKNnvEQ"
      },
      "source": [
        "このメニューではスタックとキューというデータ構造をそれぞれ実装します。まずは、これらの実装に共通する部分のコードを用意することから始めましょう。\n",
        "\n",
        "そのため、各問題で書いたコードは消さずに、そのまま残しておくことをお勧めします( paiza 上にも保存はされています )。\n",
        "\n",
        "さて、 N 個の要素からなる数列 A が与えられます。1 行目に N を、 2 行目以降に A の各要素を改行区切りで出力してください。\n",
        "\n",
        "また次の問題のために、与えられた数値は配列に入れ、配列の中に入っている要素数を変数で管理しておくとよいです。"
      ]
    },
    {
      "cell_type": "code",
      "metadata": {
        "id": "WBgGBAGopTno",
        "colab": {
          "base_uri": "https://localhost:8080/"
        },
        "outputId": "c74ed4ed-486c-4c0d-aab2-6ff7cc00fe48"
      },
      "source": [
        "def main():\n",
        "    n = int(input())\n",
        "    a = []\n",
        "\n",
        "    for _ in range(n):\n",
        "        a.append(input())\n",
        "\n",
        "    print(n)\n",
        "    for i in a:\n",
        "        print(i)\n",
        "\n",
        "\n",
        "main()\n"
      ],
      "execution_count": null,
      "outputs": [
        {
          "output_type": "stream",
          "name": "stdout",
          "text": [
            "3\n",
            "2\n",
            "2\n",
            "2\n",
            "3\n",
            "2\n",
            "2\n",
            "2\n"
          ]
        }
      ]
    }
  ]
}