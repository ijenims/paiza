{
  "nbformat": 4,
  "nbformat_minor": 0,
  "metadata": {
    "colab": {
      "name": "Paiza_Sort.ipynb",
      "provenance": [],
      "toc_visible": true,
      "authorship_tag": "ABX9TyM445zua3mX3FiHf/oYJkK9",
      "include_colab_link": true
    },
    "kernelspec": {
      "name": "python3",
      "display_name": "Python 3"
    },
    "language_info": {
      "name": "python"
    },
    "widgets": {
      "application/vnd.jupyter.widget-state+json": {
        "0e3de735683f4793a45e708e9c2ba8f5": {
          "model_module": "@jupyter-widgets/controls",
          "model_name": "TextareaModel",
          "model_module_version": "1.5.0",
          "state": {
            "_dom_classes": [],
            "_model_module": "@jupyter-widgets/controls",
            "_model_module_version": "1.5.0",
            "_model_name": "TextareaModel",
            "_view_count": null,
            "_view_module": "@jupyter-widgets/controls",
            "_view_module_version": "1.5.0",
            "_view_name": "TextareaView",
            "continuous_update": true,
            "description": "",
            "description_tooltip": null,
            "disabled": false,
            "layout": "IPY_MODEL_9507b708cd4b47089d89cc5da3fe7985",
            "placeholder": "​",
            "rows": null,
            "style": "IPY_MODEL_51046494f812472eaab51a0a7356d506",
            "value": "5\n4 1 3 5 2"
          }
        },
        "9507b708cd4b47089d89cc5da3fe7985": {
          "model_module": "@jupyter-widgets/base",
          "model_name": "LayoutModel",
          "model_module_version": "1.2.0",
          "state": {
            "_model_module": "@jupyter-widgets/base",
            "_model_module_version": "1.2.0",
            "_model_name": "LayoutModel",
            "_view_count": null,
            "_view_module": "@jupyter-widgets/base",
            "_view_module_version": "1.2.0",
            "_view_name": "LayoutView",
            "align_content": null,
            "align_items": null,
            "align_self": null,
            "border": null,
            "bottom": null,
            "display": null,
            "flex": null,
            "flex_flow": null,
            "grid_area": null,
            "grid_auto_columns": null,
            "grid_auto_flow": null,
            "grid_auto_rows": null,
            "grid_column": null,
            "grid_gap": null,
            "grid_row": null,
            "grid_template_areas": null,
            "grid_template_columns": null,
            "grid_template_rows": null,
            "height": null,
            "justify_content": null,
            "justify_items": null,
            "left": null,
            "margin": null,
            "max_height": null,
            "max_width": null,
            "min_height": null,
            "min_width": null,
            "object_fit": null,
            "object_position": null,
            "order": null,
            "overflow": null,
            "overflow_x": null,
            "overflow_y": null,
            "padding": null,
            "right": null,
            "top": null,
            "visibility": null,
            "width": null
          }
        },
        "51046494f812472eaab51a0a7356d506": {
          "model_module": "@jupyter-widgets/controls",
          "model_name": "DescriptionStyleModel",
          "model_module_version": "1.5.0",
          "state": {
            "_model_module": "@jupyter-widgets/controls",
            "_model_module_version": "1.5.0",
            "_model_name": "DescriptionStyleModel",
            "_view_count": null,
            "_view_module": "@jupyter-widgets/base",
            "_view_module_version": "1.2.0",
            "_view_name": "StyleView",
            "description_width": ""
          }
        }
      }
    }
  },
  "cells": [
    {
      "cell_type": "markdown",
      "metadata": {
        "id": "view-in-github",
        "colab_type": "text"
      },
      "source": [
        "<a href=\"https://colab.research.google.com/github/ijenims/paiza/blob/main/Paiza_Sort.ipynb\" target=\"_parent\"><img src=\"https://colab.research.google.com/assets/colab-badge.svg\" alt=\"Open In Colab\"/></a>"
      ]
    },
    {
      "cell_type": "markdown",
      "source": [
        "# Paiza ソートアルゴリズムメニュー（素朴＆効率的）"
      ],
      "metadata": {
        "id": "E6lPoKGM6jVT"
      }
    },
    {
      "cell_type": "markdown",
      "source": [
        "### [Template] ローカルでコードテスト環境を作る(Python, jupyter)<br>\n",
        "<font color=\"Red\">（要実行）</font>"
      ],
      "metadata": {
        "id": "QJE3ZccJv7oG"
      }
    },
    {
      "cell_type": "markdown",
      "source": [
        "https://qiita.com/ryamamon/items/15ca78a0234d9d24452d"
      ],
      "metadata": {
        "id": "0p9DaDvK0FHF"
      }
    },
    {
      "cell_type": "code",
      "source": [
        "from ipywidgets import Textarea\n",
        "\n",
        "def input():\n",
        "    global input_count\n",
        "    input_text = Input.split('\\n')[input_count]\n",
        "    input_count += 1\n",
        "\n",
        "    return input_text\n",
        "\n",
        "\n",
        "def get_input(change):\n",
        "    global Input\n",
        "    Input = change['new']\n",
        "\n",
        "\n",
        "textarea = Textarea()\n",
        "textarea.observe(get_input, names='value')\n"
      ],
      "metadata": {
        "id": "6GlDZr76v4m8"
      },
      "execution_count": 1,
      "outputs": []
    },
    {
      "cell_type": "markdown",
      "source": [
        "### 入力テキストボックス<font color=\"Red\">（要実行）</font>"
      ],
      "metadata": {
        "id": "AeE7pYBF3H49"
      }
    },
    {
      "cell_type": "code",
      "source": [
        "display(textarea)"
      ],
      "metadata": {
        "colab": {
          "base_uri": "https://localhost:8080/",
          "height": 57,
          "referenced_widgets": [
            "0e3de735683f4793a45e708e9c2ba8f5",
            "9507b708cd4b47089d89cc5da3fe7985",
            "51046494f812472eaab51a0a7356d506"
          ]
        },
        "id": "wU7Z_IQz3-kj",
        "outputId": "b5d81b98-72e9-4955-a6a9-9ecfd8682df7"
      },
      "execution_count": 2,
      "outputs": [
        {
          "output_type": "display_data",
          "data": {
            "text/plain": [
              "Textarea(value='')"
            ],
            "application/vnd.jupyter.widget-view+json": {
              "version_major": 2,
              "version_minor": 0,
              "model_id": "0e3de735683f4793a45e708e9c2ba8f5"
            }
          },
          "metadata": {}
        }
      ]
    },
    {
      "cell_type": "markdown",
      "source": [
        "カウンタをゼロにしておく！！！\n",
        "（各ソースコードにコピペ）"
      ],
      "metadata": {
        "id": "4dTHm4-P21n0"
      }
    },
    {
      "cell_type": "code",
      "source": [
        "input_count = 0    # Reset counter"
      ],
      "metadata": {
        "id": "7kQEaa4z1agU"
      },
      "execution_count": null,
      "outputs": []
    },
    {
      "cell_type": "markdown",
      "source": [
        "### =============================================="
      ],
      "metadata": {
        "id": "_D-TbNbhh1lo"
      }
    },
    {
      "cell_type": "markdown",
      "source": [
        "※　ファイル ＞ ドライブにコピーを保存 （<font color=\"Red\">オリジナルをテンプレートとして残す</font>）"
      ],
      "metadata": {
        "id": "LQeymVlDLUZx"
      }
    },
    {
      "cell_type": "markdown",
      "source": [
        "### バブルソート (paizaランク B 相当)"
      ],
      "metadata": {
        "id": "QVtZBmvAJTme"
      }
    },
    {
      "cell_type": "markdown",
      "source": [
        "#### Task"
      ],
      "metadata": {
        "id": "bqPSzT390RDn"
      }
    },
    {
      "cell_type": "markdown",
      "source": [
        "順序付け可能なデータの列を、昇順または降順に並び替える操作をソートと呼びます。「データ」は、数値や文字列、オブジェクトなどあらゆるものを指します。<br>\n",
        "ソート処理はいたるところで利用されています。\n",
        "\n",
        "\n",
        "・得点表を元にしてランキングを作成する<br>\n",
        "　　　　一番素朴なソートの使い方です。\n",
        "\n",
        "・データの集まりから、上位k個を取ってくる<br>\n",
        "　　　　ソートをしてから先頭のk個を取ればよいです。\n",
        "\n",
        "・貪欲アルゴリズムの前処理<br>\n",
        "　　　　データを大きい (小さい) 順に貪欲に処理を行っていくようなアルゴリズムの前処理として、ソートは有効です。\n",
        "\n",
        "---\n",
        "\n",
        "バブルソートは、データ列の隣り合う要素を比較し交換することを繰り返すことによりデータ列をソートする手法です。バブルとは「泡」の意味で、ソートの過程でデータが移動する様子が、水中で泡が浮かんでいくように見えることからこの名前がついています。\n",
        "\n",
        "バブルソート (昇順) は以下のようなアルゴリズムです。\n",
        "```\n",
        "bubble_sort(A : 配列, n : Aの要素数)\n",
        "    for i = 0 to n-2\n",
        "        for j = n-1 down to i+1\n",
        "            if a[j-1] > a[j] then\n",
        "                swap(a[j-1], a[j])\n",
        "```\n",
        "<img src=\"https://paiza-learning-mondai.s3.amazonaws.com/sort_naive/sort_naive_bubble/01.png\">\n",
        "\n",
        "データ列を左から右へ昇順ソートすることを考えます。バブルソートの基本方針は、<font color=\"Red\">**`左の要素と比較し、左の方が大きければ交換する`**</font>です。これを右から左まで1回行うと、最小の要素が一番左に移動します。 (首を左に傾けてこの処理を眺めると、泡が水面へと上がっていく様子に見えてきませんか？) 次に、一番左の要素を除いて、同じ処理を繰り返します。すると、2番目に小さい要素が左から2番目に移動します。これを最後まで繰り返せば、ソート完了です。\n",
        "\n",
        "\n",
        "バブルソートの計算量を考えます。最も多くの計算ステップがかかるのは、二重 for ループ中にて値を比較する処理です。よって、この処理が何回行われるかに注目し、計算量を導きます。この処理は、各 i について n-i-1 回行われます。つまり、この処理は全体で n-1 + ... + 1 = (n-1)*n/2 = (n^2-n)/2 回行われます。よって、バブルソートは O(n^2) のアルゴリズムとなります。\n",
        "\n",
        "---\n",
        "\n",
        "では、要素数 n の数列を昇順にソートするバブルソートのプログラムを作成してください。上の疑似コードに従って実装してください。アルゴリズムが正しく実装されていることを確認するために、各 i についてその処理が終わった時点での配列を出力してください。"
      ],
      "metadata": {
        "id": "V1nldr8SxfTV"
      }
    },
    {
      "cell_type": "markdown",
      "source": [
        "input\n",
        "```\n",
        "n\n",
        "A_1 A_2 ... A_n\n",
        "```\n",
        "・ 入力はすべて整数<br>\n",
        "・ 1行目に、配列の要素数 n が与えられます。<br>\n",
        "・ 2行目に、配列の要素 A_1, A_2, ... , A_n が半角スペース区切りで与えられます。"
      ],
      "metadata": {
        "id": "vcv5DiCBzi1Z"
      }
    },
    {
      "cell_type": "markdown",
      "source": [
        "output\n",
        "\n",
        "n-1 行出力してください。<br>\n",
        "i 行目 (1 ≦ i ≦ n) には、i 回目のループ処理が終わった時点での配列を出力してください。配列の各要素を半角スペースで区切り、配列の先頭や末尾に余計な空白を入れないようにしてください。<br>\n",
        "また、末尾に改行を入れ、余計な文字、空行を含んではいけません。\n",
        "```\n",
        "A_1 A_2 ... A_n\n",
        "A_1 A_2 ... A_n\n",
        "...\n",
        "A_1 A_2 ... A_n\n",
        "```"
      ],
      "metadata": {
        "id": "89tCeDO3zttz"
      }
    },
    {
      "cell_type": "markdown",
      "source": [
        "conditions\n",
        "\n",
        "・ 5 ≦ n ≦ 1,000<br>\n",
        "・-10,000 ≦ A_i ≦ 10,000"
      ],
      "metadata": {
        "id": "vW035MQhz6Xm"
      }
    },
    {
      "cell_type": "markdown",
      "source": [
        "input_1\n",
        "```\n",
        "5\n",
        "4 1 3 5 2\n",
        "```\n",
        "output_1\n",
        "```\n",
        "1 4 2 3 5\n",
        "1 2 4 3 5\n",
        "1 2 3 4 5\n",
        "1 2 3 4 5\n",
        "```"
      ],
      "metadata": {
        "id": "SMVCsGxDM1ed"
      }
    },
    {
      "cell_type": "markdown",
      "source": [
        "#### Code"
      ],
      "metadata": {
        "id": "NkJ-fs6s0Zam"
      }
    },
    {
      "cell_type": "code",
      "source": [
        "# 2022.3.30\n",
        "\n",
        "# Status : New\n",
        "\n",
        "input_count = 0    # Reset counter\n",
        "\n",
        "def bubble_sort(a, n):\n",
        "    ''' a: list\n",
        "        n: int '''\n",
        "    for i in range(n - 2):\n",
        "        for j in range(n-1, i+1, -1):\n",
        "            if a[j-1] > a[j]:\n",
        "                a[j-1], a[j] = a[j], a[j-1]\n",
        "            print(f'i = {i}, j = {j}, a[{j-1}] = {a[j-1]}, a[{j}] = {a[j]}')\n",
        "\n",
        "        print(*a)\n",
        "\n",
        "\n",
        "def main():\n",
        "    N = int(input())\n",
        "    A = [int(i) for i in input().split()]\n",
        "\n",
        "    bubble_sort(A, N)\n",
        "\n",
        "\n",
        "main()"
      ],
      "metadata": {
        "id": "iM0aAeZYJbGC",
        "colab": {
          "base_uri": "https://localhost:8080/"
        },
        "outputId": "fbc1345d-b021-4799-8834-9acb0604506f"
      },
      "execution_count": 8,
      "outputs": [
        {
          "output_type": "stream",
          "name": "stdout",
          "text": [
            "i = 0, j = 4, a[3] = 2, a[4] = 5\n",
            "i = 0, j = 3, a[2] = 2, a[3] = 3\n",
            "i = 0, j = 2, a[1] = 1, a[2] = 2\n",
            "4 1 2 3 5\n",
            "i = 1, j = 4, a[3] = 3, a[4] = 5\n",
            "i = 1, j = 3, a[2] = 2, a[3] = 3\n",
            "4 1 2 3 5\n",
            "i = 2, j = 4, a[3] = 3, a[4] = 5\n",
            "4 1 2 3 5\n"
          ]
        }
      ]
    }
  ]
}