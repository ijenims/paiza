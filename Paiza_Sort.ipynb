{
  "nbformat": 4,
  "nbformat_minor": 0,
  "metadata": {
    "colab": {
      "name": "Paiza_Sort.ipynb",
      "provenance": [],
      "toc_visible": true,
      "authorship_tag": "ABX9TyP24UN0QTRyZM2YYMlDDyHb",
      "include_colab_link": true
    },
    "kernelspec": {
      "name": "python3",
      "display_name": "Python 3"
    },
    "language_info": {
      "name": "python"
    },
    "widgets": {
      "application/vnd.jupyter.widget-state+json": {
        "9244da9e54254cbe8cc09b232d992a55": {
          "model_module": "@jupyter-widgets/controls",
          "model_name": "TextareaModel",
          "model_module_version": "1.5.0",
          "state": {
            "_dom_classes": [],
            "_model_module": "@jupyter-widgets/controls",
            "_model_module_version": "1.5.0",
            "_model_name": "TextareaModel",
            "_view_count": null,
            "_view_module": "@jupyter-widgets/controls",
            "_view_module_version": "1.5.0",
            "_view_name": "TextareaView",
            "continuous_update": true,
            "description": "",
            "description_tooltip": null,
            "disabled": false,
            "layout": "IPY_MODEL_33ac8fa198464735b0b471fff71f54bc",
            "placeholder": "​",
            "rows": null,
            "style": "IPY_MODEL_4de0ade95a9744988932bb40824b968d",
            "value": "10\n7 6 10 2 5 4 8 3 9 1"
          }
        },
        "33ac8fa198464735b0b471fff71f54bc": {
          "model_module": "@jupyter-widgets/base",
          "model_name": "LayoutModel",
          "model_module_version": "1.2.0",
          "state": {
            "_model_module": "@jupyter-widgets/base",
            "_model_module_version": "1.2.0",
            "_model_name": "LayoutModel",
            "_view_count": null,
            "_view_module": "@jupyter-widgets/base",
            "_view_module_version": "1.2.0",
            "_view_name": "LayoutView",
            "align_content": null,
            "align_items": null,
            "align_self": null,
            "border": null,
            "bottom": null,
            "display": null,
            "flex": null,
            "flex_flow": null,
            "grid_area": null,
            "grid_auto_columns": null,
            "grid_auto_flow": null,
            "grid_auto_rows": null,
            "grid_column": null,
            "grid_gap": null,
            "grid_row": null,
            "grid_template_areas": null,
            "grid_template_columns": null,
            "grid_template_rows": null,
            "height": null,
            "justify_content": null,
            "justify_items": null,
            "left": null,
            "margin": null,
            "max_height": null,
            "max_width": null,
            "min_height": null,
            "min_width": null,
            "object_fit": null,
            "object_position": null,
            "order": null,
            "overflow": null,
            "overflow_x": null,
            "overflow_y": null,
            "padding": null,
            "right": null,
            "top": null,
            "visibility": null,
            "width": null
          }
        },
        "4de0ade95a9744988932bb40824b968d": {
          "model_module": "@jupyter-widgets/controls",
          "model_name": "DescriptionStyleModel",
          "model_module_version": "1.5.0",
          "state": {
            "_model_module": "@jupyter-widgets/controls",
            "_model_module_version": "1.5.0",
            "_model_name": "DescriptionStyleModel",
            "_view_count": null,
            "_view_module": "@jupyter-widgets/base",
            "_view_module_version": "1.2.0",
            "_view_name": "StyleView",
            "description_width": ""
          }
        }
      }
    }
  },
  "cells": [
    {
      "cell_type": "markdown",
      "metadata": {
        "id": "view-in-github",
        "colab_type": "text"
      },
      "source": [
        "<a href=\"https://colab.research.google.com/github/ijenims/paiza/blob/main/Paiza_Sort.ipynb\" target=\"_parent\"><img src=\"https://colab.research.google.com/assets/colab-badge.svg\" alt=\"Open In Colab\"/></a>"
      ]
    },
    {
      "cell_type": "markdown",
      "source": [
        "# Paiza ソートアルゴリズムメニュー（素朴＆効率的）"
      ],
      "metadata": {
        "id": "E6lPoKGM6jVT"
      }
    },
    {
      "cell_type": "markdown",
      "source": [
        "### [Template] ローカルでコードテスト環境を作る(Python, jupyter)<br>\n",
        "<font color=\"Red\">（要実行）</font>"
      ],
      "metadata": {
        "id": "QJE3ZccJv7oG"
      }
    },
    {
      "cell_type": "markdown",
      "source": [
        "https://qiita.com/ryamamon/items/15ca78a0234d9d24452d"
      ],
      "metadata": {
        "id": "0p9DaDvK0FHF"
      }
    },
    {
      "cell_type": "code",
      "source": [
        "from ipywidgets import Textarea\n",
        "\n",
        "def input():\n",
        "    global input_count\n",
        "    input_text = Input.split('\\n')[input_count]\n",
        "    input_count += 1\n",
        "\n",
        "    return input_text\n",
        "\n",
        "\n",
        "def get_input(change):\n",
        "    global Input\n",
        "    Input = change['new']\n",
        "\n",
        "\n",
        "textarea = Textarea()\n",
        "textarea.observe(get_input, names='value')\n"
      ],
      "metadata": {
        "id": "6GlDZr76v4m8"
      },
      "execution_count": 5,
      "outputs": []
    },
    {
      "cell_type": "markdown",
      "source": [
        "### 入力テキストボックス<font color=\"Red\">（要実行）</font>"
      ],
      "metadata": {
        "id": "AeE7pYBF3H49"
      }
    },
    {
      "cell_type": "code",
      "source": [
        "display(textarea)"
      ],
      "metadata": {
        "colab": {
          "base_uri": "https://localhost:8080/",
          "height": 57,
          "referenced_widgets": [
            "9244da9e54254cbe8cc09b232d992a55",
            "33ac8fa198464735b0b471fff71f54bc",
            "4de0ade95a9744988932bb40824b968d"
          ]
        },
        "id": "wU7Z_IQz3-kj",
        "outputId": "f52669ab-2d36-4673-a838-fd4ad18aa4b0"
      },
      "execution_count": 6,
      "outputs": [
        {
          "output_type": "display_data",
          "data": {
            "text/plain": [
              "Textarea(value='')"
            ],
            "application/vnd.jupyter.widget-view+json": {
              "version_major": 2,
              "version_minor": 0,
              "model_id": "9244da9e54254cbe8cc09b232d992a55"
            }
          },
          "metadata": {}
        }
      ]
    },
    {
      "cell_type": "markdown",
      "source": [
        "カウンタをゼロにしておく！！！\n",
        "（各ソースコードにコピペ）"
      ],
      "metadata": {
        "id": "4dTHm4-P21n0"
      }
    },
    {
      "cell_type": "code",
      "source": [
        "input_count = 0    # Reset counter"
      ],
      "metadata": {
        "id": "7kQEaa4z1agU"
      },
      "execution_count": null,
      "outputs": []
    },
    {
      "cell_type": "markdown",
      "source": [
        "### =============================================="
      ],
      "metadata": {
        "id": "_D-TbNbhh1lo"
      }
    },
    {
      "cell_type": "markdown",
      "source": [
        "※　ファイル ＞ ドライブにコピーを保存 （<font color=\"Red\">オリジナルをテンプレートとして残す</font>）"
      ],
      "metadata": {
        "id": "LQeymVlDLUZx"
      }
    },
    {
      "cell_type": "markdown",
      "source": [
        "### マージソート (paizaランク B 相当)"
      ],
      "metadata": {
        "id": "UxCV_G93Ffoe"
      }
    },
    {
      "cell_type": "markdown",
      "source": [
        "#### Task"
      ],
      "metadata": {
        "id": "IRFrxIOYFiDm"
      }
    },
    {
      "cell_type": "markdown",
      "source": [
        "マージソート (昇順) は、<font color=\"Red\">**`データ列を二分し、それぞれをマージソートした後それらを「マージ (統合) 」する`**</font>ことを繰り返すソートアルゴリズムです。マージソートは、問題を小さな問題に分割して解くことを繰り返すことによって元の問題の答えを得る手法である「分割統治法」に基づいたアルゴリズムです。\n",
        "\n",
        "マージソート (昇順) は以下のようなアルゴリズムです。データ列を二分してマージソートを行う <font color=\"Red\">**`merge_sort`**</font> と、昇順にソートされた2つの部分データ列をマージする <font color=\"Red\">**`merge`**</font> から成ります。\n",
        "\n",
        "```\n",
        "// アルゴリズムが正しく実装されていることを確認するために導入するカウンタ変数、ソート処理には関係がないことに注意\n",
        "count <- 0\n",
        "\n",
        "/**\n",
        "    部分データ列 A[left] ~ A[mid-1], A[mid] ~ A[right-1] はそれぞれ整列済み\n",
        "    2つの部分データ列をマージし、A[left] ~ A[right-1] を整列済みにする\n",
        "*/\n",
        "merge(A : 配列, left : 整数, mid : 整数, right : 整数)\n",
        "    // 2つの部分データ列のサイズ\n",
        "    nl <- mid-left\n",
        "    nr <- right-mid\n",
        "\n",
        "    // 部分データ列をコピー\n",
        "    for i = 0 to nl-1\n",
        "        L[i] <- A[left+i]\n",
        "    for i = 0 to nr-1\n",
        "        R[i] <- A[mid+i]\n",
        "    \n",
        "    // 番兵\n",
        "    L[nl] <- INF\n",
        "    R[nr] <- INF\n",
        "    \n",
        "    // 2つの部分データ列をマージして A[left] ~ A[right-1] に書き込む\n",
        "    lindex <- 0\n",
        "    rindex <- 0\n",
        "\n",
        "    for i = left to right-1\n",
        "        if L[lindex] < R[rindex] then\n",
        "            A[i] <- L[lindex]\n",
        "            lindex++\n",
        "        else\n",
        "            A[i] <- R[rindex]\n",
        "            rindex++\n",
        "            count++\n",
        "\n",
        "/**\n",
        "    A[left] ~ A[right-1] をマージソートする\n",
        "    配列 A をマージソートするには merge_sort(A, 0, n) を呼び出す\n",
        "*/\n",
        "merge_sort(A : 配列, left : 整数, right : 整数)\n",
        "    if left+1 < right\n",
        "        mid = (left + right) / 2\n",
        "        merge_sort(A, left, mid)\n",
        "        merge_sort(A, mid, right)\n",
        "        merge(A, left, mid, right)\n",
        "```\n",
        "\n",
        "このプログラムでは番兵と呼ばれるテクニックを使っています。これは、処理を行う範囲の境界部分に特殊なデータを置いておくことで、プログラムをすっきりさせるテクニックです。番兵を使わずに上のプログラムを書こうとすると、データ列をマージする処理において <font color=\"Red\">**`lindex`**</font> や <font color=\"Red\">**`rindex`**</font> がそれぞれ <font color=\"Red\">**`nl`**</font>, <font color=\"Red\">**`nr`**</font> 未満であるかどうかを確かめながら複雑な条件分岐の処理を書く必要が出てきます。今回は、入力の最大値より大きい数 <font color=\"Red\">**`INF`**</font> を2つのデータ列の末尾に配置することで、番兵を実現しています。\n",
        "\n",
        "<img src=\"https://paiza-learning-mondai.s3.amazonaws.com/sort_efficient/sort_efficient__merge/01.png\">\n",
        "\n",
        "マージソートの計算量を考えます。<font color=\"Red\">**`merge_sort`**</font> ではデータ列を2つに分割していますが、この分割は入力されるデータ列のサイズ n に対して約 log n 段行われます (上図参照) 。そして、各段のマージに合計 O(n) かかるため、マージソート全体の計算量は O(n log n) です。\n",
        "\n",
        "\n",
        "\n",
        "では、要素数 n の数列を昇順にソートするマージソートのプログラムを、上の疑似コードに従って実装してください。アルゴリズムが正しく実装されていることを確認するために、数列をソートした結果に加え、マージソート後の <font color=\"Red\">**`count`**</font> の値を出力してください。"
      ],
      "metadata": {
        "id": "3iwrl2SsFo24"
      }
    },
    {
      "cell_type": "markdown",
      "source": [
        "input\n",
        "```\n",
        "n\n",
        "A_1 A_2 ... A_n\n",
        "```\n",
        "・ 入力はすべて整数<br>\n",
        "・ 1行目に、数列の要素数 n が与えられます。<br>\n",
        "・ 2行目に、数列の要素 A_1, A_2, ... , A_n が半角スペース区切りで与えられます。"
      ],
      "metadata": {
        "id": "fKR_5uHRHHeS"
      }
    },
    {
      "cell_type": "markdown",
      "source": [
        "output\n",
        "\n",
        "2行出力してください。<br>\n",
        "1行目に、ソート後の数列 A' の各要素を半角スペース区切りで出力してください。<br>\n",
        "2行目に、count を出力してください。<br>\n",
        "また、末尾に改行を入れ、余計な文字、空行を含んではいけません。\n",
        "\n",
        "```\n",
        "A'_1 A'_2 ... A'_n\n",
        "count\n",
        "```"
      ],
      "metadata": {
        "id": "Tct73q6mHUFv"
      }
    },
    {
      "cell_type": "markdown",
      "source": [
        "conditions\n",
        "\n",
        "・ 1 ≦ n ≦ 500,000<br>\n",
        "・ -1,000,000,000 ≦ A_i ≦ 1,000,000,000 (1 ≦ i ≦ n)"
      ],
      "metadata": {
        "id": "7aVytfyTHjwn"
      }
    },
    {
      "cell_type": "markdown",
      "source": [
        "input_1\n",
        "```\n",
        "10\n",
        "7 6 10 2 5 4 8 3 9 1\n",
        "```\n",
        "output\n",
        "```\n",
        "1 2 3 4 5 6 7 8 9 10\n",
        "19\n",
        "```"
      ],
      "metadata": {
        "id": "7mjqACeCHqOo"
      }
    },
    {
      "cell_type": "markdown",
      "source": [
        "#### code"
      ],
      "metadata": {
        "id": "VlHpf0HeIOKQ"
      }
    },
    {
      "cell_type": "code",
      "source": [
        ""
      ],
      "metadata": {
        "id": "e4P8U9cK3KQH"
      },
      "execution_count": null,
      "outputs": []
    },
    {
      "cell_type": "code",
      "source": [
        "# 2022.3.31\n",
        "\n",
        "# Status : New\n",
        "\n",
        "input_count = 0    # Reset counter\n",
        "\n",
        "def merge(a, left, mid, right):\n",
        "    ''' a:    list\n",
        "        left:  int\n",
        "        mid:   int\n",
        "        right: int '''\n",
        "\n",
        "    counter = 0    # カウンタ変数　ソート処理には無関係\n",
        "\n",
        "    INF = 2 ** 32    # 番兵の定義（ > 入力値の最大値）\n",
        "\n",
        "    n_left = mid - left    # 部分データ列のサイズ\n",
        "    n_right = right - mid\n",
        "\n",
        "    '''\n",
        "    L = []    # 外部配列の準備\n",
        "    R = []\n",
        "    \n",
        "\n",
        "    for i in range(n_left):\n",
        "        L[i] = a[left + i]    # 外部配列に部分データ列をコピー\n",
        "    for i in range(n_right):\n",
        "        R[i] = a[mid + i]\n",
        "        '''\n",
        "\n",
        "    L = a[:mid]    # 外部配列の準備\n",
        "    R = a[mid:]\n",
        "\n",
        "    L.append(INF)    # 番兵の投入\n",
        "    R.append(INF)\n",
        "\n",
        "    # 2つの部分データ列をマージして A[left] ~ A[right] に書き込む\n",
        "    L_index = R_index = 0\n",
        "\n",
        "    for i in range(left, right):\n",
        "        if L[L_index] < R[R_index]:\n",
        "            a[i] = L[L_index]\n",
        "            L_index += 1\n",
        "        else:\n",
        "            a[i] = R[R_index]\n",
        "            R_index += 1\n",
        "        counter += 1\n",
        "\n",
        "        print(f'{counter}: L={L}, R={R}, a={a}')\n",
        "\n",
        "    return a\n",
        "\n",
        "\n",
        "def merge_sort(a, left, right):\n",
        "    if left + 1 < right:\n",
        "        mid = (left + right) // 2\n",
        "        print(mid)\n",
        "        merge_sort(a, left, mid)\n",
        "        merge_sort(a, mid, right)\n",
        "        print(a)\n",
        "        merge(a, left, mid, right)\n",
        "\n",
        "    # print(a)\n",
        "\n",
        "\n",
        "def main():\n",
        "    N = int(input())\n",
        "    A = [int(x) for x in input().split()]\n",
        "    LEFT = 0\n",
        "    RIGHT = len(A)\n",
        "    \n",
        "    merge_sort(A, LEFT, RIGHT)\n",
        "\n",
        "\n",
        "main()\n"
      ],
      "metadata": {
        "id": "ftuwBCTMIQu-",
        "colab": {
          "base_uri": "https://localhost:8080/"
        },
        "outputId": "6ba30355-ac0c-4dfe-c1da-3632296165b4"
      },
      "execution_count": 17,
      "outputs": [
        {
          "output_type": "stream",
          "name": "stdout",
          "text": [
            "5\n",
            "2\n",
            "1\n",
            "[7, 6, 10, 2, 5, 4, 8, 3, 9, 1]\n",
            "1: L=[7, 4294967296], R=[6, 10, 2, 5, 4, 8, 3, 9, 1, 4294967296], a=[6, 6, 10, 2, 5, 4, 8, 3, 9, 1]\n",
            "2: L=[7, 4294967296], R=[6, 10, 2, 5, 4, 8, 3, 9, 1, 4294967296], a=[6, 7, 10, 2, 5, 4, 8, 3, 9, 1]\n",
            "3\n",
            "4\n",
            "[6, 7, 10, 2, 5, 4, 8, 3, 9, 1]\n",
            "1: L=[6, 7, 10, 2, 4294967296], R=[5, 4, 8, 3, 9, 1, 4294967296], a=[6, 7, 10, 5, 5, 4, 8, 3, 9, 1]\n",
            "2: L=[6, 7, 10, 2, 4294967296], R=[5, 4, 8, 3, 9, 1, 4294967296], a=[6, 7, 10, 5, 4, 4, 8, 3, 9, 1]\n",
            "[6, 7, 10, 5, 4, 4, 8, 3, 9, 1]\n",
            "1: L=[6, 7, 10, 4294967296], R=[5, 4, 4, 8, 3, 9, 1, 4294967296], a=[6, 7, 5, 5, 4, 4, 8, 3, 9, 1]\n",
            "2: L=[6, 7, 10, 4294967296], R=[5, 4, 4, 8, 3, 9, 1, 4294967296], a=[6, 7, 5, 4, 4, 4, 8, 3, 9, 1]\n",
            "3: L=[6, 7, 10, 4294967296], R=[5, 4, 4, 8, 3, 9, 1, 4294967296], a=[6, 7, 5, 4, 4, 4, 8, 3, 9, 1]\n",
            "[6, 7, 5, 4, 4, 4, 8, 3, 9, 1]\n",
            "1: L=[6, 7, 4294967296], R=[5, 4, 4, 4, 8, 3, 9, 1, 4294967296], a=[5, 7, 5, 4, 4, 4, 8, 3, 9, 1]\n",
            "2: L=[6, 7, 4294967296], R=[5, 4, 4, 4, 8, 3, 9, 1, 4294967296], a=[5, 4, 5, 4, 4, 4, 8, 3, 9, 1]\n",
            "3: L=[6, 7, 4294967296], R=[5, 4, 4, 4, 8, 3, 9, 1, 4294967296], a=[5, 4, 4, 4, 4, 4, 8, 3, 9, 1]\n",
            "4: L=[6, 7, 4294967296], R=[5, 4, 4, 4, 8, 3, 9, 1, 4294967296], a=[5, 4, 4, 4, 4, 4, 8, 3, 9, 1]\n",
            "5: L=[6, 7, 4294967296], R=[5, 4, 4, 4, 8, 3, 9, 1, 4294967296], a=[5, 4, 4, 4, 6, 4, 8, 3, 9, 1]\n",
            "7\n",
            "6\n",
            "[5, 4, 4, 4, 6, 4, 8, 3, 9, 1]\n",
            "1: L=[5, 4, 4, 4, 6, 4, 4294967296], R=[8, 3, 9, 1, 4294967296], a=[5, 4, 4, 4, 6, 5, 8, 3, 9, 1]\n",
            "2: L=[5, 4, 4, 4, 6, 4, 4294967296], R=[8, 3, 9, 1, 4294967296], a=[5, 4, 4, 4, 6, 5, 4, 3, 9, 1]\n",
            "8\n",
            "9\n",
            "[5, 4, 4, 4, 6, 5, 4, 3, 9, 1]\n",
            "1: L=[5, 4, 4, 4, 6, 5, 4, 3, 9, 4294967296], R=[1, 4294967296], a=[5, 4, 4, 4, 6, 5, 4, 3, 1, 1]\n",
            "2: L=[5, 4, 4, 4, 6, 5, 4, 3, 9, 4294967296], R=[1, 4294967296], a=[5, 4, 4, 4, 6, 5, 4, 3, 1, 5]\n",
            "[5, 4, 4, 4, 6, 5, 4, 3, 1, 5]\n",
            "1: L=[5, 4, 4, 4, 6, 5, 4, 3, 4294967296], R=[1, 5, 4294967296], a=[5, 4, 4, 4, 6, 5, 4, 1, 1, 5]\n",
            "2: L=[5, 4, 4, 4, 6, 5, 4, 3, 4294967296], R=[1, 5, 4294967296], a=[5, 4, 4, 4, 6, 5, 4, 1, 5, 5]\n",
            "3: L=[5, 4, 4, 4, 6, 5, 4, 3, 4294967296], R=[1, 5, 4294967296], a=[5, 4, 4, 4, 6, 5, 4, 1, 5, 5]\n",
            "[5, 4, 4, 4, 6, 5, 4, 1, 5, 5]\n",
            "1: L=[5, 4, 4, 4, 6, 5, 4, 4294967296], R=[1, 5, 5, 4294967296], a=[5, 4, 4, 4, 6, 1, 4, 1, 5, 5]\n",
            "2: L=[5, 4, 4, 4, 6, 5, 4, 4294967296], R=[1, 5, 5, 4294967296], a=[5, 4, 4, 4, 6, 1, 5, 1, 5, 5]\n",
            "3: L=[5, 4, 4, 4, 6, 5, 4, 4294967296], R=[1, 5, 5, 4294967296], a=[5, 4, 4, 4, 6, 1, 5, 5, 5, 5]\n",
            "4: L=[5, 4, 4, 4, 6, 5, 4, 4294967296], R=[1, 5, 5, 4294967296], a=[5, 4, 4, 4, 6, 1, 5, 5, 5, 5]\n",
            "5: L=[5, 4, 4, 4, 6, 5, 4, 4294967296], R=[1, 5, 5, 4294967296], a=[5, 4, 4, 4, 6, 1, 5, 5, 5, 4]\n",
            "[5, 4, 4, 4, 6, 1, 5, 5, 5, 4]\n",
            "1: L=[5, 4, 4, 4, 6, 4294967296], R=[1, 5, 5, 5, 4, 4294967296], a=[1, 4, 4, 4, 6, 1, 5, 5, 5, 4]\n",
            "2: L=[5, 4, 4, 4, 6, 4294967296], R=[1, 5, 5, 5, 4, 4294967296], a=[1, 5, 4, 4, 6, 1, 5, 5, 5, 4]\n",
            "3: L=[5, 4, 4, 4, 6, 4294967296], R=[1, 5, 5, 5, 4, 4294967296], a=[1, 5, 5, 4, 6, 1, 5, 5, 5, 4]\n",
            "4: L=[5, 4, 4, 4, 6, 4294967296], R=[1, 5, 5, 5, 4, 4294967296], a=[1, 5, 5, 5, 6, 1, 5, 5, 5, 4]\n",
            "5: L=[5, 4, 4, 4, 6, 4294967296], R=[1, 5, 5, 5, 4, 4294967296], a=[1, 5, 5, 5, 4, 1, 5, 5, 5, 4]\n",
            "6: L=[5, 4, 4, 4, 6, 4294967296], R=[1, 5, 5, 5, 4, 4294967296], a=[1, 5, 5, 5, 4, 5, 5, 5, 5, 4]\n",
            "7: L=[5, 4, 4, 4, 6, 4294967296], R=[1, 5, 5, 5, 4, 4294967296], a=[1, 5, 5, 5, 4, 5, 4, 5, 5, 4]\n",
            "8: L=[5, 4, 4, 4, 6, 4294967296], R=[1, 5, 5, 5, 4, 4294967296], a=[1, 5, 5, 5, 4, 5, 4, 4, 5, 4]\n",
            "9: L=[5, 4, 4, 4, 6, 4294967296], R=[1, 5, 5, 5, 4, 4294967296], a=[1, 5, 5, 5, 4, 5, 4, 4, 4, 4]\n",
            "10: L=[5, 4, 4, 4, 6, 4294967296], R=[1, 5, 5, 5, 4, 4294967296], a=[1, 5, 5, 5, 4, 5, 4, 4, 4, 6]\n"
          ]
        }
      ]
    },
    {
      "cell_type": "code",
      "source": [
        "L_index = R_index = 0\n",
        "L_index = 1\n",
        "print(L_index, R_index)"
      ],
      "metadata": {
        "colab": {
          "base_uri": "https://localhost:8080/"
        },
        "id": "-E3ZZP1yEhJr",
        "outputId": "0dd852b0-3bf7-47ef-ea36-562c95ac0c65"
      },
      "execution_count": 4,
      "outputs": [
        {
          "output_type": "stream",
          "name": "stdout",
          "text": [
            "1 0\n"
          ]
        }
      ]
    },
    {
      "cell_type": "code",
      "source": [
        "b = [1, 2, 3, 4, 5, 6, 7, 8, 9, 10]\n",
        "print(b[:5], b[5:])"
      ],
      "metadata": {
        "colab": {
          "base_uri": "https://localhost:8080/"
        },
        "id": "27QF0vuODfPm",
        "outputId": "d49da716-dd0f-4ea9-f650-4fe5b2c7295f"
      },
      "execution_count": 3,
      "outputs": [
        {
          "output_type": "stream",
          "name": "stdout",
          "text": [
            "[1, 2, 3, 4, 5] [6, 7, 8, 9, 10]\n"
          ]
        }
      ]
    },
    {
      "cell_type": "code",
      "source": [
        "2 ** 32"
      ],
      "metadata": {
        "colab": {
          "base_uri": "https://localhost:8080/"
        },
        "id": "VlhQ0wPE5BZo",
        "outputId": "2e6b37a2-7d9e-4ece-fa55-f91006773231"
      },
      "execution_count": 1,
      "outputs": [
        {
          "output_type": "execute_result",
          "data": {
            "text/plain": [
              "4294967296"
            ]
          },
          "metadata": {},
          "execution_count": 1
        }
      ]
    },
    {
      "cell_type": "code",
      "source": [
        "10 ** 9"
      ],
      "metadata": {
        "colab": {
          "base_uri": "https://localhost:8080/"
        },
        "id": "pWba8TVI5VbO",
        "outputId": "b22858d1-d55b-4718-9b62-efa4466fcc50"
      },
      "execution_count": 2,
      "outputs": [
        {
          "output_type": "execute_result",
          "data": {
            "text/plain": [
              "1000000000"
            ]
          },
          "metadata": {},
          "execution_count": 2
        }
      ]
    },
    {
      "cell_type": "markdown",
      "source": [
        "### シェルソート (paizaランク B 相当)"
      ],
      "metadata": {
        "id": "qzMiJUGt04do"
      }
    },
    {
      "cell_type": "markdown",
      "source": [
        "#### Task"
      ],
      "metadata": {
        "id": "aTp_vzHV3Uak"
      }
    },
    {
      "cell_type": "markdown",
      "source": [
        "シェルソートは、挿入ソートを改良したアルゴリズムです。挿入ソートが整列済みのデータ列に強いことを利用しています。\n",
        "\n",
        "シェルソートでは、<font color=\"Red\">**`データ列において一定の間隔 h だけ離れた要素たちからなる部分列を対象とした挿入ソート`**</font> を、h を小さくしながら (間隔を狭めながら) 繰り返してソートを行っていきます。h は適当に大きな値から始め、段階的に小さくしていき、最終的に 1 にします。h が 1 のとき、間隔が 1 離れた要素たちからなる部分列というのは元のデータ列そのものですから、このとき単純な挿入ソートを行うことになります。この時点でデータ列は既にほとんど整列済みとなっていることが期待されるため、ここで挿入ソートの強みが活かされます。\n",
        "\n",
        "シェルソート (昇順) は以下のようなアルゴリズムです。\n",
        "\n",
        "```\n",
        "insertion_sort(A : 配列, n : Aの要素数, h : 間隔)\n",
        "    // アルゴリズムが正しく実装されていることを確認するために導入するカウンタ変数、ソート処理には関係がないことに注意\n",
        "    num_of_move <- 0\n",
        "\n",
        "    for i = h to n-1\n",
        "        // A[i] を、整列済みの A[i-ah], ..., A[i-2h], A[i-h] の適切な位置に挿入する\n",
        "\n",
        "        // 実装の都合上、A[i] の値が上書きされてしまうことがあるので、予め A[i] の値をコピーしておく \n",
        "        x <- A[i]\n",
        "\n",
        "        // A[i] の適切な挿入位置を表す変数 j を用意\n",
        "        j <- i-h\n",
        "\n",
        "        // A[i] の適切な挿入位置が見つかるまで、A[i] より大きい要素を後ろにずらしていく\n",
        "        while j >= 0 AND A[j] > x\n",
        "            A[j+h] = A[j]\n",
        "            j -= h\n",
        "            num_of_move++\n",
        "        \n",
        "        // A[i] を挿入\n",
        "        A[j+h] <- x\n",
        "\n",
        "shell_sort(A : 配列, n : Aの要素数, H : 間隔列)\n",
        "    for h in H\n",
        "        insertion_sort(A, n, h)\n",
        "```\n",
        "\n",
        "<img src=\"https://paiza-learning-mondai.s3.amazonaws.com/sort_efficient/sort_efficient__shell/01.png\">\n",
        "\n",
        "シェルソートの計算量は間隔列 H に強く依存します。シェルソートの計算量解析を正確に行うことは難しく、未解決です。いくつかの有名な間隔列に対しては計算量解析が行われており、例えば <font color=\"Red\">**`h_i = 3h_{i+1} + 1`**</font> を満たす整数列 <font color=\"Red\">**`(..., 364, 121, 40, 13, 4, 1)`**</font>  を間隔列として採用した際のシェルソートは、平均計算量が O(n^{1.25}) になることが知られています。\n",
        "\n",
        "\n",
        "\n",
        "では、要素数 n の数列を昇順にソートするシェルソートのプログラムを、上の疑似コードに従って実装してください。数列 h_1, ... , h_k が入力として与えられるので、それを間隔列として採用してください。なお、この数列は上で示した漸化式<font color=\"Red\">**`h_i = 3h_{i+1} + 1`**</font> を満たしています。\n",
        "\n",
        "アルゴリズムが正しく実装されていることを確認するために、各間隔 h_i について、<font color=\"Red\">**`num_of_move`**</font> を出力してください。"
      ],
      "metadata": {
        "id": "-uBWMnTn1B2e"
      }
    },
    {
      "cell_type": "markdown",
      "source": [
        "input\n",
        "```\n",
        "n\n",
        "A_1 A_2 ... A_n\n",
        "k\n",
        "h_1 h_2 ... h_k\n",
        "```\n",
        "・ 入力はすべて整数<br>\n",
        "・ 1行目に、数列の要素数 n が与えられます。<br>\n",
        "・ 2行目に、数列の要素 A_1, A_2, ... , A_n が半角スペース区切りで与えられます。<br>\n",
        "・ 3行目に、間隔列の要素数 k が与えられます。<br>\n",
        "・ 2行目に、間隔列の要素 h_1, h_2, ... , h_k が半角スペース区切りで与えられます。"
      ],
      "metadata": {
        "id": "MjgcRpXw2eOX"
      }
    },
    {
      "cell_type": "markdown",
      "source": [
        "output\n",
        "\n",
        "k 行出力してください。\n",
        "i 行目 (1 ≦ i ≦ k) には、間隔 h_i について、その処理が終わった時点での num_of_move の値を出力してください。<br>\n",
        "また、末尾に改行を入れ、余計な文字、空行を含んではいけません。\n",
        "```\n",
        "num_of_move\n",
        "...\n",
        "```"
      ],
      "metadata": {
        "id": "FvH0mSmQ2oUL"
      }
    },
    {
      "cell_type": "markdown",
      "source": [
        "conditions\n",
        "\n",
        "・ 1 ≦ n ≦ 500,000<br>\n",
        "・ -1,000,000,000 ≦ A_i ≦ 1,000,000,000 (1 ≦ i ≦ n)<br>\n",
        "・ 1 ≦ k ≦ 12<br>\n",
        "・ 1 ≦ h_i ≦ n (1 ≦ i ≦ k)<br>\n",
        "・ h_i は漸化式<font color=\"Red\">**`h_i = 3h_{i+1} + 1`**</font>を満たす<br>\n",
        "・ h_k は 1"
      ],
      "metadata": {
        "id": "uIoM3cCh2xoD"
      }
    },
    {
      "cell_type": "markdown",
      "source": [
        "input_1\n",
        "```\n",
        "10\n",
        "7 6 10 2 5 4 8 3 9 1\n",
        "2\n",
        "4 1\n",
        "```\n",
        "output_1\n",
        "```\n",
        "5\n",
        "17\n",
        "```"
      ],
      "metadata": {
        "id": "DdXX8jZc3Fdj"
      }
    },
    {
      "cell_type": "markdown",
      "source": [
        "#### Code"
      ],
      "metadata": {
        "id": "C0yftnOB3RbC"
      }
    },
    {
      "cell_type": "code",
      "source": [
        "# 2022.3.31\n",
        "\n",
        "# Status : Completed 3.31\n",
        "\n",
        "input_count = 0    # Reset counter\n",
        "\n",
        "def insertion_sort(a, n, h):\n",
        "    counter = 0  # カウンタ変数　ソート処理には無関係\n",
        "\n",
        "    for i in range(h, n):    # [h:n]\n",
        "        tmp = a[i]    # a[i]は上書きされるため、あらかじめ tmp に格納\n",
        "        j = i - h    # a[i]の適切な挿入位置を表す j\n",
        "\n",
        "        while j >= 0 and a[j] > tmp:\n",
        "            a[j+h] = a[j]\n",
        "            j -= h\n",
        "            counter += 1\n",
        "            print(a)\n",
        "\n",
        "        a[j+h] = tmp\n",
        "        \n",
        "\n",
        "    print(counter)\n",
        "\n",
        "\n",
        "def main():\n",
        "    n = int(input())\n",
        "    a = [int(x) for x in input().split()]\n",
        "    k = int(input())\n",
        "    h_k = [int(y) for y in input().split()]\n",
        "\n",
        "    for h in h_k:\n",
        "        insertion_sort(a, n, h)\n",
        "\n",
        "\n",
        "main()"
      ],
      "metadata": {
        "colab": {
          "base_uri": "https://localhost:8080/"
        },
        "id": "_XTKCuSh3vpb",
        "outputId": "737df106-b730-406d-d074-4ea3629f79b9"
      },
      "execution_count": null,
      "outputs": [
        {
          "output_type": "stream",
          "name": "stdout",
          "text": [
            "[7, 6, 10, 2, 7, 4, 8, 3, 9, 1]\n",
            "[5, 6, 10, 2, 7, 6, 8, 3, 9, 1]\n",
            "[5, 4, 10, 2, 7, 6, 10, 3, 9, 1]\n",
            "[5, 4, 8, 2, 7, 6, 10, 3, 9, 6]\n",
            "[5, 4, 8, 2, 7, 4, 10, 3, 9, 6]\n",
            "5\n",
            "[5, 5, 8, 2, 7, 4, 10, 3, 9, 6]\n",
            "[1, 5, 8, 8, 7, 4, 10, 3, 9, 6]\n",
            "[1, 5, 5, 8, 7, 4, 10, 3, 9, 6]\n",
            "[1, 2, 5, 8, 8, 4, 10, 3, 9, 6]\n",
            "[1, 2, 5, 7, 8, 8, 10, 3, 9, 6]\n",
            "[1, 2, 5, 7, 7, 8, 10, 3, 9, 6]\n",
            "[1, 2, 5, 5, 7, 8, 10, 3, 9, 6]\n",
            "[1, 2, 4, 5, 7, 8, 10, 10, 9, 6]\n",
            "[1, 2, 4, 5, 7, 8, 8, 10, 9, 6]\n",
            "[1, 2, 4, 5, 7, 7, 8, 10, 9, 6]\n",
            "[1, 2, 4, 5, 5, 7, 8, 10, 9, 6]\n",
            "[1, 2, 4, 4, 5, 7, 8, 10, 9, 6]\n",
            "[1, 2, 3, 4, 5, 7, 8, 10, 10, 6]\n",
            "[1, 2, 3, 4, 5, 7, 8, 9, 10, 10]\n",
            "[1, 2, 3, 4, 5, 7, 8, 9, 9, 10]\n",
            "[1, 2, 3, 4, 5, 7, 8, 8, 9, 10]\n",
            "[1, 2, 3, 4, 5, 7, 7, 8, 9, 10]\n",
            "17\n"
          ]
        }
      ]
    },
    {
      "cell_type": "markdown",
      "source": [
        "### バブルソート (paizaランク B 相当)"
      ],
      "metadata": {
        "id": "QVtZBmvAJTme"
      }
    },
    {
      "cell_type": "markdown",
      "source": [
        "#### Task"
      ],
      "metadata": {
        "id": "bqPSzT390RDn"
      }
    },
    {
      "cell_type": "markdown",
      "source": [
        "順序付け可能なデータの列を、昇順または降順に並び替える操作をソートと呼びます。「データ」は、数値や文字列、オブジェクトなどあらゆるものを指します。<br>\n",
        "ソート処理はいたるところで利用されています。\n",
        "\n",
        "\n",
        "・得点表を元にしてランキングを作成する<br>\n",
        "　　　　一番素朴なソートの使い方です。\n",
        "\n",
        "・データの集まりから、上位k個を取ってくる<br>\n",
        "　　　　ソートをしてから先頭のk個を取ればよいです。\n",
        "\n",
        "・貪欲アルゴリズムの前処理<br>\n",
        "　　　　データを大きい (小さい) 順に貪欲に処理を行っていくようなアルゴリズムの前処理として、ソートは有効です。\n",
        "\n",
        "---\n",
        "\n",
        "バブルソートは、データ列の隣り合う要素を比較し交換することを繰り返すことによりデータ列をソートする手法です。バブルとは「泡」の意味で、ソートの過程でデータが移動する様子が、水中で泡が浮かんでいくように見えることからこの名前がついています。\n",
        "\n",
        "バブルソート (昇順) は以下のようなアルゴリズムです。\n",
        "```\n",
        "bubble_sort(A : 配列, n : Aの要素数)\n",
        "    for i = 0 to n-2\n",
        "        for j = n-1 down to i+1\n",
        "            if a[j-1] > a[j] then\n",
        "                swap(a[j-1], a[j])\n",
        "```\n",
        "<img src=\"https://paiza-learning-mondai.s3.amazonaws.com/sort_naive/sort_naive_bubble/01.png\">\n",
        "\n",
        "データ列を左から右へ昇順ソートすることを考えます。バブルソートの基本方針は、<font color=\"Red\">**`左の要素と比較し、左の方が大きければ交換する`**</font>です。これを右から左まで1回行うと、最小の要素が一番左に移動します。 (首を左に傾けてこの処理を眺めると、泡が水面へと上がっていく様子に見えてきませんか？) 次に、一番左の要素を除いて、同じ処理を繰り返します。すると、2番目に小さい要素が左から2番目に移動します。これを最後まで繰り返せば、ソート完了です。\n",
        "\n",
        "\n",
        "バブルソートの計算量を考えます。最も多くの計算ステップがかかるのは、二重 for ループ中にて値を比較する処理です。よって、この処理が何回行われるかに注目し、計算量を導きます。この処理は、各 i について n-i-1 回行われます。つまり、この処理は全体で n-1 + ... + 1 = (n-1)*n/2 = (n^2-n)/2 回行われます。よって、バブルソートは O(n^2) のアルゴリズムとなります。\n",
        "\n",
        "---\n",
        "\n",
        "では、要素数 n の数列を昇順にソートするバブルソートのプログラムを作成してください。上の疑似コードに従って実装してください。アルゴリズムが正しく実装されていることを確認するために、各 i についてその処理が終わった時点での配列を出力してください。"
      ],
      "metadata": {
        "id": "V1nldr8SxfTV"
      }
    },
    {
      "cell_type": "markdown",
      "source": [
        "input\n",
        "```\n",
        "n\n",
        "A_1 A_2 ... A_n\n",
        "```\n",
        "・ 入力はすべて整数<br>\n",
        "・ 1行目に、配列の要素数 n が与えられます。<br>\n",
        "・ 2行目に、配列の要素 A_1, A_2, ... , A_n が半角スペース区切りで与えられます。"
      ],
      "metadata": {
        "id": "vcv5DiCBzi1Z"
      }
    },
    {
      "cell_type": "markdown",
      "source": [
        "output\n",
        "\n",
        "n-1 行出力してください。<br>\n",
        "i 行目 (1 ≦ i ≦ n) には、i 回目のループ処理が終わった時点での配列を出力してください。配列の各要素を半角スペースで区切り、配列の先頭や末尾に余計な空白を入れないようにしてください。<br>\n",
        "また、末尾に改行を入れ、余計な文字、空行を含んではいけません。\n",
        "```\n",
        "A_1 A_2 ... A_n\n",
        "A_1 A_2 ... A_n\n",
        "...\n",
        "A_1 A_2 ... A_n\n",
        "```"
      ],
      "metadata": {
        "id": "89tCeDO3zttz"
      }
    },
    {
      "cell_type": "markdown",
      "source": [
        "conditions\n",
        "\n",
        "・ 5 ≦ n ≦ 1,000<br>\n",
        "・-10,000 ≦ A_i ≦ 10,000"
      ],
      "metadata": {
        "id": "vW035MQhz6Xm"
      }
    },
    {
      "cell_type": "markdown",
      "source": [
        "input_1\n",
        "```\n",
        "5\n",
        "4 1 3 5 2\n",
        "```\n",
        "output_1\n",
        "```\n",
        "1 4 2 3 5\n",
        "1 2 4 3 5\n",
        "1 2 3 4 5\n",
        "1 2 3 4 5\n",
        "```"
      ],
      "metadata": {
        "id": "SMVCsGxDM1ed"
      }
    },
    {
      "cell_type": "markdown",
      "source": [
        "#### Code"
      ],
      "metadata": {
        "id": "NkJ-fs6s0Zam"
      }
    },
    {
      "cell_type": "code",
      "source": [
        "# 2022.3.30\n",
        "\n",
        "# Status : Completed 3.30\n",
        "\n",
        "input_count = 0    # Reset counter\n",
        "\n",
        "def bubble_sort(a, n):\n",
        "    ''' a: list\n",
        "        n: int '''\n",
        "    for i in range(n - 1):\n",
        "        for j in range(n-1, i, -1):\n",
        "            if a[j-1] > a[j]:\n",
        "                a[j-1], a[j] = a[j], a[j-1]\n",
        "            print(f'i = {i}, j = {j}, a[{j-1}] = {a[j-1]}, a[{j}] = {a[j]}')\n",
        "\n",
        "        print(*a)\n",
        "\n",
        "\n",
        "def main():\n",
        "    N = int(input())\n",
        "    A = [int(i) for i in input().split()]\n",
        "\n",
        "    bubble_sort(A, N)\n",
        "\n",
        "\n",
        "main()"
      ],
      "metadata": {
        "id": "iM0aAeZYJbGC",
        "colab": {
          "base_uri": "https://localhost:8080/"
        },
        "outputId": "50c7bcdd-cd8b-4256-fa02-6bc002a72839"
      },
      "execution_count": null,
      "outputs": [
        {
          "output_type": "stream",
          "name": "stdout",
          "text": [
            "i = 0, j = 4, a[3] = 2, a[4] = 5\n",
            "i = 0, j = 3, a[2] = 2, a[3] = 3\n",
            "i = 0, j = 2, a[1] = 1, a[2] = 2\n",
            "i = 0, j = 1, a[0] = 1, a[1] = 4\n",
            "1 4 2 3 5\n",
            "i = 1, j = 4, a[3] = 3, a[4] = 5\n",
            "i = 1, j = 3, a[2] = 2, a[3] = 3\n",
            "i = 1, j = 2, a[1] = 2, a[2] = 4\n",
            "1 2 4 3 5\n",
            "i = 2, j = 4, a[3] = 3, a[4] = 5\n",
            "i = 2, j = 3, a[2] = 3, a[3] = 4\n",
            "1 2 3 4 5\n",
            "i = 3, j = 4, a[3] = 4, a[4] = 5\n",
            "1 2 3 4 5\n"
          ]
        }
      ]
    },
    {
      "cell_type": "markdown",
      "source": [
        "### 選択ソート (paizaランク B 相当)"
      ],
      "metadata": {
        "id": "JeTrDs3uagTx"
      }
    },
    {
      "cell_type": "markdown",
      "source": [
        "#### Task"
      ],
      "metadata": {
        "id": "DXupoIVUbGdT"
      }
    },
    {
      "cell_type": "markdown",
      "source": [
        "選択ソート (昇順) は、データ列を「整列済み」と「未整列」の2つに分け、「未整列な配列」の最小値を取り出し、「整列済み配列」の末尾に付け加えることを繰り返す手法です。「未整列な配列」の要素数が 1 になるまで処理を繰り返すと、1つの「整列済み配列」が得られます。\n",
        "\n",
        "\n",
        "選択ソート (昇順) は以下のようなアルゴリズムです。初期状態では配列全体 A[0] ~ A[n-1] を「未整列」とします。\n",
        "\n",
        "\n",
        "```\n",
        "selection_sort(A : 配列, n : Aの要素数)\n",
        "    for i = 0 to n-2\n",
        "        // A[i] ~ A[n-1] の最小値を見つけ、A[i]と交換する\n",
        "        // つまり、整列済みとなっている A[0] ~ A[i-1] の末尾に、A[i] ~ A[n-1] の最小値を付け加える\n",
        "        \n",
        "        // A[i] ~ A[n-1] の最小値の位置を保存する変数 min_index を用意\n",
        "        // 暫定的に A[i] を最小値とする\n",
        "        min_index <- i\n",
        "\n",
        "        // 最小値を探す\n",
        "        for j = i+1 to n-1\n",
        "            if A[j] < A[min_index] then\n",
        "                min_index = j\n",
        "\n",
        "        // A[i] と A[min_index]を交換\n",
        "        swap(A[i], A[min_index])\n",
        "\n",
        "        // A[0] ~ A[i] が整列済みになった\n",
        "```\n",
        "<img src=\"https://paiza-learning-mondai.s3.amazonaws.com/sort_naive/sort_naive_selection/01.png\">\n",
        "\n",
        "選択ソートの計算量を考えます。最も多くの計算ステップがかかるのは、二重 for ループ中にて値を比較する処理です。よって、この処理が何回行われるかに注目し、計算量を導きます。この処理は、各 i について n-i-1 回行われます。つまり、この処理は全体で n-1 + ... + 1 = (n-1)*n/2 = (n^2-n)/2 回行われます。よって、選択ソートは O(n^2) のアルゴリズムとなります。\n",
        "\n",
        "\n",
        "選択ソートは、入力によって効率が左右されないアルゴリズムです。\n",
        "\n",
        "\n",
        "---\n",
        "\n",
        "\n",
        "では、要素数 n の数列を昇順にソートする選択ソートのプログラムを作成してください。上の疑似コードに従って実装してください。アルゴリズムが正しく実装されていることを確認するために、各 i についてその処理が終わった時点での配列を出力してください。"
      ],
      "metadata": {
        "id": "pPQFaafwaqAo"
      }
    },
    {
      "cell_type": "markdown",
      "source": [
        "#### Code"
      ],
      "metadata": {
        "id": "pZdYhRvvbNrk"
      }
    },
    {
      "cell_type": "code",
      "source": [
        "# 2021.8.9\n",
        "\n",
        "input_count = 0    # Reset counter\n",
        "\n",
        "def main():\n",
        "    n = int(input())\n",
        "    a = list(map(int, input().split()))\n",
        "    min_index = []\n",
        "    \n",
        "    for i in range(n - 1):\n",
        "        min_index = i\n",
        "        \n",
        "        for j in range(i+1, n):\n",
        "            if a[j] < a[min_index]:\n",
        "                min_index = j\n",
        "                \n",
        "        a[i], a[min_index] = a[min_index], a[i]\n",
        "        \n",
        "        print(' '.join([str(x) for x in a]))\n",
        "    \n",
        "    \n",
        "main()\n"
      ],
      "metadata": {
        "colab": {
          "base_uri": "https://localhost:8080/"
        },
        "id": "WTFVSyqZbSjf",
        "outputId": "5b77a27e-19cf-48d9-fcf0-30d0ac17ddf9"
      },
      "execution_count": null,
      "outputs": [
        {
          "output_type": "stream",
          "name": "stdout",
          "text": [
            "1 4 3 5 2\n",
            "1 2 3 5 4\n",
            "1 2 3 5 4\n",
            "1 2 3 4 5\n"
          ]
        }
      ]
    },
    {
      "cell_type": "markdown",
      "source": [
        "### 挿入ソート (paizaランク B 相当)"
      ],
      "metadata": {
        "id": "JXVgwp0CfmGA"
      }
    },
    {
      "cell_type": "markdown",
      "source": [
        "#### Task"
      ],
      "metadata": {
        "id": "gDRuGrWUf0Nv"
      }
    },
    {
      "cell_type": "markdown",
      "source": [
        "挿入ソートは、データ列を「整列済み」と「未整列」の2つに分け、「未整列な配列」からデータを1つ取り出し、「整列済み配列」の適切な位置に挿入することを繰り返す手法です。「未整列な配列」が空になるまで処理を繰り返すと、1つの「整列済み配列」が得られます。この手法は、手持ちのトランプを並び替える際などによく用いられる、自然で比較的直感的なものです。\n",
        "\n",
        "\n",
        "挿入ソート (昇順) は以下のようなアルゴリズムです。初期状態では A[0] ~ A[0] を「整列済み」、A[1] ~ A[n-1] を「未整列」とします。\n",
        "\n",
        "\n",
        "```\n",
        "insertion_sort(A : 配列, n : Aの要素数)\n",
        "    for i = 1 to n-1\n",
        "        // A[i] を、整列済みの A[0] ~ A[i-1] の適切な位置に挿入する\n",
        "\n",
        "        // 実装の都合上、A[i] の値が上書きされてしまうことがあるので、予め A[i] の値をコピーしておく        \n",
        "        x <- A[i]\n",
        "\n",
        "        // A[i] の適切な挿入位置を表す変数 j を用意\n",
        "        j <- i-1\n",
        "\n",
        "        // A[i] の適切な挿入位置が見つかるまで、A[i] より大きい要素を1つずつ後ろにずらしていく\n",
        "        while j >= 0 AND A[j] > x\n",
        "            A[j+1] = A[j]\n",
        "            j--\n",
        "\n",
        "        // A[i] を挿入\n",
        "        A[j+1] <- x\n",
        "\n",
        "        // A[0] ~ A[i] が整列済みになった\n",
        "```\n",
        "<img src=\"https://paiza-learning-mondai.s3.amazonaws.com/sort_naive/sort_naive_insertion/01.png\">\n",
        "\n",
        "挿入ソートの計算量を考えます。最も多くの計算ステップがかかるのは、while ループ中で値をずらす処理です。よって、この処理が最大で何回行われるかに注目し、計算量を導きます。各 i について、while ループ中で値をずらす処理は最大で i 回行われます。つまり、最悪の場合この処理は全体で 1 + 2 + ... + n-1 = (n-1)*n/2 = (n^2-n)/2 回行われます。よって、挿入ソートは O(n^2) のアルゴリズムとなります。\n",
        "\n",
        "\n",
        "挿入ソートは、入力される配列によって効率が変わるアルゴリズムです。例えば、入力される配列が予め昇順にソートされている場合は値をずらす処理が全く行われませんが、降順にソートされている場合は (n^2-n)/2 回行われます。\n",
        "\n",
        "\n",
        "---\n",
        "\n",
        "\n",
        "では、要素数 n の数列を昇順にソートする挿入ソートのプログラムを作成してください。上の疑似コードに従って実装してください。アルゴリズムが正しく実装されていることを確認するために、各 i についてその処理が終わった時点での配列を出力してください。"
      ],
      "metadata": {
        "id": "B8XlZID6fvYf"
      }
    },
    {
      "cell_type": "markdown",
      "source": [
        "#### Code"
      ],
      "metadata": {
        "id": "NEFaL_-ZgrsG"
      }
    },
    {
      "cell_type": "code",
      "source": [
        "# 2021.4.16\n",
        "\n",
        "input_count = 0    # Reset counter\n",
        "\n",
        "def insertion_sort(a, n):\n",
        "    ''' a : list[int]\n",
        "        n : int '''\n",
        "    for i in range(1, n):\n",
        "        temp = a.pop(i)\n",
        "        j = i - 1\n",
        "        \n",
        "        while j >= 0 and a[j] > temp:\n",
        "            j -= 1\n",
        "            \n",
        "        a.insert(j + 1, temp)\n",
        "\n",
        "        print(' '.join(map(str, a)))\n",
        "    \n",
        "    \n",
        "def main():\n",
        "    n = int(input())\n",
        "    a_list = list(map(int, input().split()))\n",
        "    \n",
        "    insertion_sort(a_list, n)\n",
        "    \n",
        "    \n",
        "main()"
      ],
      "metadata": {
        "colab": {
          "base_uri": "https://localhost:8080/"
        },
        "id": "EQRZUbFmguYm",
        "outputId": "ea985803-724a-4ff6-faab-01e4c759a788"
      },
      "execution_count": null,
      "outputs": [
        {
          "output_type": "stream",
          "name": "stdout",
          "text": [
            "1 4 3 5 2\n",
            "1 3 4 5 2\n",
            "1 3 4 5 2\n",
            "1 2 3 4 5\n"
          ]
        }
      ]
    }
  ]
}