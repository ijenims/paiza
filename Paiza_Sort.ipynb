{
  "nbformat": 4,
  "nbformat_minor": 0,
  "metadata": {
    "colab": {
      "name": "Paiza_Sort.ipynb",
      "provenance": [],
      "toc_visible": true,
      "authorship_tag": "ABX9TyN21mxP8Cedl6aW+VU2wlFg",
      "include_colab_link": true
    },
    "kernelspec": {
      "name": "python3",
      "display_name": "Python 3"
    },
    "language_info": {
      "name": "python"
    },
    "widgets": {
      "application/vnd.jupyter.widget-state+json": {
        "9d322e83c3654bd1842dac64e7ce0861": {
          "model_module": "@jupyter-widgets/controls",
          "model_name": "TextareaModel",
          "model_module_version": "1.5.0",
          "state": {
            "_view_name": "TextareaView",
            "style": "IPY_MODEL_cdca3166d45f45b185a947c5fbcf04d3",
            "rows": null,
            "_dom_classes": [],
            "description": "",
            "_model_name": "TextareaModel",
            "placeholder": "​",
            "_view_module": "@jupyter-widgets/controls",
            "_model_module_version": "1.5.0",
            "value": "",
            "_view_count": null,
            "disabled": false,
            "_view_module_version": "1.5.0",
            "continuous_update": true,
            "description_tooltip": null,
            "_model_module": "@jupyter-widgets/controls",
            "layout": "IPY_MODEL_c2a3c08d59f94e8783e0812a7975894f"
          }
        },
        "cdca3166d45f45b185a947c5fbcf04d3": {
          "model_module": "@jupyter-widgets/controls",
          "model_name": "DescriptionStyleModel",
          "model_module_version": "1.5.0",
          "state": {
            "_view_name": "StyleView",
            "_model_name": "DescriptionStyleModel",
            "description_width": "",
            "_view_module": "@jupyter-widgets/base",
            "_model_module_version": "1.5.0",
            "_view_count": null,
            "_view_module_version": "1.2.0",
            "_model_module": "@jupyter-widgets/controls"
          }
        },
        "c2a3c08d59f94e8783e0812a7975894f": {
          "model_module": "@jupyter-widgets/base",
          "model_name": "LayoutModel",
          "model_module_version": "1.2.0",
          "state": {
            "_view_name": "LayoutView",
            "grid_template_rows": null,
            "right": null,
            "justify_content": null,
            "_view_module": "@jupyter-widgets/base",
            "overflow": null,
            "_model_module_version": "1.2.0",
            "_view_count": null,
            "flex_flow": null,
            "width": null,
            "min_width": null,
            "border": null,
            "align_items": null,
            "bottom": null,
            "_model_module": "@jupyter-widgets/base",
            "top": null,
            "grid_column": null,
            "overflow_y": null,
            "overflow_x": null,
            "grid_auto_flow": null,
            "grid_area": null,
            "grid_template_columns": null,
            "flex": null,
            "_model_name": "LayoutModel",
            "justify_items": null,
            "grid_row": null,
            "max_height": null,
            "align_content": null,
            "visibility": null,
            "align_self": null,
            "height": null,
            "min_height": null,
            "padding": null,
            "grid_auto_rows": null,
            "grid_gap": null,
            "max_width": null,
            "order": null,
            "_view_module_version": "1.2.0",
            "grid_template_areas": null,
            "object_position": null,
            "object_fit": null,
            "grid_auto_columns": null,
            "margin": null,
            "display": null,
            "left": null
          }
        }
      }
    }
  },
  "cells": [
    {
      "cell_type": "markdown",
      "metadata": {
        "id": "view-in-github",
        "colab_type": "text"
      },
      "source": [
        "<a href=\"https://colab.research.google.com/github/ijenims/paiza/blob/main/Paiza_Sort.ipynb\" target=\"_parent\"><img src=\"https://colab.research.google.com/assets/colab-badge.svg\" alt=\"Open In Colab\"/></a>"
      ]
    },
    {
      "cell_type": "markdown",
      "source": [
        "# Paiza ソートアルゴリズムメニュー（素朴＆効率的）"
      ],
      "metadata": {
        "id": "E6lPoKGM6jVT"
      }
    },
    {
      "cell_type": "markdown",
      "source": [
        "### [Template] ローカルでコードテスト環境を作る(Python, jupyter)<br>\n",
        "<font color=\"Red\">（要実行）</font>"
      ],
      "metadata": {
        "id": "QJE3ZccJv7oG"
      }
    },
    {
      "cell_type": "markdown",
      "source": [
        "https://qiita.com/ryamamon/items/15ca78a0234d9d24452d"
      ],
      "metadata": {
        "id": "0p9DaDvK0FHF"
      }
    },
    {
      "cell_type": "code",
      "source": [
        "from ipywidgets import Textarea\n",
        "\n",
        "def input():\n",
        "    global input_count\n",
        "    input_text = Input.split('\\n')[input_count]\n",
        "    input_count += 1\n",
        "\n",
        "    return input_text\n",
        "\n",
        "\n",
        "def get_input(change):\n",
        "    global Input\n",
        "    Input = change['new']\n",
        "\n",
        "\n",
        "textarea = Textarea()\n",
        "textarea.observe(get_input, names='value')\n"
      ],
      "metadata": {
        "id": "6GlDZr76v4m8"
      },
      "execution_count": null,
      "outputs": []
    },
    {
      "cell_type": "markdown",
      "source": [
        "### 入力テキストボックス<font color=\"Red\">（要実行）</font>"
      ],
      "metadata": {
        "id": "AeE7pYBF3H49"
      }
    },
    {
      "cell_type": "code",
      "source": [
        "display(textarea)"
      ],
      "metadata": {
        "colab": {
          "base_uri": "https://localhost:8080/",
          "height": 57,
          "referenced_widgets": [
            "9d322e83c3654bd1842dac64e7ce0861",
            "cdca3166d45f45b185a947c5fbcf04d3",
            "c2a3c08d59f94e8783e0812a7975894f"
          ]
        },
        "id": "wU7Z_IQz3-kj",
        "outputId": "fd88630b-7162-4bb4-f537-3b43d949fdf0"
      },
      "execution_count": null,
      "outputs": [
        {
          "output_type": "display_data",
          "data": {
            "application/vnd.jupyter.widget-view+json": {
              "model_id": "9d322e83c3654bd1842dac64e7ce0861",
              "version_minor": 0,
              "version_major": 2
            },
            "text/plain": [
              "Textarea(value='')"
            ]
          },
          "metadata": {}
        }
      ]
    },
    {
      "cell_type": "markdown",
      "source": [
        "カウンタをゼロにしておく！！！\n",
        "（各ソースコードにコピペ）"
      ],
      "metadata": {
        "id": "4dTHm4-P21n0"
      }
    },
    {
      "cell_type": "code",
      "source": [
        "input_count = 0    # Reset counter"
      ],
      "metadata": {
        "id": "7kQEaa4z1agU"
      },
      "execution_count": null,
      "outputs": []
    },
    {
      "cell_type": "markdown",
      "source": [
        "### =============================================="
      ],
      "metadata": {
        "id": "_D-TbNbhh1lo"
      }
    },
    {
      "cell_type": "markdown",
      "source": [
        "※　ファイル ＞ ドライブにコピーを保存 （<font color=\"Red\">オリジナルをテンプレートとして残す</font>）"
      ],
      "metadata": {
        "id": "LQeymVlDLUZx"
      }
    },
    {
      "cell_type": "markdown",
      "source": [
        "### バブルソート (paizaランク B 相当)"
      ],
      "metadata": {
        "id": "QVtZBmvAJTme"
      }
    },
    {
      "cell_type": "markdown",
      "source": [
        "#### Task"
      ],
      "metadata": {
        "id": "bqPSzT390RDn"
      }
    },
    {
      "cell_type": "markdown",
      "source": [
        "順序付け可能なデータの列を、昇順または降順に並び替える操作をソートと呼びます。「データ」は、数値や文字列、オブジェクトなどあらゆるものを指します。<br>\n",
        "ソート処理はいたるところで利用されています。\n",
        "\n",
        "\n",
        "・得点表を元にしてランキングを作成する<br>\n",
        "　　　　一番素朴なソートの使い方です。\n",
        "\n",
        "・データの集まりから、上位k個を取ってくる<br>\n",
        "　　　　ソートをしてから先頭のk個を取ればよいです。\n",
        "\n",
        "・貪欲アルゴリズムの前処理<br>\n",
        "　　　　データを大きい (小さい) 順に貪欲に処理を行っていくようなアルゴリズムの前処理として、ソートは有効です。\n",
        "\n",
        "---\n",
        "\n",
        "バブルソートは、データ列の隣り合う要素を比較し交換することを繰り返すことによりデータ列をソートする手法です。バブルとは「泡」の意味で、ソートの過程でデータが移動する様子が、水中で泡が浮かんでいくように見えることからこの名前がついています。\n",
        "\n",
        "バブルソート (昇順) は以下のようなアルゴリズムです。\n",
        "```\n",
        "bubble_sort(A : 配列, n : Aの要素数)\n",
        "    for i = 0 to n-2\n",
        "        for j = n-1 down to i+1\n",
        "            if a[j-1] > a[j] then\n",
        "                swap(a[j-1], a[j])\n",
        "```\n",
        "<img src=\"https://paiza-learning-mondai.s3.amazonaws.com/sort_naive/sort_naive_bubble/01.png\">\n",
        "\n",
        "データ列を左から右へ昇順ソートすることを考えます。バブルソートの基本方針は、<font color=\"Red\">**`左の要素と比較し、左の方が大きければ交換する`**</font>です。これを右から左まで1回行うと、最小の要素が一番左に移動します。 (首を左に傾けてこの処理を眺めると、泡が水面へと上がっていく様子に見えてきませんか？) 次に、一番左の要素を除いて、同じ処理を繰り返します。すると、2番目に小さい要素が左から2番目に移動します。これを最後まで繰り返せば、ソート完了です。\n",
        "\n",
        "\n",
        "バブルソートの計算量を考えます。最も多くの計算ステップがかかるのは、二重 for ループ中にて値を比較する処理です。よって、この処理が何回行われるかに注目し、計算量を導きます。この処理は、各 i について n-i-1 回行われます。つまり、この処理は全体で n-1 + ... + 1 = (n-1)*n/2 = (n^2-n)/2 回行われます。よって、バブルソートは O(n^2) のアルゴリズムとなります。\n",
        "\n",
        "---\n",
        "\n",
        "では、要素数 n の数列を昇順にソートするバブルソートのプログラムを作成してください。上の疑似コードに従って実装してください。アルゴリズムが正しく実装されていることを確認するために、各 i についてその処理が終わった時点での配列を出力してください。"
      ],
      "metadata": {
        "id": "V1nldr8SxfTV"
      }
    },
    {
      "cell_type": "markdown",
      "source": [
        "input\n",
        "```\n",
        "n\n",
        "A_1 A_2 ... A_n\n",
        "```\n",
        "・ 入力はすべて整数<br>\n",
        "・ 1行目に、配列の要素数 n が与えられます。<br>\n",
        "・ 2行目に、配列の要素 A_1, A_2, ... , A_n が半角スペース区切りで与えられます。"
      ],
      "metadata": {
        "id": "vcv5DiCBzi1Z"
      }
    },
    {
      "cell_type": "markdown",
      "source": [
        "output\n",
        "\n",
        "n-1 行出力してください。<br>\n",
        "i 行目 (1 ≦ i ≦ n) には、i 回目のループ処理が終わった時点での配列を出力してください。配列の各要素を半角スペースで区切り、配列の先頭や末尾に余計な空白を入れないようにしてください。<br>\n",
        "また、末尾に改行を入れ、余計な文字、空行を含んではいけません。\n",
        "```\n",
        "A_1 A_2 ... A_n\n",
        "A_1 A_2 ... A_n\n",
        "...\n",
        "A_1 A_2 ... A_n\n",
        "```"
      ],
      "metadata": {
        "id": "89tCeDO3zttz"
      }
    },
    {
      "cell_type": "markdown",
      "source": [
        "conditions\n",
        "\n",
        "・ 5 ≦ n ≦ 1,000<br>\n",
        "・-10,000 ≦ A_i ≦ 10,000"
      ],
      "metadata": {
        "id": "vW035MQhz6Xm"
      }
    },
    {
      "cell_type": "markdown",
      "source": [
        "#### Code"
      ],
      "metadata": {
        "id": "NkJ-fs6s0Zam"
      }
    },
    {
      "cell_type": "code",
      "source": [
        "# 2022.3.30\n",
        "\n",
        "# Status : New\n",
        "\n",
        "input_count = 0    # Reset counter"
      ],
      "metadata": {
        "id": "iM0aAeZYJbGC"
      },
      "execution_count": null,
      "outputs": []
    }
  ]
}