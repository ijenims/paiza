{
  "nbformat": 4,
  "nbformat_minor": 0,
  "metadata": {
    "colab": {
      "name": "Paiza_Prime_Number.ipynb",
      "provenance": [],
      "toc_visible": true,
      "authorship_tag": "ABX9TyPR8P1DmpfZZo4giRaUqE9m",
      "include_colab_link": true
    },
    "kernelspec": {
      "name": "python3",
      "display_name": "Python 3"
    },
    "language_info": {
      "name": "python"
    },
    "widgets": {
      "application/vnd.jupyter.widget-state+json": {
        "3f7d8750f4ab44b4a3dacc69fb48b195": {
          "model_module": "@jupyter-widgets/controls",
          "model_name": "TextareaModel",
          "model_module_version": "1.5.0",
          "state": {
            "_dom_classes": [],
            "_model_module": "@jupyter-widgets/controls",
            "_model_module_version": "1.5.0",
            "_model_name": "TextareaModel",
            "_view_count": null,
            "_view_module": "@jupyter-widgets/controls",
            "_view_module_version": "1.5.0",
            "_view_name": "TextareaView",
            "continuous_update": true,
            "description": "",
            "description_tooltip": null,
            "disabled": false,
            "layout": "IPY_MODEL_3e12d1a84fd043a291e1d64b046a1118",
            "placeholder": "​",
            "rows": null,
            "style": "IPY_MODEL_0799f05f9a584bb1bd7ab62835929bff",
            "value": "999997"
          }
        },
        "3e12d1a84fd043a291e1d64b046a1118": {
          "model_module": "@jupyter-widgets/base",
          "model_name": "LayoutModel",
          "model_module_version": "1.2.0",
          "state": {
            "_model_module": "@jupyter-widgets/base",
            "_model_module_version": "1.2.0",
            "_model_name": "LayoutModel",
            "_view_count": null,
            "_view_module": "@jupyter-widgets/base",
            "_view_module_version": "1.2.0",
            "_view_name": "LayoutView",
            "align_content": null,
            "align_items": null,
            "align_self": null,
            "border": null,
            "bottom": null,
            "display": null,
            "flex": null,
            "flex_flow": null,
            "grid_area": null,
            "grid_auto_columns": null,
            "grid_auto_flow": null,
            "grid_auto_rows": null,
            "grid_column": null,
            "grid_gap": null,
            "grid_row": null,
            "grid_template_areas": null,
            "grid_template_columns": null,
            "grid_template_rows": null,
            "height": null,
            "justify_content": null,
            "justify_items": null,
            "left": null,
            "margin": null,
            "max_height": null,
            "max_width": null,
            "min_height": null,
            "min_width": null,
            "object_fit": null,
            "object_position": null,
            "order": null,
            "overflow": null,
            "overflow_x": null,
            "overflow_y": null,
            "padding": null,
            "right": null,
            "top": null,
            "visibility": null,
            "width": null
          }
        },
        "0799f05f9a584bb1bd7ab62835929bff": {
          "model_module": "@jupyter-widgets/controls",
          "model_name": "DescriptionStyleModel",
          "model_module_version": "1.5.0",
          "state": {
            "_model_module": "@jupyter-widgets/controls",
            "_model_module_version": "1.5.0",
            "_model_name": "DescriptionStyleModel",
            "_view_count": null,
            "_view_module": "@jupyter-widgets/base",
            "_view_module_version": "1.2.0",
            "_view_name": "StyleView",
            "description_width": ""
          }
        }
      }
    }
  },
  "cells": [
    {
      "cell_type": "markdown",
      "metadata": {
        "id": "view-in-github",
        "colab_type": "text"
      },
      "source": [
        "<a href=\"https://colab.research.google.com/github/ijenims/paiza/blob/main/Paiza_Prime_Number.ipynb\" target=\"_parent\"><img src=\"https://colab.research.google.com/assets/colab-badge.svg\" alt=\"Open In Colab\"/></a>"
      ]
    },
    {
      "cell_type": "markdown",
      "source": [
        "# Paiza 素数メニュー"
      ],
      "metadata": {
        "id": "E6lPoKGM6jVT"
      }
    },
    {
      "cell_type": "markdown",
      "source": [
        "### [Template] ローカルでコードテスト環境を作る(Python, jupyter)<br>\n",
        "<font color=\"Red\">（要実行）</font>"
      ],
      "metadata": {
        "id": "QJE3ZccJv7oG"
      }
    },
    {
      "cell_type": "markdown",
      "source": [
        "https://qiita.com/ryamamon/items/15ca78a0234d9d24452d"
      ],
      "metadata": {
        "id": "0p9DaDvK0FHF"
      }
    },
    {
      "cell_type": "code",
      "source": [
        "from ipywidgets import Textarea\n",
        "\n",
        "def input():\n",
        "    global input_count\n",
        "    input_text = Input.split('\\n')[input_count]\n",
        "    input_count += 1\n",
        "\n",
        "    return input_text\n",
        "\n",
        "\n",
        "def get_input(change):\n",
        "    global Input\n",
        "    Input = change['new']\n",
        "\n",
        "\n",
        "textarea = Textarea()\n",
        "textarea.observe(get_input, names='value')\n"
      ],
      "metadata": {
        "id": "6GlDZr76v4m8"
      },
      "execution_count": 2,
      "outputs": []
    },
    {
      "cell_type": "markdown",
      "source": [
        "### 入力テキストボックス<font color=\"Red\">（要実行）</font>"
      ],
      "metadata": {
        "id": "AeE7pYBF3H49"
      }
    },
    {
      "cell_type": "code",
      "source": [
        "display(textarea)"
      ],
      "metadata": {
        "colab": {
          "base_uri": "https://localhost:8080/",
          "height": 57,
          "referenced_widgets": [
            "3f7d8750f4ab44b4a3dacc69fb48b195",
            "3e12d1a84fd043a291e1d64b046a1118",
            "0799f05f9a584bb1bd7ab62835929bff"
          ]
        },
        "id": "wU7Z_IQz3-kj",
        "outputId": "47d0f73d-a8af-413c-f400-3d783d30b8f7"
      },
      "execution_count": 3,
      "outputs": [
        {
          "output_type": "display_data",
          "data": {
            "text/plain": [
              "Textarea(value='')"
            ],
            "application/vnd.jupyter.widget-view+json": {
              "version_major": 2,
              "version_minor": 0,
              "model_id": "3f7d8750f4ab44b4a3dacc69fb48b195"
            }
          },
          "metadata": {}
        }
      ]
    },
    {
      "cell_type": "markdown",
      "source": [
        "カウンタをゼロにしておく！！！\n",
        "（各ソースコードにコピペ）"
      ],
      "metadata": {
        "id": "4dTHm4-P21n0"
      }
    },
    {
      "cell_type": "code",
      "source": [
        "input_count = 0    # Reset counter"
      ],
      "metadata": {
        "id": "7kQEaa4z1agU"
      },
      "execution_count": null,
      "outputs": []
    },
    {
      "cell_type": "markdown",
      "source": [
        "### =============================================="
      ],
      "metadata": {
        "id": "_D-TbNbhh1lo"
      }
    },
    {
      "cell_type": "markdown",
      "source": [
        "※　ファイル ＞ ドライブにコピーを保存 （<font color=\"Red\">オリジナルをテンプレートとして残す</font>）"
      ],
      "metadata": {
        "id": "LQeymVlDLUZx"
      }
    },
    {
      "cell_type": "markdown",
      "source": [
        "## 素数大学"
      ],
      "metadata": {
        "id": "QVtZBmvAJTme"
      }
    },
    {
      "cell_type": "markdown",
      "source": [
        "###  STEP: 5 フェルマーテスト(paizaランク C 相当)"
      ],
      "metadata": {
        "id": "LzyHn1qIPjUx"
      }
    },
    {
      "cell_type": "markdown",
      "source": [
        "#### QUESTION"
      ],
      "metadata": {
        "id": "dWlu17UYPr8I"
      }
    },
    {
      "cell_type": "markdown",
      "source": [
        "整数 N が素数であるかを高確率で判定する方法の 1 つとしてフェルマーテストがあります。<br>\n",
        "整数 N をフェルマーテストで素数判定するときの手順は次の通りです。\n",
        "```\n",
        "1. a を 2 から N-1 までの数からランダムに選ぶ。\n",
        "2. N が a で割り切れる場合は N は素数でないと判定する。\n",
        "3. a^(N-1) を N で割ったあまりが 1 ならば N は素数、1 でない場合は素数でないと判定する。\n",
        "```\n",
        "整数 N が与えられるので、 N が素数かどうかをフェルマーテストを用いて判定してください。<br>\n",
        "なお、今回の問題では、フェルマーテストの手順 1 の a は 2 で固定するものとします。<br>\n",
        "なお、「整数 N が素数である」とは「N が 1 でない、かつ、N の約数が 1 と N のみしか存在しない」ことをいいます。\n",
        "\n",
        "ヒント\n",
        "\n",
        "a^(N-1) を N で割ったあまりを求めるには、1 で初期化した変数 fermat を用意し、次の操作を N-1 回繰り返せば良いです。\n",
        "```\n",
        "1. fermat に a を掛ける。\n",
        "2. fermat に 「fermat を N で割った余り」 を代入する。\n",
        "```"
      ],
      "metadata": {
        "id": "we7uDneuR1KA"
      }
    },
    {
      "cell_type": "markdown",
      "source": [
        "input\n",
        "```\n",
        "N\n",
        "```\n",
        "```\n",
        "837\n",
        "```"
      ],
      "metadata": {
        "id": "aNgiEAfVVUjL"
      }
    },
    {
      "cell_type": "markdown",
      "source": [
        "output\n",
        "\n",
        "フェルマーテストの結果、N が素数であると判定された場合は \"YES\" を、そうでない場合は \"NO\" を 1 行で出力してください。"
      ],
      "metadata": {
        "id": "41kcc2Cm32_o"
      }
    },
    {
      "cell_type": "markdown",
      "source": [
        "conditions\n",
        "\n",
        "・ 3 ≦ N ≦ 100,000"
      ],
      "metadata": {
        "id": "qUIMxcMB380z"
      }
    },
    {
      "cell_type": "markdown",
      "source": [
        "#### CODE"
      ],
      "metadata": {
        "id": "4tltnYKgP2gx"
      }
    },
    {
      "cell_type": "code",
      "source": [
        "# 2022.\n",
        "# Status : New\n",
        "\n",
        "input_count = 0    # Reset counter\n",
        "\n"
      ],
      "metadata": {
        "id": "mVqj0J1DP9G5"
      },
      "execution_count": null,
      "outputs": []
    },
    {
      "cell_type": "markdown",
      "source": [
        "### STEP: 4 エラトステネスの篩 (paizaランク C 相当)"
      ],
      "metadata": {
        "id": "EGzPxy3HEb_4"
      }
    },
    {
      "cell_type": "markdown",
      "source": [
        "#### QUESTION"
      ],
      "metadata": {
        "id": "1ZbM8VoxEk6t"
      }
    },
    {
      "cell_type": "markdown",
      "source": [
        "整数 N が素数であるかを判定する方法として、エラトステネスの篩という方法があります。<br>\n",
        "これは 0 以上 N 以下の全ての数について次の手順で素数判定を行う方法です。\n",
        "```\n",
        "1. X が素数のとき is_prime[X] が true となる配列 is_prime を用意し、\n",
        "    is_prime[0] , is_prime[1] を false , それ以外を true で初期化する。\n",
        "\n",
        "2. 整数 i を 2 から順に N まで動かしながら次の操作を行う。\n",
        "「is_prime[i] が true である場合、 is_prime[2×i], is_prime[3×i], ... , is_prime[k×i] を全て false にする（ただし k×i <= N ）\n",
        "```\n",
        "整数 N が与えられるので、エラトステネスの篩を用いて N が素数かどうかを判定してください。<br>\n",
        "なお、「整数 N が素数である」とは「N が 1 でない、かつ N の約数が 1 と N のみしか存在しない」ことをいいます。"
      ],
      "metadata": {
        "id": "JoPDIzw1EpQ1"
      }
    },
    {
      "cell_type": "markdown",
      "source": [
        "input\n",
        "```\n",
        "N\n",
        "```"
      ],
      "metadata": {
        "id": "7WshijgFFAc5"
      }
    },
    {
      "cell_type": "markdown",
      "source": [
        ""
      ],
      "metadata": {
        "id": "x6rhofF6E_DR"
      }
    },
    {
      "cell_type": "markdown",
      "source": [
        "output\n",
        "\n",
        "N が素数である場合には \"YES\" を、素数でない場合は \"NO\" を 1 行で出力してください。"
      ],
      "metadata": {
        "id": "cXFIHEGJFH-t"
      }
    },
    {
      "cell_type": "markdown",
      "source": [
        "conditions\n",
        "\n",
        "・ 1 ≦ N ≦ 1,000,000"
      ],
      "metadata": {
        "id": "hVdtumv-FNS9"
      }
    },
    {
      "cell_type": "markdown",
      "source": [
        "#### CODE"
      ],
      "metadata": {
        "id": "C-oczKoAFTQd"
      }
    },
    {
      "cell_type": "code",
      "source": [
        "%%time\n",
        "\n",
        "# 2022.3.21\n",
        "# Status : Completed\n",
        "\n",
        "input_count = 0    # Reset counter\n",
        "\n",
        "def main():\n",
        "    n = int(input())\n",
        "    is_prime = [True for _ in range(n + 1)]\n",
        "    is_prime[0] = is_prime[1] = False\n",
        "\n",
        "    for i in range(2, n):\n",
        "        if is_prime[i]:\n",
        "            for j in range(2 * i, n + 1, i):\n",
        "                is_prime[j] = False\n",
        "\n",
        "    #print(is_prime)\n",
        "    if is_prime[n]:\n",
        "        print('YES')\n",
        "    else:\n",
        "        print('NO')\n",
        "\n",
        "main()"
      ],
      "metadata": {
        "colab": {
          "base_uri": "https://localhost:8080/"
        },
        "id": "1dPWsCM5FWLl",
        "outputId": "4d811b50-7db0-472c-c30a-c6c8bb7ea5f6"
      },
      "execution_count": 4,
      "outputs": [
        {
          "output_type": "stream",
          "name": "stdout",
          "text": [
            "NO\n",
            "CPU times: user 384 ms, sys: 4.37 ms, total: 388 ms\n",
            "Wall time: 392 ms\n"
          ]
        }
      ]
    },
    {
      "cell_type": "markdown",
      "source": [
        "### STEP: 3 大きな数の素数判定 (paizaランク C 相当)"
      ],
      "metadata": {
        "id": "jN7XpLBd7FKo"
      }
    },
    {
      "cell_type": "markdown",
      "source": [
        "#### QUESTION"
      ],
      "metadata": {
        "id": "SjiLBH-c9cv8"
      }
    },
    {
      "cell_type": "markdown",
      "source": [
        "整数 N が与えられるので、N が素数かどうかを判定してください。<br>\n",
        "なお、「整数 N が素数である」とは「N が 1 でない、かつ N の約数が 1 と N のみしか存在しない」ことをいいます。"
      ],
      "metadata": {
        "id": "nlEpERe08D34"
      }
    },
    {
      "cell_type": "markdown",
      "source": [
        "input\n",
        "```\n",
        "N\n",
        "```\n",
        "```\n",
        "2147483647\n",
        "```"
      ],
      "metadata": {
        "id": "hZIRpIOt8d4u"
      }
    },
    {
      "cell_type": "markdown",
      "source": [
        "output\n",
        "\n",
        "N が素数である場合には \"YES\" を、素数でない場合は \"NO\" を 1 行で出力してください。<br>\n",
        "出力の末尾には改行を入れてください。"
      ],
      "metadata": {
        "id": "m1nthVrr8NJg"
      }
    },
    {
      "cell_type": "markdown",
      "source": [
        "conditions\n",
        "\n",
        "・ 1 ≦ N ≦ 1,000,000,000,000"
      ],
      "metadata": {
        "id": "Yt6pxvN28Tpm"
      }
    },
    {
      "cell_type": "markdown",
      "source": [
        "#### CODE"
      ],
      "metadata": {
        "id": "vi_wWcYl9ioV"
      }
    },
    {
      "cell_type": "code",
      "source": [
        "%%time\n",
        "\n",
        "# 2022.3.21\n",
        "# Status : Completed\n",
        "\n",
        "input_count = 0    # Reset counter\n",
        "\n",
        "def main():\n",
        "    n = int(input())\n",
        "    sq_n = int(n ** 0.5 + 1)\n",
        "    is_prime = True\n",
        "\n",
        "    if n == 1 or n % 2 == 0:\n",
        "        is_prime = False\n",
        "\n",
        "    for i in range(3, sq_n, 2):\n",
        "        if n % i == 0:\n",
        "            is_prime = False\n",
        "\n",
        "    if is_prime:\n",
        "        print('YES')\n",
        "\n",
        "    else:\n",
        "        print('NO')\n",
        "\n",
        "\n",
        "main()"
      ],
      "metadata": {
        "id": "iM0aAeZYJbGC",
        "colab": {
          "base_uri": "https://localhost:8080/"
        },
        "outputId": "8f488fe7-eb52-4295-c380-169f248bfbfa"
      },
      "execution_count": 26,
      "outputs": [
        {
          "output_type": "stream",
          "name": "stdout",
          "text": [
            "NO\n",
            "CPU times: user 64.3 ms, sys: 860 µs, total: 65.2 ms\n",
            "Wall time: 65.2 ms\n"
          ]
        }
      ]
    },
    {
      "cell_type": "markdown",
      "source": [
        "### STEP: 2 素数判定 (paizaランク D 相当)"
      ],
      "metadata": {
        "id": "KUyRfJvh71Rs"
      }
    },
    {
      "cell_type": "code",
      "execution_count": 34,
      "metadata": {
        "id": "Jeten4kk5dXx",
        "colab": {
          "base_uri": "https://localhost:8080/"
        },
        "outputId": "2a6901a5-a139-4dd0-fc7d-c454437c74a5"
      },
      "outputs": [
        {
          "output_type": "stream",
          "name": "stdout",
          "text": [
            "NO\n",
            "CPU times: user 45 s, sys: 72.1 ms, total: 45 s\n",
            "Wall time: 45.1 s\n"
          ]
        }
      ],
      "source": [
        "%%time\n",
        "\n",
        "# 2022.9\n",
        "\n",
        "input_count = 0    # Reset counter\n",
        "\n",
        "''' 素数判定正攻法 '''\n",
        "\n",
        "def main():\n",
        "    n = int(input())\n",
        "    flag = True\n",
        "    \n",
        "    if n == 1:\n",
        "        flag = False\n",
        "    \n",
        "    for i in range(2, n // 2 + 1):\n",
        "        if n % i != 0:\n",
        "            continue\n",
        "        \n",
        "        else:\n",
        "            flag = False\n",
        "\n",
        "    if flag == True:\n",
        "        print('YES')    #  prime number\n",
        "        \n",
        "    else:\n",
        "        print('NO')\n",
        "\n",
        "\n",
        "main()"
      ]
    },
    {
      "cell_type": "code",
      "source": [
        ""
      ],
      "metadata": {
        "id": "UZWIGx5cCnmy"
      },
      "execution_count": null,
      "outputs": []
    }
  ]
}