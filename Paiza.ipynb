{
 "cells": [
  {
   "cell_type": "code",
   "execution_count": 5,
   "metadata": {},
   "outputs": [
    {
     "name": "stdout",
     "output_type": "stream",
     "text": [
      "1332\n"
     ]
    }
   ],
   "source": [
    "'''\n",
    "x + y < 100 かつ (x ^ 3) + (y ^ 3) < 100000 が成り立つような\n",
    "正の整数 x , y について x × y の最大値を求めてください。\n",
    "'''\n",
    "\n",
    "def cubic(x, y):\n",
    "    return x ** 3 + y ** 3\n",
    "    \n",
    "\n",
    "tmp = 0\n",
    "\n",
    "for i in range(99):\n",
    "    for j in range(99):\n",
    "        f = cubic(i, j)\n",
    "        if f < 100000:\n",
    "            if i * j > tmp:\n",
    "                tmp = i * j\n",
    "            # print(tmp)\n",
    "        else:\n",
    "            break\n",
    "            \n",
    "print(tmp)\n",
    "            "
   ]
  },
  {
   "cell_type": "code",
   "execution_count": 20,
   "metadata": {},
   "outputs": [
    {
     "name": "stdout",
     "output_type": "stream",
     "text": [
      "YES 96 378 390\n"
     ]
    }
   ],
   "source": [
    "'''\n",
    "整数 N が与えられるので、三角形の三辺の長さの和が N であり、\n",
    "全ての辺の長さが整数であるような直角三角形が存在するかどうかを判定してください。\n",
    "なお、直角三角形の斜辺 a と他の二辺 b , c の間には次のような三平方の定理が成り立ちます。\n",
    "a ^ 2 = b ^ 2 + c ^ 2\n",
    "・ ヒント\n",
    "三辺の長さの和が N であるような全ての三角形の三辺 a , b , c の組み合わせのうち、\n",
    "三平方の定理を満たすものが 1 つでもあれば \"YES\" , それ以外の場合は \"NO\" が答えとなります。\n",
    "全ての三辺の場合を全列挙することができれば三平方の定理を満たすかの判定をすることで答えを求めることができます。\n",
    "'''\n",
    "def pythagoras(a, b, c):\n",
    "    return a ** 2 + b ** 2 - c ** 2\n",
    "\n",
    "n = 864\n",
    "ans = 'NO'\n",
    "\n",
    "for i in range(n - 2):\n",
    "    for j in range(n - 2):\n",
    "        a = i + 1\n",
    "        b = j + 1\n",
    "        c = n - (a + b)\n",
    "        if c <= 0:\n",
    "            break\n",
    "        \n",
    "        if pythagoras(a, b, c) == 0:\n",
    "            ans = 'YES'\n",
    "            break\n",
    "            \n",
    "    if ans == 'YES':\n",
    "        break\n",
    "        \n",
    "print(ans, a, b, c)"
   ]
  },
  {
   "cell_type": "code",
   "execution_count": 9,
   "metadata": {},
   "outputs": [
    {
     "name": "stdout",
     "output_type": "stream",
     "text": [
      "0000001234\n",
      "1234000000\n",
      "0001234000\n",
      "\n",
      "\n",
      "000-1234\n",
      "-1234000\n",
      "0-123400\n"
     ]
    }
   ],
   "source": [
    "''' Zero Padding >> https://note.nkmk.me/python-zero-padding/ '''\n",
    "''' 右寄せ、左寄せ、中央寄せ: rjust, ljust, center '''\n",
    "\n",
    "\n",
    "s = '1234'\n",
    "n = 10\n",
    "\n",
    "print(s.rjust(n, '0'))\n",
    "# 00001234\n",
    "\n",
    "print(s.ljust(n, '0'))\n",
    "# 12340000\n",
    "\n",
    "print(s.center(n, '0'))\n",
    "# 00123400\n",
    "\n",
    "print('\\n')\n",
    "''''''\n",
    "s = '-1234'\n",
    "\n",
    "print(s.rjust(8, '0'))\n",
    "# 000-1234\n",
    "\n",
    "print(s.ljust(8, '0'))\n",
    "# -1234000\n",
    "\n",
    "print(s.center(8, '0'))\n",
    "# 0-123400"
   ]
  },
  {
   "cell_type": "code",
   "execution_count": 10,
   "metadata": {},
   "outputs": [
    {
     "name": "stdout",
     "output_type": "stream",
     "text": [
      "00001234\n",
      "<class 'str'>\n",
      "1234\n",
      "\n",
      "-0001234\n",
      "+0001234\n"
     ]
    }
   ],
   "source": [
    "''' 右寄せゼロ埋め: zfill '''\n",
    "\n",
    "\n",
    "s = '1234'\n",
    "\n",
    "s_zero = s.zfill(8)\n",
    "print(s_zero)\n",
    "# 00001234\n",
    "\n",
    "print(type(s_zero))\n",
    "# <class 'str'>\n",
    "\n",
    "print(s.zfill(3))\n",
    "# 1234\n",
    "\n",
    "print('')\n",
    "''''''\n",
    "s = '-1234'\n",
    "print(s.zfill(8))\n",
    "# -0001234\n",
    "\n",
    "s = '+1234'\n",
    "print(s.zfill(8))\n",
    "# +0001234"
   ]
  },
  {
   "cell_type": "code",
   "execution_count": 16,
   "metadata": {},
   "outputs": [
    {
     "name": "stdout",
     "output_type": "stream",
     "text": [
      "00001234\n",
      "Zero Padding: 00001234\n",
      "000-1234\n",
      "Zero Padding: 000-1234\n",
      "-0001234\n",
      "Zero Padding: 000-1234\n",
      "\n",
      "00001234\n",
      "Zero Padding: 00001234\n",
      "000004d2\n",
      "Zero Padding: 000004d2\n",
      "-0001234\n",
      "Zero Padding: -0001234\n",
      "\n",
      "\n",
      "Zero Padding: -0001234\n"
     ]
    }
   ],
   "source": [
    "''' 任意の書式変換: format, f文字列 '''\n",
    "\n",
    "s = '1234'\n",
    "# k = 8\n",
    "\n",
    "print(format(s, '0>8'))\n",
    "# 00001234\n",
    "\n",
    "print('Zero Padding: {:0>8}'.format(s))\n",
    "# Zero Padding: 00001234\n",
    "\n",
    "s = '-1234'\n",
    "\n",
    "print(format(s, '0>8'))\n",
    "# 000-1234\n",
    "\n",
    "print('Zero Padding: {:0>8}'.format(s))\n",
    "# Zero Padding: 000-1234\n",
    "\n",
    "''''''\n",
    "print(format(int(s), '08'))\n",
    "# -0001234\n",
    "\n",
    "print('Zero Padding: {:0>8}'.format(int(s)))\n",
    "# Zero Padding: 000-1234\n",
    "\n",
    "print('')\n",
    "''''''\n",
    "n = 1234\n",
    "\n",
    "print(format(n, '08'))\n",
    "# 00001234\n",
    "\n",
    "print('Zero Padding: {:08}'.format(n))\n",
    "# Zero Padding: 00001234\n",
    "\n",
    "print(format(n, '08x'))\n",
    "# 000004d2\n",
    "\n",
    "print('Zero Padding: {:08x}'.format(n))\n",
    "# Zero Padding: 000004d2\n",
    "\n",
    "n = -1234\n",
    "\n",
    "print(format(n, '08'))\n",
    "# -0001234\n",
    "\n",
    "print('Zero Padding: {:08}'.format(n))\n",
    "# Zero Padding: -0001234\n",
    "\n",
    "print('\\n')\n",
    "print(f'Zero Padding: {n:08}')\n",
    "# Zero Padding: -0001234"
   ]
  },
  {
   "cell_type": "code",
   "execution_count": null,
   "metadata": {},
   "outputs": [],
   "source": []
  }
 ],
 "metadata": {
  "kernelspec": {
   "display_name": "Python 3",
   "language": "python",
   "name": "python3"
  },
  "language_info": {
   "codemirror_mode": {
    "name": "ipython",
    "version": 3
   },
   "file_extension": ".py",
   "mimetype": "text/x-python",
   "name": "python",
   "nbconvert_exporter": "python",
   "pygments_lexer": "ipython3",
   "version": "3.8.3"
  }
 },
 "nbformat": 4,
 "nbformat_minor": 4
}
