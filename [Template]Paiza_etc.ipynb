{
  "nbformat": 4,
  "nbformat_minor": 0,
  "metadata": {
    "colab": {
      "name": "[Template]Paiza_etc.ipynb",
      "provenance": [],
      "toc_visible": true,
      "authorship_tag": "ABX9TyPpphjFLBs3gWwQx+punDNw",
      "include_colab_link": true
    },
    "kernelspec": {
      "name": "python3",
      "display_name": "Python 3"
    },
    "language_info": {
      "name": "python"
    },
    "widgets": {
      "application/vnd.jupyter.widget-state+json": {
        "9d322e83c3654bd1842dac64e7ce0861": {
          "model_module": "@jupyter-widgets/controls",
          "model_name": "TextareaModel",
          "model_module_version": "1.5.0",
          "state": {
            "_view_name": "TextareaView",
            "style": "IPY_MODEL_cdca3166d45f45b185a947c5fbcf04d3",
            "rows": null,
            "_dom_classes": [],
            "description": "",
            "_model_name": "TextareaModel",
            "placeholder": "​",
            "_view_module": "@jupyter-widgets/controls",
            "_model_module_version": "1.5.0",
            "value": "",
            "_view_count": null,
            "disabled": false,
            "_view_module_version": "1.5.0",
            "continuous_update": true,
            "description_tooltip": null,
            "_model_module": "@jupyter-widgets/controls",
            "layout": "IPY_MODEL_c2a3c08d59f94e8783e0812a7975894f"
          }
        },
        "cdca3166d45f45b185a947c5fbcf04d3": {
          "model_module": "@jupyter-widgets/controls",
          "model_name": "DescriptionStyleModel",
          "model_module_version": "1.5.0",
          "state": {
            "_view_name": "StyleView",
            "_model_name": "DescriptionStyleModel",
            "description_width": "",
            "_view_module": "@jupyter-widgets/base",
            "_model_module_version": "1.5.0",
            "_view_count": null,
            "_view_module_version": "1.2.0",
            "_model_module": "@jupyter-widgets/controls"
          }
        },
        "c2a3c08d59f94e8783e0812a7975894f": {
          "model_module": "@jupyter-widgets/base",
          "model_name": "LayoutModel",
          "model_module_version": "1.2.0",
          "state": {
            "_view_name": "LayoutView",
            "grid_template_rows": null,
            "right": null,
            "justify_content": null,
            "_view_module": "@jupyter-widgets/base",
            "overflow": null,
            "_model_module_version": "1.2.0",
            "_view_count": null,
            "flex_flow": null,
            "width": null,
            "min_width": null,
            "border": null,
            "align_items": null,
            "bottom": null,
            "_model_module": "@jupyter-widgets/base",
            "top": null,
            "grid_column": null,
            "overflow_y": null,
            "overflow_x": null,
            "grid_auto_flow": null,
            "grid_area": null,
            "grid_template_columns": null,
            "flex": null,
            "_model_name": "LayoutModel",
            "justify_items": null,
            "grid_row": null,
            "max_height": null,
            "align_content": null,
            "visibility": null,
            "align_self": null,
            "height": null,
            "min_height": null,
            "padding": null,
            "grid_auto_rows": null,
            "grid_gap": null,
            "max_width": null,
            "order": null,
            "_view_module_version": "1.2.0",
            "grid_template_areas": null,
            "object_position": null,
            "object_fit": null,
            "grid_auto_columns": null,
            "margin": null,
            "display": null,
            "left": null
          }
        }
      }
    }
  },
  "cells": [
    {
      "cell_type": "markdown",
      "metadata": {
        "id": "view-in-github",
        "colab_type": "text"
      },
      "source": [
        "<a href=\"https://colab.research.google.com/github/ijenims/paiza/blob/main/%5BTemplate%5DPaiza_etc.ipynb\" target=\"_parent\"><img src=\"https://colab.research.google.com/assets/colab-badge.svg\" alt=\"Open In Colab\"/></a>"
      ]
    },
    {
      "cell_type": "markdown",
      "source": [
        "# Paiza"
      ],
      "metadata": {
        "id": "E6lPoKGM6jVT"
      }
    },
    {
      "cell_type": "markdown",
      "source": [
        "### [Template] ローカルでコードテスト環境を作る(Python, jupyter)<br>\n",
        "<font color=\"Red\">（要実行）</font>"
      ],
      "metadata": {
        "id": "QJE3ZccJv7oG"
      }
    },
    {
      "cell_type": "markdown",
      "source": [
        "https://qiita.com/ryamamon/items/15ca78a0234d9d24452d"
      ],
      "metadata": {
        "id": "0p9DaDvK0FHF"
      }
    },
    {
      "cell_type": "code",
      "source": [
        "from ipywidgets import Textarea\n",
        "\n",
        "def input():\n",
        "    global input_count\n",
        "    input_text = Input.split('\\n')[input_count]\n",
        "    input_count += 1\n",
        "\n",
        "    return input_text\n",
        "\n",
        "\n",
        "def get_input(change):\n",
        "    global Input\n",
        "    Input = change['new']\n",
        "\n",
        "\n",
        "textarea = Textarea()\n",
        "textarea.observe(get_input, names='value')\n"
      ],
      "metadata": {
        "id": "6GlDZr76v4m8"
      },
      "execution_count": null,
      "outputs": []
    },
    {
      "cell_type": "code",
      "execution_count": null,
      "metadata": {
        "id": "UMuXqmF8HR5G"
      },
      "outputs": [],
      "source": [
        ""
      ]
    },
    {
      "cell_type": "markdown",
      "source": [
        "### 入力テキストボックス<font color=\"Red\">（要実行）</font>"
      ],
      "metadata": {
        "id": "AeE7pYBF3H49"
      }
    },
    {
      "cell_type": "code",
      "source": [
        "display(textarea)"
      ],
      "metadata": {
        "colab": {
          "base_uri": "https://localhost:8080/",
          "height": 57,
          "referenced_widgets": [
            "9d322e83c3654bd1842dac64e7ce0861",
            "cdca3166d45f45b185a947c5fbcf04d3",
            "c2a3c08d59f94e8783e0812a7975894f"
          ]
        },
        "id": "wU7Z_IQz3-kj",
        "outputId": "fd88630b-7162-4bb4-f537-3b43d949fdf0"
      },
      "execution_count": null,
      "outputs": [
        {
          "output_type": "display_data",
          "data": {
            "application/vnd.jupyter.widget-view+json": {
              "model_id": "9d322e83c3654bd1842dac64e7ce0861",
              "version_minor": 0,
              "version_major": 2
            },
            "text/plain": [
              "Textarea(value='')"
            ]
          },
          "metadata": {}
        }
      ]
    },
    {
      "cell_type": "markdown",
      "source": [
        "カウンタをゼロにしておく！！！\n",
        "（各ソースコードにコピペ）"
      ],
      "metadata": {
        "id": "4dTHm4-P21n0"
      }
    },
    {
      "cell_type": "code",
      "source": [
        "input_count = 0    # Reset counter"
      ],
      "metadata": {
        "id": "7kQEaa4z1agU"
      },
      "execution_count": null,
      "outputs": []
    },
    {
      "cell_type": "markdown",
      "source": [
        "### =============================================="
      ],
      "metadata": {
        "id": "_D-TbNbhh1lo"
      }
    },
    {
      "cell_type": "markdown",
      "source": [
        "※　ファイル ＞ ドライブにコピーを保存 （<font color=\"Red\">オリジナルをテンプレートとして残す</font>）"
      ],
      "metadata": {
        "id": "LQeymVlDLUZx"
      }
    },
    {
      "cell_type": "markdown",
      "source": [
        "# 新しいセクション"
      ],
      "metadata": {
        "id": "QVtZBmvAJTme"
      }
    },
    {
      "cell_type": "code",
      "source": [
        "input_count = 0    # Reset counter"
      ],
      "metadata": {
        "id": "iM0aAeZYJbGC"
      },
      "execution_count": null,
      "outputs": []
    }
  ]
}