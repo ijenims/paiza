{
  "nbformat": 4,
  "nbformat_minor": 0,
  "metadata": {
    "colab": {
      "name": "Paiza_QueryMenu_R01.ipynb",
      "provenance": [],
      "toc_visible": true,
      "authorship_tag": "ABX9TyPXhUydNsv/o0/mBnkl4+y8",
      "include_colab_link": true
    },
    "kernelspec": {
      "name": "python3",
      "display_name": "Python 3"
    },
    "language_info": {
      "name": "python"
    },
    "widgets": {
      "application/vnd.jupyter.widget-state+json": {
        "acbf3228d6064343aa6b053b40dc3a13": {
          "model_module": "@jupyter-widgets/controls",
          "model_name": "TextareaModel",
          "model_module_version": "1.5.0",
          "state": {
            "_dom_classes": [],
            "_model_module": "@jupyter-widgets/controls",
            "_model_module_version": "1.5.0",
            "_model_name": "TextareaModel",
            "_view_count": null,
            "_view_module": "@jupyter-widgets/controls",
            "_view_module_version": "1.5.0",
            "_view_name": "TextareaView",
            "continuous_update": true,
            "description": "",
            "description_tooltip": null,
            "disabled": false,
            "layout": "IPY_MODEL_58fedec10f7243e986291af070adee16",
            "placeholder": "​",
            "rows": null,
            "style": "IPY_MODEL_79df26db2ae44f36bfb3e2a592024e23",
            "value": "3 1\n69\n12\n28\n3"
          }
        },
        "58fedec10f7243e986291af070adee16": {
          "model_module": "@jupyter-widgets/base",
          "model_name": "LayoutModel",
          "model_module_version": "1.2.0",
          "state": {
            "_model_module": "@jupyter-widgets/base",
            "_model_module_version": "1.2.0",
            "_model_name": "LayoutModel",
            "_view_count": null,
            "_view_module": "@jupyter-widgets/base",
            "_view_module_version": "1.2.0",
            "_view_name": "LayoutView",
            "align_content": null,
            "align_items": null,
            "align_self": null,
            "border": null,
            "bottom": null,
            "display": null,
            "flex": null,
            "flex_flow": null,
            "grid_area": null,
            "grid_auto_columns": null,
            "grid_auto_flow": null,
            "grid_auto_rows": null,
            "grid_column": null,
            "grid_gap": null,
            "grid_row": null,
            "grid_template_areas": null,
            "grid_template_columns": null,
            "grid_template_rows": null,
            "height": null,
            "justify_content": null,
            "justify_items": null,
            "left": null,
            "margin": null,
            "max_height": null,
            "max_width": null,
            "min_height": null,
            "min_width": null,
            "object_fit": null,
            "object_position": null,
            "order": null,
            "overflow": null,
            "overflow_x": null,
            "overflow_y": null,
            "padding": null,
            "right": null,
            "top": null,
            "visibility": null,
            "width": null
          }
        },
        "79df26db2ae44f36bfb3e2a592024e23": {
          "model_module": "@jupyter-widgets/controls",
          "model_name": "DescriptionStyleModel",
          "model_module_version": "1.5.0",
          "state": {
            "_model_module": "@jupyter-widgets/controls",
            "_model_module_version": "1.5.0",
            "_model_name": "DescriptionStyleModel",
            "_view_count": null,
            "_view_module": "@jupyter-widgets/base",
            "_view_module_version": "1.2.0",
            "_view_name": "StyleView",
            "description_width": ""
          }
        }
      }
    }
  },
  "cells": [
    {
      "cell_type": "markdown",
      "metadata": {
        "id": "view-in-github",
        "colab_type": "text"
      },
      "source": [
        "<a href=\"https://colab.research.google.com/github/ijenims/paiza/blob/main/Paiza_QueryMenu_R01.ipynb\" target=\"_parent\"><img src=\"https://colab.research.google.com/assets/colab-badge.svg\" alt=\"Open In Colab\"/></a>"
      ]
    },
    {
      "cell_type": "markdown",
      "source": [
        "# クエリメニュー"
      ],
      "metadata": {
        "id": "X_jAaooU7PrS"
      }
    },
    {
      "cell_type": "markdown",
      "source": [
        "### [Template] ローカルでコードテスト環境を作る(Python, jupyter)<br>\n",
        "（要実行）"
      ],
      "metadata": {
        "id": "QJE3ZccJv7oG"
      }
    },
    {
      "cell_type": "markdown",
      "source": [
        "https://qiita.com/ryamamon/items/15ca78a0234d9d24452d"
      ],
      "metadata": {
        "id": "0p9DaDvK0FHF"
      }
    },
    {
      "cell_type": "code",
      "source": [
        "from ipywidgets import Textarea\n",
        "\n",
        "def input():\n",
        "    global input_count\n",
        "    input_text = Input.split('\\n')[input_count]\n",
        "    input_count += 1\n",
        "\n",
        "    return input_text\n",
        "\n",
        "\n",
        "def get_input(change):\n",
        "    global Input\n",
        "    Input = change['new']\n",
        "\n",
        "\n",
        "textarea = Textarea()\n",
        "textarea.observe(get_input, names='value')\n"
      ],
      "metadata": {
        "id": "6GlDZr76v4m8"
      },
      "execution_count": 2,
      "outputs": []
    },
    {
      "cell_type": "markdown",
      "source": [
        "### 入力テキストボックス（要実行）"
      ],
      "metadata": {
        "id": "AeE7pYBF3H49"
      }
    },
    {
      "cell_type": "code",
      "source": [
        "display(textarea)"
      ],
      "metadata": {
        "colab": {
          "base_uri": "https://localhost:8080/",
          "height": 251,
          "referenced_widgets": [
            "acbf3228d6064343aa6b053b40dc3a13",
            "58fedec10f7243e986291af070adee16",
            "79df26db2ae44f36bfb3e2a592024e23"
          ]
        },
        "id": "wU7Z_IQz3-kj",
        "outputId": "227e5468-7c52-4a91-da4b-12e91d9708c0"
      },
      "execution_count": 3,
      "outputs": [
        {
          "output_type": "display_data",
          "data": {
            "text/plain": [
              "Textarea(value='')"
            ],
            "application/vnd.jupyter.widget-view+json": {
              "version_major": 2,
              "version_minor": 0,
              "model_id": "acbf3228d6064343aa6b053b40dc3a13"
            }
          },
          "metadata": {}
        }
      ]
    },
    {
      "cell_type": "markdown",
      "source": [
        "カウンタをゼロにしておく！！！\n",
        "（各ソースコードにコピペ）"
      ],
      "metadata": {
        "id": "4dTHm4-P21n0"
      }
    },
    {
      "cell_type": "code",
      "source": [
        "input_count = 0    # Reset counter"
      ],
      "metadata": {
        "id": "7kQEaa4z1agU"
      },
      "execution_count": null,
      "outputs": []
    },
    {
      "cell_type": "markdown",
      "source": [
        "### =============================================="
      ],
      "metadata": {
        "id": "_D-TbNbhh1lo"
      }
    },
    {
      "cell_type": "markdown",
      "source": [
        "※　ファイル ＞ ドライブにコピーを保存 （<font color=\"Red\">オリジナルをテンプレートとして残す</font>）"
      ],
      "metadata": {
        "id": "LQeymVlDLUZx"
      }
    },
    {
      "cell_type": "markdown",
      "source": [
        "## 平方分割"
      ],
      "metadata": {
        "id": "_cZ-WLKhnI7b"
      }
    },
    {
      "cell_type": "markdown",
      "source": [
        "### STEP: 1 累積和(paizaランク C 相当)"
      ],
      "metadata": {
        "id": "uqgXfdEDnqn7"
      }
    },
    {
      "cell_type": "markdown",
      "source": [
        "#### Task"
      ],
      "metadata": {
        "id": "TRLg-H5LoCjT"
      }
    },
    {
      "cell_type": "markdown",
      "source": [
        "長さ N の数列 A と、K 個の整数 Q_1 ... Q_K が与えられるので、各整数 Q_i (1 ≦ i ≦ K) について A_1 ... A_{Q_i} の和を求めてください。"
      ],
      "metadata": {
        "id": "CZVPc1S4n9OO"
      }
    },
    {
      "cell_type": "markdown",
      "source": [
        "input\n",
        "```\n",
        "N K\n",
        "A_1\n",
        "...\n",
        "A_N\n",
        "Q_1\n",
        "...\n",
        "Q_K\n",
        "```\n",
        "\n",
        "・1 行目では、配列 A の要素数 N と与えられる整数の数 K が与えられます。<br>\n",
        "・続く N 行では、配列 A の要素が A_1 から順に与えられます。<br>\n",
        "・続く K 行では、整数 Q_1 ... Q_K が与えられます。\n"
      ],
      "metadata": {
        "id": "BGLWaf0toil-"
      }
    },
    {
      "cell_type": "markdown",
      "source": [
        "output\n",
        "```\n",
        "ans_1\n",
        "...\n",
        "ans_K\n",
        "```\n",
        "\n",
        "・i 行目に A_1 ... A_{Q_i} の和 ans_i (1 ≦ i ≦ K)を出力してください。"
      ],
      "metadata": {
        "id": "13DTW6aZpnb6"
      }
    },
    {
      "cell_type": "markdown",
      "source": [
        "conditions\n",
        "\n",
        "・1 ≦ N , K ≦ 100,000<br>\n",
        "・-100 ≦ A_i ≦ 100 (1 ≦ i ≦ N)<br>\n",
        "・1 ≦ Q_i ≦ N (1 ≦ i ≦ K)"
      ],
      "metadata": {
        "id": "ZZR972Ovp28J"
      }
    },
    {
      "cell_type": "markdown",
      "source": [
        "input_2\n",
        "```\n",
        "10 3\n",
        "45\n",
        "74\n",
        "-94\n",
        "68\n",
        "-63\n",
        "19\n",
        "-47\n",
        "-69\n",
        "38\n",
        "60\n",
        "9\n",
        "5\n",
        "5\n",
        "```\n",
        "output_2\n",
        "```\n",
        "-29\n",
        "30\n",
        "30\n",
        "```"
      ],
      "metadata": {
        "id": "aZRLtfWBr0y6"
      }
    },
    {
      "cell_type": "code",
      "source": [
        "# 2022.3.27\n",
        "# Status : Complete 3.27\n",
        "\n",
        "input_count = 0    # Reset counter\n",
        "\n",
        "def main():\n",
        "    n, q = map(int, input().split())\n",
        "    a = []\n",
        "    s = [0]\n",
        "\n",
        "    for _ in range(n):\n",
        "        s.append(s[-1] + int(input()))\n",
        "\n",
        "    for _ in range(q):\n",
        "        print(s[int(input())])\n",
        "\n",
        "    print(s)\n",
        "\n",
        "\n",
        "main()"
      ],
      "metadata": {
        "colab": {
          "base_uri": "https://localhost:8080/"
        },
        "id": "gOG6eP5Xqjim",
        "outputId": "7695825a-cedb-4614-d057-483ea75ba7fc"
      },
      "execution_count": 24,
      "outputs": [
        {
          "output_type": "stream",
          "name": "stdout",
          "text": [
            "109\n",
            "[0, 69, 81, 109]\n"
          ]
        }
      ]
    },
    {
      "cell_type": "markdown",
      "source": [
        "## Vtuber"
      ],
      "metadata": {
        "id": "v-0i5STmAgvH"
      }
    },
    {
      "cell_type": "markdown",
      "source": [
        "### <font color=\"Red\">FINAL問題</font> Vtuber (paizaランク B 相当)"
      ],
      "metadata": {
        "id": "S1ZThwEEIfrT"
      }
    },
    {
      "cell_type": "markdown",
      "source": [
        "#### Task"
      ],
      "metadata": {
        "id": "_ydwtE_IWObO"
      }
    },
    {
      "cell_type": "markdown",
      "source": [
        "あなたは流行に乗っかり、Vtuber としての活動をスタートしました。活動も軌道にのり、配信をするたびに視聴者が superchat を送ってくれたり、メンバーシップ制度に加入してくれるようになりました。<br>\n",
        "（わからない方は 「youtube superchat」「youtube membership」 などで検索してみてください。）<br>\n",
        "あなたはお礼として superchat を読むお礼配信をおこなうことにしました。<br>\n",
        "その配信で、前回の配信の superchat の総額が高いアカウントから順に、superchat をした全てのアカウントの名前を読んだ後、メンバーシップに入ってくれた全てのアカウントの名前を辞書順昇順で読むことにしました。<br>\n",
        "superchat の金額が同じ場合、同じ金額の中で辞書順降順でアカウント名を読むことにしました。<br>\n",
        "前回の配信の superchat とメンバーシップ加入の履歴が与えられるので、読む順番にアカウント名を出力するプログラムを作成してください。"
      ],
      "metadata": {
        "id": "c0tMzEr6JLIp"
      }
    },
    {
      "cell_type": "markdown",
      "source": [
        "input\n",
        "```\n",
        "N\n",
        "E_1\n",
        "...\n",
        "E_N\n",
        "```\n",
        "\n",
        "・1 行目では、superchat とメンバーシップ加入の回数の和 N が与えられます。<br>\n",
        "・続く N 行のうち、 i 行目では、i 番目のイベントの内容 E_i が以下のいずれかの形式で与えれられます。\n",
        "\n",
        "<font color=\"red\">`name give money !`</font><br>\n",
        "name さんが money 円の superchat を送ったことを表す。\n",
        "\n",
        "\n",
        "<font color=\"red\">`name join membership!`</font><br>\n",
        "name さんがメンバーシップに加入したことを表す。"
      ],
      "metadata": {
        "id": "fcq8iuPzM-C7"
      }
    },
    {
      "cell_type": "markdown",
      "source": [
        "output\n",
        "```\n",
        "name_s_1\n",
        "...\n",
        "name_m_1\n",
        "...\n",
        "```\n",
        "\n",
        "・superchat の総額が高い人から順にアカウント名を 1 行 1 アカウントで出力したのち、メンバーシップに加入した人のアカウント名を 辞書順に 1 行 1 アカウントで以上の形式で出力してください。<br>\n",
        "・superchat の総額が同じである場合、同じ金額の中で辞書順の降順(z → a)でアカウント名を出力してください。"
      ],
      "metadata": {
        "id": "FXNqm6Z_PuFU"
      }
    },
    {
      "cell_type": "markdown",
      "source": [
        "conditions\n",
        "\n",
        "・1 ≦ N ≦ 100,000<br>\n",
        "・S_i は \"name give money !\" , \"name join membership!\" のいずれか<br>\n",
        "・name は長さ 20 文字以下の英数字からなる文字列<br>\n",
        "・100 ≦ money ≦ 50000<br>\n",
        "・アカウント名に重複はないことが保証されている。<br>\n",
        "・1 つのアカウントについて、メンバーシップに加入するイベントが複数回起こることはない。<br>"
      ],
      "metadata": {
        "id": "sRw5Hl50P83Q"
      }
    },
    {
      "cell_type": "markdown",
      "source": [
        "input_1\n",
        "```\n",
        "5\n",
        "aiueo give 2489 !\n",
        "kk join membership!\n",
        "coffee_addiction join membership!\n",
        "so_cute give 837 !\n",
        "yoyo give 9284 !\n",
        "```\n",
        "output_1\n",
        "```\n",
        "yoyo\n",
        "aiueo\n",
        "so_cute\n",
        "coffee_addiction\n",
        "kk\n",
        "```\n",
        "input_2\n",
        "```\n",
        "20\n",
        "eicuf give 15492 !\n",
        "ishaz join membership!\n",
        "aehah give 17153 !\n",
        "sheeh join membership!\n",
        "uquai give 21723 !\n",
        "eefah join membership!\n",
        "uquai give 5189 !\n",
        "daike join membership!\n",
        "ahtoo give 16460 !\n",
        "eefah give 11801 !\n",
        "thaep give 45466 !\n",
        "eicuf give 13505 !\n",
        "thaep join membership!\n",
        "ikoem join membership!\n",
        "aehah join membership!\n",
        "thiil join membership!\n",
        "sheeh give 28624 !\n",
        "ikoem give 13729 !\n",
        "uquai give 39891 !\n",
        "eefah give 31131 !\n",
        "```\n",
        "output_2\n",
        "```\n",
        "uquai\n",
        "thaep\n",
        "eefah\n",
        "eicuf\n",
        "sheeh\n",
        "aehah\n",
        "ahtoo\n",
        "ikoem\n",
        "aehah\n",
        "daike\n",
        "eefah\n",
        "ikoem\n",
        "ishaz\n",
        "sheeh\n",
        "thaep\n",
        "thiil\n",
        "```"
      ],
      "metadata": {
        "id": "aq75LTpoQWO-"
      }
    },
    {
      "cell_type": "markdown",
      "source": [
        "#### Code"
      ],
      "metadata": {
        "id": "T-M72QEUWV4b"
      }
    },
    {
      "cell_type": "code",
      "source": [
        "# 2022.3.27\n",
        "# Status : Completed 2022.3.27\n",
        "\n",
        "input_count = 0    # Reset counter\n",
        "\n",
        "def call_superchat(d):\n",
        "    # d: dict\n",
        "    b = sorted(d.items(), reverse=True)\n",
        "    c = sorted(b, key=lambda x: x[1], reverse=True)\n",
        "\n",
        "    for i in c:\n",
        "        print(i[0])\n",
        "\n",
        "\n",
        "def call_membership(a):\n",
        "    # a: list\n",
        "    e = sorted(a)\n",
        "\n",
        "    for j in e:\n",
        "        print(j)\n",
        "\n",
        "\n",
        "def main():\n",
        "    n = int(input())\n",
        "    donation = {}\n",
        "    members = []\n",
        "\n",
        "    for _ in range(n):\n",
        "        temp = input().split()\n",
        "\n",
        "        if temp[1] == 'give':\n",
        "            if temp[0] in donation:\n",
        "                donation[temp[0]] += int(temp[2])\n",
        "            else:\n",
        "                donation[temp[0]] = int(temp[2])\n",
        "\n",
        "        else:\n",
        "            members.append(temp[0])\n",
        "\n",
        "    print(donation)\n",
        "    print(members)\n",
        "    call_superchat(donation)\n",
        "    call_membership(members)\n",
        "\n",
        "\n",
        "main()"
      ],
      "metadata": {
        "colab": {
          "base_uri": "https://localhost:8080/"
        },
        "id": "2LRAnWlcWZRT",
        "outputId": "cd3c988d-fba0-411c-feda-aa3b1a96f5fd"
      },
      "execution_count": 17,
      "outputs": [
        {
          "output_type": "stream",
          "name": "stdout",
          "text": [
            "{'eicuf': 28997, 'aehah': 17153, 'uquai': 66803, 'ahtoo': 16460, 'eefah': 42932, 'thaep': 45466, 'sheeh': 28624, 'ikoem': 13729}\n",
            "['ishaz', 'sheeh', 'eefah', 'daike', 'thaep', 'ikoem', 'aehah', 'thiil']\n",
            "uquai\n",
            "thaep\n",
            "eefah\n",
            "eicuf\n",
            "sheeh\n",
            "aehah\n",
            "ahtoo\n",
            "ikoem\n",
            "aehah\n",
            "daike\n",
            "eefah\n",
            "ikoem\n",
            "ishaz\n",
            "sheeh\n",
            "thaep\n",
            "thiil\n"
          ]
        }
      ]
    },
    {
      "cell_type": "code",
      "source": [
        "a = {1: 20, 2: 30, 3: 40, 4: 40, 5: 10, 6: 20}\n",
        "b = sorted(a.items(), reverse=True)\n",
        "c = sorted(b, key=lambda x: x[1], reverse=True)\n",
        "print(c)\n",
        "d = sorted(b)"
      ],
      "metadata": {
        "colab": {
          "base_uri": "https://localhost:8080/"
        },
        "id": "XfZbTuAhTMoz",
        "outputId": "45d76bfe-124e-4046-a0e6-f1830b83e006"
      },
      "execution_count": 18,
      "outputs": [
        {
          "output_type": "stream",
          "name": "stdout",
          "text": [
            "[(4, 40), (3, 40), (2, 30), (6, 20), (1, 20), (5, 10)]\n"
          ]
        }
      ]
    },
    {
      "cell_type": "markdown",
      "source": [
        "#### Model Answer"
      ],
      "metadata": {
        "id": "PKKVeWCMku2O"
      }
    },
    {
      "cell_type": "code",
      "source": [
        "# 2022.3.27\n",
        "# Status : Model\n",
        "\n",
        "input_count = 0    # Reset counter\n",
        "\n",
        "N = int(input())\n",
        "\n",
        "superchat = {}\n",
        "member = set()\n",
        "for _ in range(N):\n",
        "    event = input().split()\n",
        "\n",
        "    name = event[0]\n",
        "    verb = event[1]\n",
        "    if verb == \"give\":\n",
        "        money = int(event[2])\n",
        "        if name not in superchat:\n",
        "            superchat[name] = (money, name)\n",
        "        else:\n",
        "            superchat[name] = (superchat[name][0] + money, name)\n",
        "    else:\n",
        "        member.add(name)\n",
        "\n",
        "for name, money in sorted(superchat.items(), key=lambda x: x[1], reverse=True):\n",
        "    print(name)\n",
        "for name in sorted(member):\n",
        "    print(name)"
      ],
      "metadata": {
        "colab": {
          "base_uri": "https://localhost:8080/"
        },
        "id": "vQ6MNxd8ktYY",
        "outputId": "15be2f1b-0a51-4b21-e1ff-f794dc9fb0a5"
      },
      "execution_count": 19,
      "outputs": [
        {
          "output_type": "stream",
          "name": "stdout",
          "text": [
            "uquai\n",
            "thaep\n",
            "eefah\n",
            "eicuf\n",
            "sheeh\n",
            "aehah\n",
            "ahtoo\n",
            "ikoem\n",
            "aehah\n",
            "daike\n",
            "eefah\n",
            "ikoem\n",
            "ishaz\n",
            "sheeh\n",
            "thaep\n",
            "thiil\n"
          ]
        }
      ]
    },
    {
      "cell_type": "markdown",
      "source": [
        "### STEP: 4 経理 (paizaランク B 相当)"
      ],
      "metadata": {
        "id": "TndP3DUwdxsI"
      }
    },
    {
      "cell_type": "markdown",
      "source": [
        "#### TASK"
      ],
      "metadata": {
        "id": "qvHvbAUhfvlB"
      }
    },
    {
      "cell_type": "markdown",
      "source": [
        "paiza には N 個の部署があり、名前はそれぞれ S_1 ... S_N です。<br>\n",
        "経理係となったあなたは、どの部署が何円のどのような買い物をしたかを記録するように言われました。<br>\n",
        "どの部署が何円で何を買ったかの領収書が K 枚与えられるので、各部署の会計表を作成しましょう。"
      ],
      "metadata": {
        "id": "NPWHzfFZd8JY"
      }
    },
    {
      "cell_type": "markdown",
      "source": [
        "input\n",
        "```\n",
        "N K\n",
        "S_1\n",
        "...\n",
        "S_N\n",
        "A_1 P_1 M_1\n",
        "...\n",
        "A_K P_K M_K\n",
        "```\n",
        "\n",
        "・1 行目では、部署の数 N と与えられる領収書の枚数 K が与えられます。<br>\n",
        "・続く N 行のうち、 i 行目では、i 番目に登録されている部署名 S_i が与えられます。<br>\n",
        "・続く K 行のうち、 i 行目では、 i 枚目の領収書に書かれていた部署名 A_i , 注文番号 P_i , その金額 M_i が半角スペース区切りで与えられます。\n"
      ],
      "metadata": {
        "id": "61p26RlJeFo3"
      }
    },
    {
      "cell_type": "markdown",
      "source": [
        "output\n",
        "```\n",
        "S_1\n",
        "P_1 M_1\n",
        "...\n",
        "-----\n",
        "S_2\n",
        "P_1 M_1\n",
        "...\n",
        "-----\n",
        "...\n",
        "-----\n",
        "S_N\n",
        "P_1 M_1\n",
        "...\n",
        "-----\n",
        "```\n",
        "\n",
        "・各部署について次の形式で出力してください。<br>\n",
        "・1 行目では、登録されている部署名 S_i を出力してください。<br>\n",
        "・2 行目以降には、注文番号 P_1 ... とその値段 M_1 ... を入力された順に半角スペース区切りで出力してください。<br>\n",
        "・各部署の出力の後ろに以下の通り区切りを出力してください。<br>\n",
        "```\n",
        "-----\n",
        "```\n",
        "\n",
        "・詳しくは入出力例を参考にしてください。"
      ],
      "metadata": {
        "id": "jPx6IAcGeOPg"
      }
    },
    {
      "cell_type": "markdown",
      "source": [
        "examples\n",
        "\n",
        "input_1\n",
        "```\n",
        "3 6\n",
        "A\n",
        "B\n",
        "C\n",
        "A 1 100\n",
        "B 2 100\n",
        "A 3 500\n",
        "C 4 895\n",
        "C 5 890\n",
        "A 6 2685\n",
        "```\n",
        "output_1\n",
        "```\n",
        "A\n",
        "1 100\n",
        "3 500\n",
        "6 2685\n",
        "-----\n",
        "B\n",
        "2 100\n",
        "-----\n",
        "C\n",
        "4 895\n",
        "5 890\n",
        "-----\n",
        "```\n",
        "input_2\n",
        "```\n",
        "4 5\n",
        "ed\n",
        "bjd\n",
        "bdkf\n",
        "fkoe\n",
        "ed 20 2093\n",
        "ed 584 3388\n",
        "ed 31737 3885\n",
        "ed 023748 9300\n",
        "fkoe 82928 274\n",
        "```\n",
        "output_2\n",
        "```\n",
        "ed\n",
        "20 2093\n",
        "584 3388\n",
        "31737 3885\n",
        "023748 9300\n",
        "-----\n",
        "bjd\n",
        "-----\n",
        "bdkf\n",
        "-----\n",
        "fkoe\n",
        "82928 274\n",
        "-----\n",
        "```"
      ],
      "metadata": {
        "id": "ZQXWGE5LfE2v"
      }
    },
    {
      "cell_type": "markdown",
      "source": [
        "conditions\n",
        "\n",
        "・1 ≦ N ≦ 100,000<br>\n",
        "・1 ≦ K ≦ 100,000<br>\n",
        "・A_i は S_j のいずれか (1 ≦ i ≦ K , 1 ≦ j ≦ N)<br>\n",
        "・S_i は 20 文字以下の文字列 (1 ≦ i ≦ N)<br>\n",
        "・0 ≦ P_i ≦ 10^10 (1 ≦ i ≦ K)<br>\n",
        "・1 ≦ M_i ≦ 10,000 (1 ≦ i ≦ K)<br>"
      ],
      "metadata": {
        "id": "nMpjmH-gejYn"
      }
    },
    {
      "cell_type": "code",
      "source": [
        "input_count = 0    # Reset counter"
      ],
      "metadata": {
        "id": "XZithxnTdsPJ"
      },
      "execution_count": 20,
      "outputs": []
    },
    {
      "cell_type": "markdown",
      "source": [
        "#### CODE"
      ],
      "metadata": {
        "id": "dG4PjeW2f0O2"
      }
    },
    {
      "cell_type": "code",
      "source": [
        "# 2022.3.27\n",
        "# Status : Completed 2022.3.27\n",
        "\n",
        "input_count = 0    # Reset counter\n",
        "\n",
        "def table(a):\n",
        "    for i in a:\n",
        "        print(i)\n",
        "        #if a[i]:\n",
        "        for j in a[i]:\n",
        "            print(j[0], j[1])\n",
        "        print('-----')\n",
        "        \n",
        "\n",
        "def main():\n",
        "    n, k = map(int, input().split())\n",
        "    dep_name = {}\n",
        "\n",
        "    for _ in range(n):\n",
        "        dep_name[input()] = []\n",
        "\n",
        "    for _ in range(k):\n",
        "        a, p, m = input().split()\n",
        "        dep_name[a].append((p, m))\n",
        "\n",
        "\n",
        "    print(dep_name)\n",
        "    table(dep_name)\n",
        "\n",
        "\n",
        "main()"
      ],
      "metadata": {
        "id": "S7eyKgKWf3VQ",
        "colab": {
          "base_uri": "https://localhost:8080/",
          "height": 338
        },
        "outputId": "e11d9feb-c95c-4e2a-fb08-770b1fa61190"
      },
      "execution_count": 21,
      "outputs": [
        {
          "output_type": "error",
          "ename": "ValueError",
          "evalue": "ignored",
          "traceback": [
            "\u001b[0;31m---------------------------------------------------------------------------\u001b[0m",
            "\u001b[0;31mValueError\u001b[0m                                Traceback (most recent call last)",
            "\u001b[0;32m<ipython-input-21-6ac5fa0177d6>\u001b[0m in \u001b[0;36m<module>\u001b[0;34m()\u001b[0m\n\u001b[1;32m     29\u001b[0m \u001b[0;34m\u001b[0m\u001b[0m\n\u001b[1;32m     30\u001b[0m \u001b[0;34m\u001b[0m\u001b[0m\n\u001b[0;32m---> 31\u001b[0;31m \u001b[0mmain\u001b[0m\u001b[0;34m(\u001b[0m\u001b[0;34m)\u001b[0m\u001b[0;34m\u001b[0m\u001b[0;34m\u001b[0m\u001b[0m\n\u001b[0m",
            "\u001b[0;32m<ipython-input-21-6ac5fa0177d6>\u001b[0m in \u001b[0;36mmain\u001b[0;34m()\u001b[0m\n\u001b[1;32m     14\u001b[0m \u001b[0;34m\u001b[0m\u001b[0m\n\u001b[1;32m     15\u001b[0m \u001b[0;32mdef\u001b[0m \u001b[0mmain\u001b[0m\u001b[0;34m(\u001b[0m\u001b[0;34m)\u001b[0m\u001b[0;34m:\u001b[0m\u001b[0;34m\u001b[0m\u001b[0;34m\u001b[0m\u001b[0m\n\u001b[0;32m---> 16\u001b[0;31m     \u001b[0mn\u001b[0m\u001b[0;34m,\u001b[0m \u001b[0mk\u001b[0m \u001b[0;34m=\u001b[0m \u001b[0mmap\u001b[0m\u001b[0;34m(\u001b[0m\u001b[0mint\u001b[0m\u001b[0;34m,\u001b[0m \u001b[0minput\u001b[0m\u001b[0;34m(\u001b[0m\u001b[0;34m)\u001b[0m\u001b[0;34m.\u001b[0m\u001b[0msplit\u001b[0m\u001b[0;34m(\u001b[0m\u001b[0;34m)\u001b[0m\u001b[0;34m)\u001b[0m\u001b[0;34m\u001b[0m\u001b[0;34m\u001b[0m\u001b[0m\n\u001b[0m\u001b[1;32m     17\u001b[0m     \u001b[0mdep_name\u001b[0m \u001b[0;34m=\u001b[0m \u001b[0;34m{\u001b[0m\u001b[0;34m}\u001b[0m\u001b[0;34m\u001b[0m\u001b[0;34m\u001b[0m\u001b[0m\n\u001b[1;32m     18\u001b[0m \u001b[0;34m\u001b[0m\u001b[0m\n",
            "\u001b[0;31mValueError\u001b[0m: not enough values to unpack (expected 2, got 1)"
          ]
        }
      ]
    },
    {
      "cell_type": "markdown",
      "source": [
        "#### Model answer"
      ],
      "metadata": {
        "id": "c_djBOgoHIrA"
      }
    },
    {
      "cell_type": "markdown",
      "source": [
        "- 辞書を使います。解答コードでは以下のようにオブジェクトを生成しています。<br>\n",
        "> キー : 部署名<br>\n",
        "> 値 : 注文番号と金額のタプルを 1 要素とするリスト\n",
        "\n",
        "- 解答コードにおいて、今回の肝となるコードは `departments[a].append((p, m))` ですが、この処理の計算量は平均 O(1) です。これは、departments が dict オブジェクトであり、要素の取得が平均 O(1) で済むことと、list オブジェクトに要素を追加する append メソッドの計算量が O(1) であることから確認できます。"
      ],
      "metadata": {
        "id": "qbzZQy7CHT4V"
      }
    },
    {
      "cell_type": "code",
      "source": [
        "# 2022.3.27\n",
        "# Status : Model\n",
        "\n",
        "input_count = 0    # Reset counter\n",
        "\n",
        "N, K = map(int, input().split())\n",
        "departments = {input(): [] for _ in range(N)}\n",
        "\n",
        "for _ in range(K):\n",
        "    a, p, m = input().split()\n",
        "\n",
        "    departments[a].append((p, m))\n",
        "\n",
        "for key, val in departments.items():\n",
        "    print(key)\n",
        "    for p, m in val:\n",
        "        print(p, m)\n",
        "\n",
        "    print(\"-----\")"
      ],
      "metadata": {
        "id": "nm5KhLI6G58A"
      },
      "execution_count": null,
      "outputs": []
    },
    {
      "cell_type": "markdown",
      "source": [
        "### STEP: 3 銀行 (paizaランク B 相当)"
      ],
      "metadata": {
        "id": "rw8_m3cSWZDp"
      }
    },
    {
      "cell_type": "markdown",
      "source": [
        "#### TASK"
      ],
      "metadata": {
        "id": "UPvGvfK8qqkq"
      }
    },
    {
      "cell_type": "markdown",
      "source": [
        "2xxx年に paiza が設立した paiza 中央銀行に勤務する pai沢直樹は、故障した ATM の対応として、お金を引き出したい会社と電話をして、会社名が銀行の名簿に登録されており、かつ、会社側が会社の口座の暗証番号を正しく言えた場合にのみ現金を支払い、それを記帳するという業務を任されていました。\n",
        "\n",
        "銀行に登録されている会社名とその口座の暗証番号と残高についての情報、また、直樹の電話の情報が与えられるので、全ての取引が終了した後の全ての会社の残高を出力してください。"
      ],
      "metadata": {
        "id": "NP2j9TOXWhcB"
      }
    },
    {
      "cell_type": "markdown",
      "source": [
        "input\n",
        "```\n",
        "N K\n",
        "C_1 P_1 D_1\n",
        "...\n",
        "C_N P_N D_N\n",
        "G_1 M_1 W_1\n",
        "...\n",
        "G_K M_K W_K\n",
        "```\n",
        "・1 行目では、銀行に登録されている会社の数 N と行った取引の数 K が与えられます。<br>\n",
        "・続く N 行のうち、i 行目では、i 番目に登録されている会社名 C_i とその口座の暗証番号 P_i と残高 D_i が与えられます。<br>\n",
        "・続く K 行のうち、i 行目では、i 回目の取引を行おうとした会社の名前 G_i と、その人が言った暗証番号 M_i , 引出そうとした金額 W_i が与えられます。\n",
        "```\n",
        "3 5\n",
        "A 0000 10000\n",
        "B 1234 23456\n",
        "C 5678 98765\n",
        "A 0101 1000\n",
        "B 1234 1000\n",
        "C 5678 90000\n",
        "A 0000 200\n",
        "B 1233 10000\n",
        "```\n",
        "```\n",
        "4 8\n",
        "i 1353 758385\n",
        "my 9486 46446\n",
        "me 3785 38575\n",
        "mine 3573 92474\n",
        "i 3785 38753\n",
        "i 7536 8674\n",
        "my 2472 973\n",
        "my 2984 385\n",
        "me 7537 4757\n",
        "me 3785 3757\n",
        "mine 3757 3857\n",
        "mine 3573 3858\n",
        "```"
      ],
      "metadata": {
        "id": "5ldld3b3WvRg"
      }
    },
    {
      "cell_type": "markdown",
      "source": [
        "output\n",
        "```\n",
        "C_1 D_1\n",
        "...\n",
        "C_N D_N\n",
        "```\n",
        "・ i 行目に、i 番目に登録されている会社名 C_i とその会社の残高 D_i を以上の形式で出力してください。<br>\n",
        "・また、出力の末尾には改行を入れてください。\n"
      ],
      "metadata": {
        "id": "c5u0WFJNXM3Y"
      }
    },
    {
      "cell_type": "markdown",
      "source": [
        "conditions\n",
        "\n",
        "・1 ≦ N ≦ 100,000<br>\n",
        "・1 ≦ K ≦ 100,000<br>\n",
        "・C_i は 20 文字以下の文字列 (1 ≦ i ≦ N)<br>\n",
        "・P_i , M_j は 0000 〜 9999 のいずれかの数値列 (1 ≦ i ≦ N , 1 ≦ j ≦ K)<br>\n",
        "・1 ≦ D_i ≦ 1,000,000,000 (1 ≦ i ≦ N)<br>\n",
        "・G_i は C_j のいずれか (1 ≦ i ≦ K , 1 ≦ j ≦ N)<br>\n",
        "・1 ≦ W_i ≦ 1,000,000 (1 ≦ i ≦ K)<br>\n",
        "・C_i ≠ C_j (i ≠ j)<br>\n",
        "・取引の結果、全ての会社の残高が負にならないことが保証されている。"
      ],
      "metadata": {
        "id": "DQBtJqvFXWUY"
      }
    },
    {
      "cell_type": "markdown",
      "source": [
        "#### CODE"
      ],
      "metadata": {
        "id": "Y9TEuDDWqwnh"
      }
    },
    {
      "cell_type": "code",
      "source": [
        "# 2022.3.24\n",
        "# Status : Completed 2022.3.24\n",
        "\n",
        "input_count = 0    # Reset counter\n",
        "\n",
        "def main():\n",
        "    n, k = map(int, input().split())\n",
        "    customers = {}\n",
        "\n",
        "    for i in range(n):\n",
        "        c, p, d = input().split()\n",
        "        customers[c] = [i, p, int(d)]\n",
        "\n",
        "    print(customers)\n",
        "\n",
        "    for j in range(k):\n",
        "        g, m, w = input().split()\n",
        "        if customers[g][1] == m:\n",
        "            customers[g][2] -= int(w)\n",
        "\n",
        "    print(customers)\n",
        "\n",
        "    customers_list = sorted(customers.items(), key=lambda x: x[1][0])\n",
        "    print(customers_list)\n",
        "\n",
        "    for t in customers_list:\n",
        "        print(t[0], t[1][2])\n",
        "\n",
        "\n",
        "main()"
      ],
      "metadata": {
        "id": "U9VHFo7Oq1Op"
      },
      "execution_count": null,
      "outputs": []
    },
    {
      "cell_type": "markdown",
      "source": [
        "### STEP: 2 歴史を作る時間(paizaランク C 相当)"
      ],
      "metadata": {
        "id": "QVtZBmvAJTme"
      }
    },
    {
      "cell_type": "markdown",
      "source": [
        "西暦 1,000,000,000 年に行われた歴史の授業のグループワークで、歴史上のいくつかの出来事についての記事を年代順に並べて歴史年表を作成することになりました。<br>\n",
        "ところが、歴史年表は 1 枚の紙にまとめる必要があるため、古い出来事を担当する人から順番に歴史年表を書くことにしました。<br>\n",
        "グループの人数 N とそのメンバー S_1 ... S_N が与えられます。<br>\n",
        "続けて、歴史年表に載せる出来事の数 K , 各出来事の起こった年 Y_i , その出来事の記事を担当する生徒の名前 C_i が与えられるので、歴史年表を書く担当者の順番を出力してください。<br>\n",
        "なお、 1 人の生徒が複数の出来事の記事を担当することがある点に注意してください。"
      ],
      "metadata": {
        "id": "yTbetsGlcQnp"
      }
    },
    {
      "cell_type": "markdown",
      "source": [
        "input\n",
        "```\n",
        "N K\n",
        "S_1\n",
        "...\n",
        "S_N\n",
        "Y_1 C_1\n",
        "...\n",
        "Y_K C_K\n",
        "```\n",
        "\n",
        "・1 行目では、グループの人数 N と歴史年表に載せる出来事の数 K が与えられます。<br>\n",
        "・続く N 行のうち i 行目では、 i 人目のメンバーの名前 S_i が与えられます。<br>\n",
        "・続く K 行のうち i 行目では、 i 個目の出来事の起こった年 Y_i と、その記事を担当する生徒の名前 C_i が先頭から順に与えられます。\n",
        "```\n",
        "3 5\n",
        "nao\n",
        "hiro\n",
        "yuki\n",
        "645 nao\n",
        "593 hiro\n",
        "2058 yuki\n",
        "29484 nao\n",
        "374759 nao\n",
        "```"
      ],
      "metadata": {
        "id": "Agk46leqccLJ"
      }
    },
    {
      "cell_type": "markdown",
      "source": [
        "output\n",
        "\n",
        "・歴史年表を書く担当者の名前を順番に出力してください。<br>\n",
        "・ただし、同じ年に複数の出来事があった場合は、名前が辞書順になるように出力してください。<br>\n",
        "・また、出力の末尾には改行を入れてください。"
      ],
      "metadata": {
        "id": "yRU4J-TBg7wy"
      }
    },
    {
      "cell_type": "markdown",
      "source": [
        "conditions\n",
        "\n",
        "・1 ≦ N ≦ 1,000<br>\n",
        "・1 ≦ K ≦ 100,000<br>\n",
        "・S_i は 20 文字以下の英数字列 (1 ≦ i ≦ N)<br>\n",
        "・S_i ≠ S_j (i ≠ j)<br>\n",
        "・1 ≦ Y_i ≦ 1,000,000,000 (1 ≦ i ≦ K)<br>\n",
        "・C_i は S_j のいずれか (1 ≦ i ≦ K , 1 ≦ j ≦ N)"
      ],
      "metadata": {
        "id": "LJyWYK2-hEL_"
      }
    },
    {
      "cell_type": "markdown",
      "source": [
        "#### Try and Error"
      ],
      "metadata": {
        "id": "2M7rV4-lrUs6"
      }
    },
    {
      "cell_type": "code",
      "source": [
        "s = {6, 4, 5, 2, 3, 6, 4}\n",
        "s.add(8)\n",
        "s.add(4)\n",
        "s.add(100)\n",
        "print(s)"
      ],
      "metadata": {
        "id": "Q1KAXdhezKVX"
      },
      "execution_count": null,
      "outputs": []
    },
    {
      "cell_type": "code",
      "source": [
        "#%%time\n",
        "\n",
        "# 2022.3.5\n",
        "# 入力データ確認\n",
        "\n",
        "# https://qiita.com/c-yan/items/dbf2838cdd89864ef5ac\n",
        "\n",
        "from sys import stdin\n",
        "\n",
        "readline = stdin.readline\n",
        "\n",
        "input_count = 0    # Reset counter\n",
        "\n",
        "#input = sys.stdin.readline()\n",
        "\n",
        "def main():\n",
        "    n, k = map(int, input().split())    # k: 89375\n",
        "    name = [readline()[:-1] for _ in range(n)]\n",
        "    years = []\n",
        "\n",
        "    print(name)\n",
        "\n",
        "    for _ in range(k):\n",
        "        y, stuff = readline()[:-1].split()\n",
        "        year = int(y)\n",
        "\n",
        "        years.append(year)\n",
        "\n",
        "    print(len(years))\n",
        "\n",
        "\n",
        "main()\n",
        "\n"
      ],
      "metadata": {
        "id": "6b6VrMz0nE_m"
      },
      "execution_count": null,
      "outputs": []
    },
    {
      "cell_type": "markdown",
      "source": [
        "#### 大規模入力データ<br>"
      ],
      "metadata": {
        "id": "PduNmhRII6sB"
      }
    },
    {
      "cell_type": "code",
      "source": [
        "# C:\\Users\\minej\\OneDrive\\ドキュメント\\DX\\Paiza\\Query\\chronicle_test-case_mondai__1.txt"
      ],
      "metadata": {
        "id": "4Ib7uEjALUvx"
      },
      "execution_count": null,
      "outputs": []
    },
    {
      "cell_type": "markdown",
      "source": [
        "#### 模範解答"
      ],
      "metadata": {
        "id": "vLVZEO_jPW5j"
      }
    },
    {
      "cell_type": "code",
      "source": [
        "input_count = 0    # Reset counter\n",
        "\n",
        "N, K = map(int, input().split())\n",
        "names = [input() for _ in range(N)]\n",
        "\n",
        "histories = [None] * K\n",
        "for i in range(K):\n",
        "    year, charge = input().split()\n",
        "    histories[i] = (int(year), charge)\n",
        "\n",
        "for year, name in sorted(histories):\n",
        "    print(name)"
      ],
      "metadata": {
        "id": "CxTzynAxNNud"
      },
      "execution_count": null,
      "outputs": []
    },
    {
      "cell_type": "markdown",
      "source": [
        "#### 提出用"
      ],
      "metadata": {
        "id": "0amrlmP6Nu6D"
      }
    },
    {
      "cell_type": "code",
      "source": [
        "%%time\n",
        "\n",
        "# 2022.3.4\n",
        "\n",
        "input_count = 0    # Reset counter\n",
        "\n",
        "def sort_dic(a):\n",
        "    ''' a: dict '''\n",
        "    return sorted(a.items())\n",
        "\n",
        "\n",
        "def chronicle(a):\n",
        "    ''' a: list[tuple] '''\n",
        "    for i in range(len(a)):\n",
        "        pass\n",
        "        # tmp = sorted(a[i][1])\n",
        "        # print(' '.join(tmp))\n",
        "\n",
        "\n",
        "def main():\n",
        "    n, k = map(int, input().split())    # k: 89375\n",
        "    #name = []\n",
        "    events = {}\n",
        "\n",
        "    name = [input() for _ in range(n)]\n",
        "    \n",
        "    for i in range(k):\n",
        "        y, stuff = input().split()\n",
        "        year = int(y)\n",
        "\n",
        "        if i % 1000 == 0:\n",
        "            print(i, end=', ')\n",
        "\n",
        "        if year in events:\n",
        "            events[year].add(stuff)\n",
        "        else:\n",
        "            events[year] = {stuff}\n",
        "\n",
        "    # print(f'name = {name}')\n",
        "    # print(f'events = {events}')\n",
        "    # print(sort_dic(events))\n",
        "\n",
        "    # chronicle(sort_dic(events))\n",
        "    print('')\n",
        "    print(len(events))\n",
        "\n",
        "\n",
        "main()"
      ],
      "metadata": {
        "id": "iM0aAeZYJbGC"
      },
      "execution_count": null,
      "outputs": []
    },
    {
      "cell_type": "markdown",
      "source": [
        "### STEP: 1 アイドルグループ(paizaランク B 相当)"
      ],
      "metadata": {
        "id": "T8OEn3NHAnjZ"
      }
    },
    {
      "cell_type": "markdown",
      "source": [
        "N 人組のロボットアイドルグループのマネージャーとなった paiza 君は、グループに所属しているアイドル全員の名前を把握しておく必要があります。アイドルグループにはメンバーの加入と脱退がつきものなので、そのたびにメンバーを覚えたり忘れたりする必要があります。<br>\n",
        "paiza 君は仕事として握手会の度にアイドル全員の名前を書き出します。<br>\n",
        "ロボットの名前はほとんどが乱数的に付けられたものなので覚えるのが大変です。<br>\n",
        "そこで、イベント（メンバーの加入・脱退と握手会）が与えられるので、それらに伴う paiza 君の仕事をおこなうプログラムを作成しましょう。<br>"
      ],
      "metadata": {
        "id": "QcQ2PEjRAshB"
      }
    },
    {
      "cell_type": "markdown",
      "source": [
        "input\n",
        "```\n",
        "N K\n",
        "name_1\n",
        "...\n",
        "name_N\n",
        "S_1\n",
        "...\n",
        "S_K\n",
        "```\n",
        "・1 行目では、アイドルグループの初期メンバー数 N とイベントの回数 K が与えられます。<br>\n",
        "・続く N 行では、N 人の初期メンバーの名前が与えられます。<br>\n",
        "・続く K 行では、起こったイベントを表す文字列が時系列順に与えられます。\n",
        "```\n",
        "5 10\n",
        "nene\n",
        "nana\n",
        "koko\n",
        "sasa\n",
        "kiki\n",
        "handshake\n",
        "leave nene\n",
        "leave kiki\n",
        "leave nana\n",
        "leave koko\n",
        "leave sasa\n",
        "handshake\n",
        "join riri\n",
        "join vivi\n",
        "handshake\n",
        "```"
      ],
      "metadata": {
        "id": "guX81deiA_2Y"
      }
    },
    {
      "cell_type": "markdown",
      "source": [
        "output<br>\n",
        "・握手会の予定に応じて出力してください。<br>\n",
        "具体的には handshake が与えられる度、その時点でのグループの全メンバーの名前を辞書順に改行区切りで出力してください。<br>\n",
        "・また、出力の末尾には改行を入れてください。"
      ],
      "metadata": {
        "id": "Ts2YSlRWBXQo"
      }
    },
    {
      "cell_type": "markdown",
      "source": [
        "conditions\n",
        "\n",
        "・1 ≦ N , K ≦ 100,000<br>\n",
        "・name_i はアルファベット小文字(a ~ z)と数字(0 ~ 9)から成る 20 文字以下の文字列です。 (1 ≦ i ≦ N)<br>\n",
        "・S_i (1 ≦ i ≦ K) は次のいずれかの形式で与えられます。\n",
        "\n",
        "・<font color=\"Red\">`join name`</font><br>\n",
        "name という名前のアイドルが加入することを表します。<br>\n",
        "name はアルファベット小文字(a ~ z)と数字(0 ~ 9)から成る 20 文字以下の文字列です。\n",
        "\n",
        "・<font color=\"Red\">`leave name`</font><br>\n",
        "name という名前のアイドルが脱退することを表します。\n",
        "name はアルファベット小文字(a ~ z)と数字(0 ~ 9)から成る 20 文字以下の文字列です。<br>\n",
        "脱退時に name という名前のアイドルがグループにいることが保証されています。\n",
        "\n",
        "・<font color=\"Red\">`handshake`</font><br>\n",
        "握手会がおこなわれることを表します。<br>\n",
        "握手会時点でのグループの全メンバーの名前を辞書順に改行区切りで出力してください。<br>\n",
        "グループのメンバーが 0 人であるときには何も出力しないでください。<br>\n",
        "\n",
        "・アイドルグループに所属するメンバーの名前は重複しないことが保証されています。<br>\n",
        "・握手会がおこなわれるのは 10 回以下であることが保証されています。"
      ],
      "metadata": {
        "id": "yskLk2BdBnpn"
      }
    },
    {
      "cell_type": "code",
      "source": [
        "# 2022.2.27\n",
        "# Sample Data 作成\n",
        "\n",
        "import random\n",
        "\n",
        "list_n = [str(x) for x in range(100_000)]\n",
        "\n",
        "random.shuffle(list_n)\n",
        "print(list_n)\n",
        "\n",
        "member = list_n\n"
      ],
      "metadata": {
        "id": "9fZgkmHGnI_n"
      },
      "execution_count": null,
      "outputs": []
    },
    {
      "cell_type": "markdown",
      "source": [
        "ランダム文字列生成<br>\n",
        "https://qiita.com/FGtatsuro/items/92bca91ed665449ab047"
      ],
      "metadata": {
        "id": "V5u1_2erEGzg"
      }
    },
    {
      "cell_type": "code",
      "source": [
        "# 2022.3.1\n",
        "\n",
        "import string\n",
        "import random\n",
        "\n",
        "str_len = 5\n",
        "random_str = ''.join([random.choice(string.ascii_letters + string.digits) for i in range(str_len)])\n",
        "print(random_str)"
      ],
      "metadata": {
        "id": "osjMZO5BC2M7"
      },
      "execution_count": null,
      "outputs": []
    },
    {
      "cell_type": "code",
      "source": [
        ""
      ],
      "metadata": {
        "id": "p33Q2m_uVV6z"
      },
      "execution_count": null,
      "outputs": []
    },
    {
      "cell_type": "markdown",
      "source": [
        "#### Data作成"
      ],
      "metadata": {
        "id": "P6NtGLW4XXsE"
      }
    },
    {
      "cell_type": "code",
      "source": [
        "%%time\n",
        "\n",
        "# メンバー名作成\n",
        "\n",
        "import string\n",
        "import random\n",
        "\n",
        "member_data = []\n",
        "str_len = 6\n",
        "\n",
        "for i in range(100_100):\n",
        "    random_str = ''.join([random.choice(string.ascii_lowercase) for _ in range(str_len)])\n",
        "    member_data.append(random_str)\n",
        "    \n",
        "print(member_data[0])\n",
        "print(len(set(member_data)))\n",
        "member_list = list(set(member_data))  # 重複排除\n",
        "print(member_list[:])"
      ],
      "metadata": {
        "id": "E_BPVrJqLJHT"
      },
      "execution_count": null,
      "outputs": []
    },
    {
      "cell_type": "markdown",
      "source": [
        "#### Prototype_0"
      ],
      "metadata": {
        "id": "WO-IiVptVj2E"
      }
    },
    {
      "cell_type": "code",
      "source": [
        "%%time\n",
        "\n",
        "# 2022.2.27\n",
        "# rev.0 : 計算時間未考慮\n",
        "\n",
        "input_count = 0    # Reset counter\n",
        "\n",
        "events = ['handshake', 'join riri', 'join vivi', 'handshake']\n",
        "\n",
        "def join_mem(a, b):\n",
        "    a.append(b)\n",
        "    return a\n",
        "\n",
        "def leave_mem(a, b):\n",
        "    a.remove(b)\n",
        "    return a\n",
        "\n",
        "def handshake(a):\n",
        "    a_sorted = sorted(a)\n",
        "    for w in a_sorted:\n",
        "        pass\n",
        "        # print(w, end=',')\n",
        "    \n",
        "\n",
        "def main():\n",
        "    '''\n",
        "    n, k = map(int, input().split())\n",
        "    member = []\n",
        "    \n",
        "    for _ in range(n):\n",
        "        member.append(input())\n",
        "        '''\n",
        "    n, k = 100, 4  # temp\n",
        "    member = member_list\n",
        "\n",
        "    # print(member)\n",
        "\n",
        "    for j in range(k):\n",
        "        event = events[j].split()\n",
        "\n",
        "        if event[0] == 'join':\n",
        "            pass  # temp\n",
        "            # join_mem(member, event[1])\n",
        "\n",
        "        if event[0] == 'leave':\n",
        "            pass  # temp\n",
        "            # leave_mem(member, event[1])\n",
        "\n",
        "        if event[0] == 'handshake':\n",
        "            handshake(member)\n",
        "\n",
        "\n",
        "main()"
      ],
      "metadata": {
        "id": "BoRQcRB4VYuj"
      },
      "execution_count": null,
      "outputs": []
    },
    {
      "cell_type": "markdown",
      "source": [
        "#### Prototype_1"
      ],
      "metadata": {
        "id": "aBnkpwPtK5LY"
      }
    },
    {
      "cell_type": "code",
      "source": [
        "%%time\n",
        "\n",
        "# 2022.3.1  ---- prototype ----\n",
        "\n",
        "input_count = 0    # Reset counter\n",
        "\n",
        "events = ['handshake', 'join riri', 'join vivi', 'handshake']\n",
        "\n",
        "def make_dic():\n",
        "    a = {}\n",
        "    for i in range(97, 123):\n",
        "        # key が a-z の辞書を作成\n",
        "        a[chr(i)] = []\n",
        "        \n",
        "    return a\n",
        "\n",
        "def join_mem(a, b):\n",
        "    ''' a: dict\n",
        "        b: str '''\n",
        "    a[b[0]].append(b)\n",
        "    # print(a)\n",
        "\n",
        "    return a\n",
        "\n",
        "def leave_mem(a, b):\n",
        "    a[b[0]].remove(b)\n",
        "\n",
        "    return a\n",
        "\n",
        "def handshake(a):\n",
        "    for i in range(97, 123):\n",
        "        temp = sorted(a[chr(i)])\n",
        "\n",
        "        for s in temp:\n",
        "            print(s, end=', ')\n",
        "\n",
        "\n",
        "def main():\n",
        "    n, k = 100000, 4\n",
        "    member = make_dic()\n",
        "\n",
        "    for i in range(n):\n",
        "        join_mem(member, member_list[i])\n",
        "\n",
        "    for j in range(k):\n",
        "        event = events[j].split()\n",
        "\n",
        "        if event[0] == 'join':\n",
        "            join_mem(member, event[1])\n",
        "\n",
        "        if event[0] == 'leave':\n",
        "            leave_mem(member, event[1])\n",
        "\n",
        "        if event[0] == 'handshake':\n",
        "            handshake(member)\n",
        "\n",
        "    # print(member[:5])\n",
        "\n",
        "\n",
        "main()\n",
        "\n",
        "\n"
      ],
      "metadata": {
        "id": "PinybiXnK164"
      },
      "execution_count": null,
      "outputs": []
    },
    {
      "cell_type": "markdown",
      "source": [
        "#### 提出用"
      ],
      "metadata": {
        "id": "pAvukAaKLwvI"
      }
    },
    {
      "cell_type": "code",
      "source": [
        "# 2022.2.27  ---- Unfinished ----\n",
        "# rev.1 : 辞書作成\n",
        "\n",
        "input_count = 0    # Reset counter\n",
        "\n",
        "def make_dic():\n",
        "    a = {}\n",
        "    for i in range(97, 123):\n",
        "        # key が a-z の辞書を作成\n",
        "        a[chr(i)] = []\n",
        "\n",
        "    return a\n",
        "\n",
        "def join_mem(a, b):\n",
        "    ''' a: dict\n",
        "        b: str '''\n",
        "    a[b[0]].append(b)\n",
        "    # print(a)\n",
        "\n",
        "    return a\n",
        "\n",
        "def leave_mem(a, b):\n",
        "    a[b[0]].remove(b)\n",
        "\n",
        "    return a\n",
        "\n",
        "def handshake(a):\n",
        "    for i in range(97, 123):\n",
        "        temp = sorted(a[chr(i)])\n",
        "\n",
        "        for s in temp:\n",
        "            print(s)\n",
        "\n",
        "\n",
        "\n",
        "def main():\n",
        "    n, k = map(int, input().split())\n",
        "    member = make_dic()\n",
        "\n",
        "    for _ in range(n):\n",
        "        join_mem(member, input())\n",
        "\n",
        "    for _ in range(k):\n",
        "        event = input().split()\n",
        "\n",
        "        if event[0] == 'join':\n",
        "            join_mem(member, event[1])\n",
        "\n",
        "        if event[0] == 'leave':\n",
        "            leave_mem(member, event[1])\n",
        "\n",
        "        if event[0] == 'handshake':\n",
        "            handshake(member)\n",
        "\n",
        "    # print(member)\n",
        "\n",
        "\n",
        "main()\n",
        "\n",
        "\n"
      ],
      "metadata": {
        "id": "eOInjHyn5ONg"
      },
      "execution_count": null,
      "outputs": []
    }
  ]
}