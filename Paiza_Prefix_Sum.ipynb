{
  "nbformat": 4,
  "nbformat_minor": 0,
  "metadata": {
    "colab": {
      "name": "Paiza_Prefix_Sum.ipynb",
      "provenance": [],
      "toc_visible": true,
      "authorship_tag": "ABX9TyPtTxdGd4ZsZ7hDh0NHi8Ha",
      "include_colab_link": true
    },
    "kernelspec": {
      "name": "python3",
      "display_name": "Python 3"
    },
    "language_info": {
      "name": "python"
    },
    "widgets": {
      "application/vnd.jupyter.widget-state+json": {
        "17260cbcc3dd4cd48391e67f4faa1fee": {
          "model_module": "@jupyter-widgets/controls",
          "model_name": "TextareaModel",
          "model_module_version": "1.5.0",
          "state": {
            "_dom_classes": [],
            "_model_module": "@jupyter-widgets/controls",
            "_model_module_version": "1.5.0",
            "_model_name": "TextareaModel",
            "_view_count": null,
            "_view_module": "@jupyter-widgets/controls",
            "_view_module_version": "1.5.0",
            "_view_name": "TextareaView",
            "continuous_update": true,
            "description": "",
            "description_tooltip": null,
            "disabled": false,
            "layout": "IPY_MODEL_e93d98b06bda4ab3b3f6f75337b50f44",
            "placeholder": "​",
            "rows": null,
            "style": "IPY_MODEL_bca1198212284cd895c175d98983dec5",
            "value": "10 3 8\nbwwbwbbwbw"
          }
        },
        "e93d98b06bda4ab3b3f6f75337b50f44": {
          "model_module": "@jupyter-widgets/base",
          "model_name": "LayoutModel",
          "model_module_version": "1.2.0",
          "state": {
            "_model_module": "@jupyter-widgets/base",
            "_model_module_version": "1.2.0",
            "_model_name": "LayoutModel",
            "_view_count": null,
            "_view_module": "@jupyter-widgets/base",
            "_view_module_version": "1.2.0",
            "_view_name": "LayoutView",
            "align_content": null,
            "align_items": null,
            "align_self": null,
            "border": null,
            "bottom": null,
            "display": null,
            "flex": null,
            "flex_flow": null,
            "grid_area": null,
            "grid_auto_columns": null,
            "grid_auto_flow": null,
            "grid_auto_rows": null,
            "grid_column": null,
            "grid_gap": null,
            "grid_row": null,
            "grid_template_areas": null,
            "grid_template_columns": null,
            "grid_template_rows": null,
            "height": null,
            "justify_content": null,
            "justify_items": null,
            "left": null,
            "margin": null,
            "max_height": null,
            "max_width": null,
            "min_height": null,
            "min_width": null,
            "object_fit": null,
            "object_position": null,
            "order": null,
            "overflow": null,
            "overflow_x": null,
            "overflow_y": null,
            "padding": null,
            "right": null,
            "top": null,
            "visibility": null,
            "width": null
          }
        },
        "bca1198212284cd895c175d98983dec5": {
          "model_module": "@jupyter-widgets/controls",
          "model_name": "DescriptionStyleModel",
          "model_module_version": "1.5.0",
          "state": {
            "_model_module": "@jupyter-widgets/controls",
            "_model_module_version": "1.5.0",
            "_model_name": "DescriptionStyleModel",
            "_view_count": null,
            "_view_module": "@jupyter-widgets/base",
            "_view_module_version": "1.2.0",
            "_view_name": "StyleView",
            "description_width": ""
          }
        }
      }
    }
  },
  "cells": [
    {
      "cell_type": "markdown",
      "metadata": {
        "id": "view-in-github",
        "colab_type": "text"
      },
      "source": [
        "<a href=\"https://colab.research.google.com/github/ijenims/paiza/blob/main/Paiza_Prefix_Sum.ipynb\" target=\"_parent\"><img src=\"https://colab.research.google.com/assets/colab-badge.svg\" alt=\"Open In Colab\"/></a>"
      ]
    },
    {
      "cell_type": "markdown",
      "source": [
        "### [Template] ローカルでコードテスト環境を作る(Python, jupyter)<br>\n",
        "（要実行）"
      ],
      "metadata": {
        "id": "QJE3ZccJv7oG"
      }
    },
    {
      "cell_type": "markdown",
      "source": [
        "https://qiita.com/ryamamon/items/15ca78a0234d9d24452d"
      ],
      "metadata": {
        "id": "0p9DaDvK0FHF"
      }
    },
    {
      "cell_type": "code",
      "source": [
        "from ipywidgets import Textarea\n",
        "\n",
        "def input():\n",
        "    global input_count\n",
        "    input_text = Input.split('\\n')[input_count]\n",
        "    input_count += 1\n",
        "\n",
        "    return input_text\n",
        "\n",
        "\n",
        "def get_input(change):\n",
        "    global Input\n",
        "    Input = change['new']\n",
        "\n",
        "\n",
        "textarea = Textarea()\n",
        "textarea.observe(get_input, names='value')\n"
      ],
      "metadata": {
        "id": "6GlDZr76v4m8"
      },
      "execution_count": null,
      "outputs": []
    },
    {
      "cell_type": "markdown",
      "source": [
        "### 入力テキストボックス（要実行）"
      ],
      "metadata": {
        "id": "AeE7pYBF3H49"
      }
    },
    {
      "cell_type": "code",
      "source": [
        "display(textarea)"
      ],
      "metadata": {
        "colab": {
          "base_uri": "https://localhost:8080/",
          "height": 57,
          "referenced_widgets": [
            "17260cbcc3dd4cd48391e67f4faa1fee",
            "e93d98b06bda4ab3b3f6f75337b50f44",
            "bca1198212284cd895c175d98983dec5"
          ]
        },
        "id": "wU7Z_IQz3-kj",
        "outputId": "593c6695-f594-4b5c-c10c-f7b0196701d1"
      },
      "execution_count": null,
      "outputs": [
        {
          "output_type": "display_data",
          "data": {
            "text/plain": [
              "Textarea(value='')"
            ],
            "application/vnd.jupyter.widget-view+json": {
              "version_major": 2,
              "version_minor": 0,
              "model_id": "17260cbcc3dd4cd48391e67f4faa1fee"
            }
          },
          "metadata": {}
        }
      ]
    },
    {
      "cell_type": "markdown",
      "source": [
        "カウンタをゼロにしておく！！！\n",
        "（各ソースコードにコピペ）"
      ],
      "metadata": {
        "id": "4dTHm4-P21n0"
      }
    },
    {
      "cell_type": "code",
      "source": [
        "input_count = 0    # Reset counter"
      ],
      "metadata": {
        "id": "7kQEaa4z1agU"
      },
      "execution_count": null,
      "outputs": []
    },
    {
      "cell_type": "markdown",
      "source": [
        "### =============================================="
      ],
      "metadata": {
        "id": "_D-TbNbhh1lo"
      }
    },
    {
      "cell_type": "markdown",
      "source": [
        "※　ファイル ＞ ドライブにコピーを保存 （<font color=\"Red\">オリジナルをテンプレートとして残す</font>）"
      ],
      "metadata": {
        "id": "LQeymVlDLUZx"
      }
    },
    {
      "cell_type": "markdown",
      "source": [
        "# 累積和メニュー"
      ],
      "metadata": {
        "id": "QVtZBmvAJTme"
      }
    },
    {
      "cell_type": "markdown",
      "source": [
        "### 【二次元累積和】"
      ],
      "metadata": {
        "id": "4h8r4kVpPVP_"
      }
    },
    {
      "cell_type": "markdown",
      "source": [
        "#### <font color=\"Red\">FINAL問題</font> 【二次元累積和】 二次元累積和 7"
      ],
      "metadata": {
        "id": "KtWyaIEwOe96"
      }
    },
    {
      "cell_type": "markdown",
      "source": [
        "1 行目に整数 N, M, Q が与えられます。\n",
        "\n",
        "2 行目以降に N 行 M 列の整数の二次元配列 A が与えられます。\n",
        "\n",
        "2 + N 行目以降に Q 行に渡って整数 a_i, b_i, c_i, d_i (0 ≦ i ≦ Q - 1) が与えられます。\n",
        "\n",
        "A の j 行目 k 列目を A_{j, k} (0 ≦ j ≦ N - 1, 0 ≦ k ≦ M - 1) と表すことにします。\n",
        "\n",
        "i 番目の長方形領域の左上の要素を A_{a_i, b_i}, 右下の要素を A_{c_i, d_i} としたとき、これら Q 個の長方形領域内の整数の和を累積和を用いて求め、改行区切りで出力してください。"
      ],
      "metadata": {
        "id": "aBgXHEb_O8tk"
      }
    },
    {
      "cell_type": "markdown",
      "source": [
        "input\n",
        "\n",
        "1 行目に整数 N, M, Q が与えられます。<br>\n",
        "2 行目以降に N 行 M 列の整数の二次元配列 A が与えられます。<br>\n",
        "2+N 行目以降に Q 行に渡って整数 a, b, c, d が与えられます。\n",
        "```\n",
        "N M Q\n",
        "A_{0, 0} A_{0, 1} ... A_{0, M - 1}\n",
        "A_{1, 0} A_{1, 1} ... A_{1, M - 1}\n",
        "...\n",
        "A_{N - 1, 0} A_{N - 1, 1} ... A_{N - 1, M - 1}\n",
        "a_0 b_0 c_0 d_0\n",
        "a_1 b_1 c_1 d_1\n",
        "...\n",
        "a_{Q - 1} b_{Q - 1} c_{Q - 1} d_{Q - 1}\n",
        "```\n",
        "```\n",
        "5 5 3\n",
        "1 2 3 4 5\n",
        "2 3 4 5 6\n",
        "3 4 5 6 7\n",
        "4 5 6 7 8\n",
        "5 6 7 8 9\n",
        "1 1 3 3\n",
        "2 2 4 4\n",
        "0 0 2 2\n",
        "```\n",
        "```\n",
        "8 3 1\n",
        "8 1 3\n",
        "1 3 8\n",
        "3 1 8\n",
        "8 1 3\n",
        "1 3 8\n",
        "3 1 8\n",
        "8 1 3\n",
        "1 3 8\n",
        "0 0 7 2\n",
        "```"
      ],
      "metadata": {
        "id": "tyg7XR5nPMEl"
      }
    },
    {
      "cell_type": "markdown",
      "source": [
        "output\n",
        "\n",
        "i 番目の長方形領域の左上の要素を A_{a_i, b_i}, 右下の要素を A_{c_i, d_i} としたとき、これら Q 個の長方形領域内の整数の和を累積和を用いて求め、改行区切りで出力してください。\n"
      ],
      "metadata": {
        "id": "ZxtXdhLCPsAj"
      }
    },
    {
      "cell_type": "markdown",
      "source": [
        "conditions\n",
        "\n",
        "すべてのテストケースにおいて、以下の条件をみたします。\n",
        "\n",
        "・ 1 ≦ N, M, Q ≦ 10<br>\n",
        "・ 1 ≦ A_{i, j} ≦ 100 (0 ≦ i ≦ N - 1, 0 ≦ j ≦ M - 1)\n",
        "<br>\n",
        "・ 0 ≦ a_i ≦ c_i ≦ N - 1 (0 ≦ i ≦ Q - 1)<br>\n",
        "・ 0 ≦ b_i ≦ d_i ≦ M - 1 (0 ≦ i ≦ Q - 1)"
      ],
      "metadata": {
        "id": "yTs2Ds8pQmws"
      }
    },
    {
      "cell_type": "code",
      "source": [
        "# 2022.3.\n",
        "# Status : New\n",
        "\n",
        "input_count = 0    # Reset counter"
      ],
      "metadata": {
        "id": "bih0j71fRIvN"
      },
      "execution_count": null,
      "outputs": []
    },
    {
      "cell_type": "markdown",
      "source": [
        "#### STEP: 1 二次元累積和 1"
      ],
      "metadata": {
        "id": "SYEXtS5qPcCA"
      }
    },
    {
      "cell_type": "markdown",
      "source": [
        "5 行 5 列の整数が以下のように与えられます。\n",
        "```\n",
        "1 2 3 4 5\n",
        "2 3 4 5 6\n",
        "3 4 5 6 7\n",
        "4 5 6 7 8\n",
        "5 6 7 8 9\n",
        "```\n",
        "これを二次元配列 A としたとき、i 行目 j 列目を A_{i, j} (0 ≦ i ≦ 4, 0 ≦ j ≦ 4) と表すことにします。<br>\n",
        "長方形領域の左上の要素を A_{1, 1}, 右下の要素を A_{3, 3} としたとき、この長方形領域内の整数の和を累積和を用いて求め、一行で出力してください。\n",
        "\n",
        "左上の要素を A_{1, 1}, 右下の要素を A_{3, 3} としたときの長方形領域とは二次元配列 A のこの領域を指します。\n",
        "```\n",
        "3 4 5\n",
        "4 5 6\n",
        "5 6 7\n",
        "```\n",
        "\n",
        "\n",
        "\n",
        "\n",
        "\n",
        "\n",
        "(ヒント)\n",
        "\n",
        "領域内の整数を足していけば、累積和を使わずとも答えを求めることができますが、練習として累積和で解いてみましょう\n",
        "\n",
        "領域の和を求める方法はいくつかありますが、簡単な方法はループを用いて領域内の数を順番に足していくことです。しかしその方法では、領域の大きさが大きくなるほど、それに比例して計算時間も長くなってしまいます。<br>\n",
        "そこで、適切な前処理をして累積和を用いることで、答えを求める際の計算時間を大きく短縮することができます。<br>\n",
        "\n",
        "実際に考えてみましょう。<br>\n",
        "問題で与えられた領域を図示してみます。<br>\n",
        "<font color=\"Red\">`'o'`</font>が領域内であり、<font color=\"Red\">`'x'`</font>が領域外です。\n",
        "```\n",
        "       x →\n",
        "       0 1 2 3 4\n",
        "y   0　x x x x x\n",
        "↓  1  x o o o x\n",
        "    2  x o o o x\n",
        "    3  x o o o x\n",
        "    4  x x x x x\n",
        "```\n",
        "h 行 w 列の整数の二次元配列 A があったとき、 (h + 1) 行 (w + 1) 列の整数の二次元配列 s の各要素を以下のように考えます。\n",
        "```\n",
        "s_{y, x} =  A[i][j](0 ≦ i < y, 0 ≦ j < x) の和\n",
        "(0 ≦ y ≦ h, 0 ≦ x ≦ w)\n",
        "```\n",
        "\n",
        "\n",
        "\n",
        "\n",
        "\n",
        "\n",
        "\n",
        "例えば、<font color=\"Red\">`s_{4, 4}`</font> は、以下の領域の整数の和です。\n",
        "```\n",
        "       x →\n",
        "       0 1 2 3 4\n",
        "y   0　o o o o x\n",
        "↓  1  o o o o x\n",
        "    2  o o o o x\n",
        "    3  o o o o x\n",
        "    4  x x x x x\n",
        "```\n",
        "今回の問題の場合、求めたい和は<font color=\"Red\">` [1, 4) x [1, 4) の長方形領域内の整数の和`</font> と言うことができます。\n",
        "\n",
        "\n",
        "また、任意の長方形領域内の整数の和は、4 つの s の足し引きで求めることができます。<br>\n",
        "ある長方形領域を<font color=\"Red\">` [sx, gx) × [sy, gy) `</font>とすると、この長方形領域内の整数の和は\n",
        "\n",
        "```\n",
        "(長方形領域 [sx, gx) × [sy, gy)  内の整数の和) = s_{gy, gx} - s_{sy, gx} - s_{gy, sx} + s_{sy, sx}\n",
        "```\n",
        "と表すことができます。<br>\n",
        "特に問題で与えられた領域で考えると以下のようになります。\n",
        "```\n",
        "(長方形領域内の整数の和) = s_{4, 4} - s_{1, 4} - s_{4, 1} + s_{1, 1}\n",
        "```\n",
        "なぜこうなるのか図示して考えてみましょう。<br>\n",
        "<font color=\"Red\">`s_{4, 4}`</font> は上で示したので、それ以外の三つの領域を以下に示します。\n",
        "\n",
        "<font color=\"Red\">`s_{1, 4}`</font> は以下の長方形領域内の整数の和です。\n",
        "\n",
        "```\n",
        "       x →\n",
        "       0 1 2 3 4\n",
        "y   0　o o o o x\n",
        "↓  1  x x x x x\n",
        "    2  x x x x x\n",
        "    3  x x x x x\n",
        "    4  x x x x x\n",
        "```\n",
        "\n",
        "<font color=\"Red\">`s_{4, 1}`</font> は以下の長方形領域内の整数の和です。\n",
        "```\n",
        "       x →\n",
        "       0 1 2 3 4\n",
        "y   0　o x x x x\n",
        "↓  1  o x x x x\n",
        "    2  o x x x x\n",
        "    3  o x x x x\n",
        "    4  x x x x x\n",
        "```\n",
        "\n",
        "<font color=\"Red\">`s_{1, 1}`</font> は以下の長方形領域内の整数の和です。\n",
        "```\n",
        "       x →\n",
        "       0 1 2 3 4\n",
        "y   0　o x x x x\n",
        "↓  1  x x x x x\n",
        "    2  x x x x x\n",
        "    3  x x x x x\n",
        "    4  x x x x x\n",
        "```\n",
        "\n",
        "\n",
        "この 4 つの領域を、示した式のように計算すると、一番大きい領域の <font color=\"Red\">`s_{4, 4}`</font> から、要らない領域の <font color=\"Red\">`s_{1, 4}`</font> と <font color=\"Red\">`s_{4, 1}`</font> を引き、二重で引いてしまった <font color=\"Red\">`s_{1, 1}`</font> を足す、ということをしているのがわかります。<br>\n",
        "また、二次元配列 s の各要素は、この考え方を応用して求めることができます。<br>\n",
        "s は全て 0 で初期化されているものとすると、s_{x + 1, y + 1} は\n",
        "```\n",
        "s_{y + 1, x + 1} = s_{y, x + 1} + s_{y + 1, x} - s_{y, x} + A_{y, x}\n",
        "```\n",
        "と表すことができます。\n",
        "\n",
        "これによって求まった二次元配列 s を用いて、\n",
        "```\n",
        "(長方形領域内の整数の和) = s_{gy, gx} - s_{sy, gx} - s_{gy, sx} + s_{sy, sx}\n",
        "```\n",
        "を用いることで、長方形領域内の整数の和を求めることができます。"
      ],
      "metadata": {
        "id": "vTG078ASPgo8"
      }
    },
    {
      "cell_type": "code",
      "source": [
        "# 2022.3.19\n",
        "# Status : Ready\n",
        "\n",
        "input_count = 0    # Reset counter\n",
        "\n",
        "def main():\n",
        "\n",
        "    a_org = '1 2 3 4 5 2 3 4 5 6 3 4 5 6 7 4 5 6 7 8 5 6 7 8 9'\n",
        "    a_1d = [int(z) for z in a_org.split()]\n",
        "    a = []\n",
        "    for i in range(5):\n",
        "        a5 = []\n",
        "        for j in range(5):\n",
        "            a5.append(a_1d[i * 5 + j])\n",
        "        a.append(a5)\n",
        "    b = [[a_1d[i * 5 + j] for j in range(5)] for i in range(5)]    \n",
        "    print(a)\n",
        "    print(b)\n",
        "\n",
        "    s = [[0 for _ in range(6)] for _ in range(6)]\n",
        "    print(s)\n",
        "    for y in range(len(s) - 1):\n",
        "        for x in range(len(s[y]) - 1):\n",
        "            s[y+1][x+1] = s[y][x+1] + s[y+1][x] - s[y][x] + a[y][x]\n",
        "\n",
        "    print(s)\n",
        "    print(s[4][4] - s[1][4] - s[4][1] + s[1][1])\n",
        "\n",
        "\n",
        "main()"
      ],
      "metadata": {
        "colab": {
          "base_uri": "https://localhost:8080/"
        },
        "id": "yL6-_Kp5p53a",
        "outputId": "8eee7525-390d-456a-eb8c-b0e9023ca30f"
      },
      "execution_count": null,
      "outputs": [
        {
          "output_type": "stream",
          "name": "stdout",
          "text": [
            "[[1, 2, 3, 4, 5], [2, 3, 4, 5, 6], [3, 4, 5, 6, 7], [4, 5, 6, 7, 8], [5, 6, 7, 8, 9]]\n",
            "[[1, 2, 3, 4, 5], [2, 3, 4, 5, 6], [3, 4, 5, 6, 7], [4, 5, 6, 7, 8], [5, 6, 7, 8, 9]]\n",
            "[[0, 0, 0, 0, 0, 0], [0, 0, 0, 0, 0, 0], [0, 0, 0, 0, 0, 0], [0, 0, 0, 0, 0, 0], [0, 0, 0, 0, 0, 0], [0, 0, 0, 0, 0, 0]]\n",
            "[[0, 0, 0, 0, 0, 0], [0, 1, 3, 6, 10, 15], [0, 3, 8, 15, 24, 35], [0, 6, 15, 27, 42, 60], [0, 10, 24, 42, 64, 90], [0, 15, 35, 60, 90, 125]]\n",
            "45\n"
          ]
        }
      ]
    },
    {
      "cell_type": "code",
      "source": [
        ""
      ],
      "metadata": {
        "id": "9asgAZbzp5S_"
      },
      "execution_count": null,
      "outputs": []
    },
    {
      "cell_type": "markdown",
      "source": [
        ""
      ],
      "metadata": {
        "id": "9-mbIXm_O6vo"
      }
    },
    {
      "cell_type": "markdown",
      "source": [
        "## 【区間内の個数 (文字列) 】"
      ],
      "metadata": {
        "id": "vScEp88bxP77"
      }
    },
    {
      "cell_type": "markdown",
      "source": [
        "### <font color=\"Red\">FINAL問題</font> 【区間内の個数 (文字列) 】 区間内の個数 (文字列) 4"
      ],
      "metadata": {
        "id": "xBVazxxrxxmG"
      }
    },
    {
      "cell_type": "markdown",
      "source": [
        "1 行目に整数 N, X, Y が与えられます。<br>\n",
        "2 行目に `'b'` と `'w'` で構成された長さ N の文字列 str が与えられます。<br>\n",
        "文字列 str の X 文字目から Y 文字目までの `'b'` の個数を累積和を用いて求めてください。"
      ],
      "metadata": {
        "id": "1EReR4pRFUXR"
      }
    },
    {
      "cell_type": "markdown",
      "source": [
        "input\n",
        "\n",
        "1 行目に整数 N, X, Y が与えられます。<br>\n",
        "2 行目に `'b'` と `'w'` で構成された長さ N の文字列 str が与えられます。\n",
        "```\n",
        "N X Y\n",
        "str\n",
        "```\n",
        "```\n",
        "10 3 8\n",
        "bwwbwbbwbw\n",
        "```\n",
        "```\n",
        "10 3 8\n",
        "wbbwbbbwwb\n",
        "```"
      ],
      "metadata": {
        "id": "o0ac3OzjFiM_"
      }
    },
    {
      "cell_type": "markdown",
      "source": [
        "output\n",
        "\n",
        "文字列 str の X 文字目から Y 文字目までの `'b'` の個数を出力してください。"
      ],
      "metadata": {
        "id": "M9d_Gv42F5BK"
      }
    },
    {
      "cell_type": "markdown",
      "source": [
        "conditions\n",
        "\n",
        "すべてのテストケースにおいて、以下の条件をみたします。\n",
        "\n",
        "・ 1 ≦ N ≦ 1,000<br>\n",
        "・ 1 ≦ X ≦ Y ≦ N\n",
        "\n",
        "・ str は `'b'` と `'w'` からなる長さ N 文字の文字列"
      ],
      "metadata": {
        "id": "QSbdMsHgGEDT"
      }
    },
    {
      "cell_type": "code",
      "source": [
        "# 2022.3.19\n",
        "# Status : Completed 2022.3.24\n",
        "\n",
        "input_count = 0    # Reset counter\n",
        "\n",
        "def main():\n",
        "    n, x, y = map(int, input().split())\n",
        "    a = input()\n",
        "    b = []\n",
        "    s = [0]\n",
        "\n",
        "    for i in a:\n",
        "        if i == 'b':\n",
        "            b.append(1)\n",
        "        else:\n",
        "            b.append(0)\n",
        "    \n",
        "    for j in b:\n",
        "        s.append(s[-1] + j)\n",
        "\n",
        "    print(b)\n",
        "    print(s)\n",
        "    print(s[y] - s[x - 1])\n",
        "\n",
        "main()\n"
      ],
      "metadata": {
        "colab": {
          "base_uri": "https://localhost:8080/"
        },
        "outputId": "d9b201be-c28d-43f0-9e47-422b9e4122f5",
        "id": "nIcV_i9THPS-"
      },
      "execution_count": null,
      "outputs": [
        {
          "output_type": "stream",
          "name": "stdout",
          "text": [
            "[1, 0, 0, 1, 0, 1, 1, 0, 1, 0]\n",
            "[0, 1, 1, 1, 2, 2, 3, 4, 4, 5, 5]\n",
            "3\n"
          ]
        }
      ]
    },
    {
      "cell_type": "markdown",
      "source": [
        "### STEP: 3 区間内の個数 (文字列) 3"
      ],
      "metadata": {
        "id": "PcgpqcGHxtOT"
      }
    },
    {
      "cell_type": "markdown",
      "source": [
        "### STEP: 2 区間内の個数 (文字列) 2"
      ],
      "metadata": {
        "id": "j7kKNBDpxrCm"
      }
    },
    {
      "cell_type": "markdown",
      "source": [
        "### STEP: 1 区間内の個数 (文字列) 1"
      ],
      "metadata": {
        "id": "ZQQO7rOLwTpA"
      }
    },
    {
      "cell_type": "markdown",
      "source": [
        "文字列 str を <font color=\"Red\">`\"bwwbwbbwbwbb\"`</font> とします。\n",
        "\n",
        "文字列 str の 3 文字目から 8 文字目までの <font color=\"Red\">`'b'`</font> の個数を累積和を用いて求めてください。\n",
        "\n",
        "(ヒント)\n",
        "\n",
        "文字列 str の i 文字目を <font color=\"Red\">`str_i`</font> (1 ≦ i ≦ 10) とします。\n",
        "\n",
        "まず、文字列 str の各要素が <font color=\"Red\">`'b'`</font> かどうかを格納する数列 <font color=\"Red\">`b_0, b_1, ..., b_9`</font> を以下のように考えてみます。\n",
        "```\n",
        "1 ≦ i ≦ 10 において\n",
        "str_i が 'b' ならば b_(i-1) = 1\n",
        "str_i が 'b' でないならば b_(i-1) = 0\n",
        "```\n",
        "\n",
        "例えば <font color=\"Red\">`str = \"bwbwwbwbwb\"`</font> ならば <font color=\"Red\">`b = {1, 0, 1, 0, 0, 1, 0, 1, 0, 1}`</font> となります。\n",
        "\n",
        "ここで、数列 b の 1 の個数は、文字列 str の <font color=\"Red\">`'b'`</font> の個数と同じだとわかります。\n",
        "\n",
        "つまり、数列 b で累積和を用いて、b_2 から b_7 までの総和を求めればよいです。\n",
        "\n",
        "累積和をとった数列を s とすると、b_2 から b_7 までの総和は、<font color=\"Red\">`s[8] - s[2]`</font> で求めることができます。"
      ],
      "metadata": {
        "id": "nA4PrdWGyTG-"
      }
    },
    {
      "cell_type": "code",
      "source": [
        "# 2022.3.15\n",
        "# Status : Ready\n",
        "\n",
        "def main():\n",
        "    a = \"bwwbwbbwbwbb\"\n",
        "    b = []\n",
        "    s = [0]\n",
        "\n",
        "    for i in a:\n",
        "        if i == 'b':\n",
        "            b.append(1)\n",
        "        else:\n",
        "            b.append(0)\n",
        "    \n",
        "    for j in b:\n",
        "        s.append(s[-1] + j)\n",
        "\n",
        "    print(b)\n",
        "    print(s)\n",
        "    print(s[8] - s[2])\n",
        "\n",
        "main()\n"
      ],
      "metadata": {
        "colab": {
          "base_uri": "https://localhost:8080/"
        },
        "id": "BOkCTAfvwMh8",
        "outputId": "f83033ab-9c23-4099-b571-331ca2d70ca8"
      },
      "execution_count": null,
      "outputs": [
        {
          "output_type": "stream",
          "name": "stdout",
          "text": [
            "[1, 0, 0, 1, 0, 1, 1, 0, 1, 0, 1, 1]\n",
            "[0, 1, 1, 1, 2, 2, 3, 4, 4, 5, 5, 6, 7]\n",
            "3\n"
          ]
        }
      ]
    },
    {
      "cell_type": "markdown",
      "source": [
        "## 【区間内の個数】"
      ],
      "metadata": {
        "id": "tPAv2-pUhSQw"
      }
    },
    {
      "cell_type": "markdown",
      "source": [
        "### <font color=\"Red\">FINAL問題</font> 【区間内の個数】区間内の個数 4"
      ],
      "metadata": {
        "id": "AiKrqLsqn2ZF"
      }
    },
    {
      "cell_type": "markdown",
      "source": [
        "input\n",
        "```\n",
        "10 2 7\n",
        "1 2 3 4 5 6 7 8 9 10\n",
        "```\n",
        "```\n",
        "8 1 3\n",
        "1 3 8 3 1 8 8 1\n",
        "```"
      ],
      "metadata": {
        "id": "RJrz4H8ftU82"
      }
    },
    {
      "cell_type": "code",
      "source": [
        "# 2022.3.15\n",
        "# Status : completed 2022.3.19\n",
        "\n",
        "input_count = 0    # Reset counter\n",
        "\n",
        "def main():\n",
        "    n, x, y = map(int, input().split())\n",
        "    a = [int(z) for z in input().split()]\n",
        "    b = []\n",
        "    s = [0]\n",
        "\n",
        "    for i in a:\n",
        "        if i % 2 == 0:\n",
        "            b.append(1)\n",
        "        else:\n",
        "            b.append(0)\n",
        "\n",
        "    for j in b:\n",
        "        s.append(s[-1] + j)\n",
        "\n",
        "    print(a)\n",
        "    print(b)\n",
        "    print(s)\n",
        "    print(s[y + 1] - s[x])\n",
        "\n",
        "\n",
        "main()"
      ],
      "metadata": {
        "colab": {
          "base_uri": "https://localhost:8080/"
        },
        "outputId": "f4aa601e-dda3-4ba9-c715-076893d3925c",
        "id": "fDarNmiwtqDY"
      },
      "execution_count": null,
      "outputs": [
        {
          "output_type": "stream",
          "name": "stdout",
          "text": [
            "[1, 3, 8, 3, 1, 8, 8, 1]\n",
            "[0, 0, 1, 0, 0, 1, 1, 0]\n",
            "[0, 0, 0, 1, 1, 1, 2, 3, 3]\n",
            "1\n"
          ]
        }
      ]
    },
    {
      "cell_type": "markdown",
      "source": [
        "### STEP: 3 区間内の個数 3"
      ],
      "metadata": {
        "id": "fCG2A8zonwtw"
      }
    },
    {
      "cell_type": "markdown",
      "source": [
        "input\n",
        "```\n",
        "2 7\n",
        "1 2 3 4 5 6 7 8 9 10\n",
        "```\n",
        "```\n",
        "1 6\n",
        "3 6 9 8 8 4 1 2 3 5\n",
        "```"
      ],
      "metadata": {
        "id": "qQNxJ9MSrybY"
      }
    },
    {
      "cell_type": "code",
      "source": [
        "# 2022.3.15\n",
        "# Status : Ready\n",
        "\n",
        "input_count = 0    # Reset counter\n",
        "\n",
        "def main():\n",
        "    x, y = map(int, input().split())\n",
        "    a = [int(z) for z in input().split()]\n",
        "    b = []\n",
        "    s = [0]\n",
        "\n",
        "    for i in a:\n",
        "        if i % 2 == 0:\n",
        "            b.append(1)\n",
        "        else:\n",
        "            b.append(0)\n",
        "\n",
        "    for j in b:\n",
        "        s.append(s[-1] + j)\n",
        "\n",
        "    print(a)\n",
        "    print(b)\n",
        "    print(s)\n",
        "    print(s[y + 1] - s[x])\n",
        "\n",
        "\n",
        "main()"
      ],
      "metadata": {
        "colab": {
          "base_uri": "https://localhost:8080/"
        },
        "outputId": "fe2785a8-b9d1-46fa-905e-86bf49c669c9",
        "id": "mfx22lJhsPah"
      },
      "execution_count": null,
      "outputs": [
        {
          "output_type": "stream",
          "name": "stdout",
          "text": [
            "[3, 6, 9, 8, 8, 4, 1, 2, 3, 5]\n",
            "[0, 1, 0, 1, 1, 1, 0, 1, 0, 0]\n",
            "[0, 0, 1, 1, 2, 3, 4, 4, 5, 5, 5]\n",
            "4\n"
          ]
        }
      ]
    },
    {
      "cell_type": "markdown",
      "source": [
        "### STEP: 2 区間内の個数 2"
      ],
      "metadata": {
        "id": "8PQzElNEnuGs"
      }
    },
    {
      "cell_type": "markdown",
      "source": [
        "input\n",
        "```\n",
        "1 4 7 8 9 6 3 1 5 8\n",
        "```"
      ],
      "metadata": {
        "id": "CBA8-I3PrNv3"
      }
    },
    {
      "cell_type": "code",
      "source": [
        "# 2022.3.15\n",
        "# Status : Ready\n",
        "\n",
        "input_count = 0    # Reset counter\n",
        "\n",
        "def main():\n",
        "    a = [int(z) for z in input().split()]\n",
        "    b = []\n",
        "    s = [0]\n",
        "\n",
        "    for i in a:\n",
        "        if i % 2 == 0:\n",
        "            b.append(1)\n",
        "        else:\n",
        "            b.append(0)\n",
        "\n",
        "    for j in b:\n",
        "        s.append(s[-1] + j)\n",
        "\n",
        "    print(a)\n",
        "    print(b)\n",
        "    print(s)\n",
        "    print(s[8] - s[2])\n",
        "\n",
        "\n",
        "main()"
      ],
      "metadata": {
        "colab": {
          "base_uri": "https://localhost:8080/"
        },
        "id": "b1Y_NMochIfR",
        "outputId": "eb06ded9-7f54-4991-a761-8b90666c4a71"
      },
      "execution_count": null,
      "outputs": [
        {
          "output_type": "stream",
          "name": "stdout",
          "text": [
            "[1, 4, 7, 8, 9, 6, 3, 1, 5, 8]\n",
            "[0, 1, 0, 1, 0, 1, 0, 0, 0, 1]\n",
            "[0, 0, 1, 1, 2, 2, 3, 3, 3, 3, 4]\n",
            "2\n"
          ]
        }
      ]
    },
    {
      "cell_type": "markdown",
      "source": [
        "### STEP: 1 区間内の個数 1"
      ],
      "metadata": {
        "id": "iQQIX7LNhZ1Y"
      }
    },
    {
      "cell_type": "markdown",
      "source": [
        "10 個の整数 a_0, a_1, a_2, ..., a_9 をそれぞれ\n",
        "\n",
        "<font color=\"Red\">`1 5 9 7 5 3 2 5 8 4`</font>\n",
        "\n",
        "としたとき、この数列の a_2 から a_7 までの偶数の個数を、累積和を使うことで求め、一行で出力してください。\n",
        "\n",
        "(ヒント)\n",
        "\n",
        "まず、数列 a の各要素が偶数かどうかを格納する数列 <font color=\"Red\">`b_0, b_1, ..., b_9`</font> を以下のように考えてみます。\n",
        "```\n",
        "0 ≦ i ≦ 9 において\n",
        "a_i が偶数ならば b_i = 1\n",
        "a_i が奇数ならば b_i = 0\n",
        "```\n",
        "\n",
        "例えば <font color=\"Red\">`a = {1, 2, 3, 4, 5}`</font> ならば <font color=\"Red\">`b = {0, 1, 0, 1, 0}`</font> となります。\n",
        "\n",
        "ここで、数列 b の 1 の個数は、数列 a の偶数の個数と同じだとわかります。<br>\n",
        "つまり、数列 b で累積和を用いて、b_2 から b_7 までの総和を求めればよいです。<br>\n",
        "b の累積和をとった数列を s とすると、b_2 から b_7 までの総和は、<font color=\"Red\">`s[8] - s[2]`</font> で求めることができます。"
      ],
      "metadata": {
        "id": "MJnuiDXQhq5E"
      }
    },
    {
      "cell_type": "code",
      "source": [
        "# 2022.3.15\n",
        "# Status : Ready\n",
        "\n",
        "input_count = 0    # Reset counter\n",
        "\n",
        "def main():\n",
        "    a_org = '1 5 9 7 5 3 2 5 8 4'\n",
        "    a = [int(z) for z in a_org.split()]\n",
        "    b = []\n",
        "    s = [0]\n",
        "\n",
        "    for i in a:\n",
        "        if i % 2 == 0:\n",
        "            b.append(1)\n",
        "        else:\n",
        "            b.append(0)\n",
        "\n",
        "    for j in b:\n",
        "        s.append(s[-1] + j)\n",
        "\n",
        "    print(b)\n",
        "    print(s)\n",
        "    print(s[8] - s[2])\n",
        "\n",
        "\n",
        "main()"
      ],
      "metadata": {
        "id": "iM0aAeZYJbGC",
        "colab": {
          "base_uri": "https://localhost:8080/"
        },
        "outputId": "a7e801b8-b4f8-438e-f06e-32fcb577b802"
      },
      "execution_count": null,
      "outputs": [
        {
          "output_type": "stream",
          "name": "stdout",
          "text": [
            "[0, 0, 0, 0, 0, 0, 1, 0, 1, 1]\n",
            "[0, 0, 0, 0, 0, 0, 0, 1, 1, 2, 3]\n",
            "1\n"
          ]
        }
      ]
    }
  ]
}